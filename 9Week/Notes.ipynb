{
 "cells": [
  {
   "cell_type": "markdown",
   "metadata": {},
   "source": [
    "## Linguistics Vocab"
   ]
  },
  {
   "cell_type": "raw",
   "metadata": {},
   "source": [
    "orthography: how language is written (e.g. roman alphabet, syllabaries, abugida, logographic)\n",
    "lexicon: all of the words in a language (vocabulary)\n",
    "phonology: set of sounds in a language, expressable with international phonetic alphabet \n",
    "    english has 11-16 vowel sounds depending on your accent but only 5-6 vowel letters\n",
    "    (ghoti = fish)\n",
    "morphology: structures that change the meaning of words (-s for plural)\n",
    "syntax: word order conventions (subject -> verb -> object)\n",
    "semantics: how is meaning constructed\n",
    "discourse: how is a conversation structured"
   ]
  },
  {
   "cell_type": "markdown",
   "metadata": {},
   "source": [
    "## Word Vectors"
   ]
  },
  {
   "cell_type": "code",
   "execution_count": null,
   "metadata": {
    "collapsed": true
   },
   "outputs": [],
   "source": []
  }
 ],
 "metadata": {
  "kernelspec": {
   "display_name": "Python [conda root]",
   "language": "python",
   "name": "conda-root-py"
  },
  "language_info": {
   "codemirror_mode": {
    "name": "ipython",
    "version": 3
   },
   "file_extension": ".py",
   "mimetype": "text/x-python",
   "name": "python",
   "nbconvert_exporter": "python",
   "pygments_lexer": "ipython3",
   "version": "3.5.3"
  }
 },
 "nbformat": 4,
 "nbformat_minor": 2
}
