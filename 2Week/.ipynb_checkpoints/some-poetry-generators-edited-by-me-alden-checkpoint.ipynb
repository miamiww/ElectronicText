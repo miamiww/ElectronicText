{
 "cells": [
  {
   "cell_type": "markdown",
   "metadata": {},
   "source": [
    "# Implementations of early and well-known poetry generators\n",
    "\n",
    "By [Allison Parrish](http://www.decontextualize.com/)\n",
    "Edited by Alden\n",
    "\n",
    "This notebook has some Python implementations of a number of early and well-known poetry generators, including Knowles and Tenney's *A House of Dust*, Strachey's love letter generator and Nick Montfort's *Taroko Gorge*."
   ]
  },
  {
   "cell_type": "markdown",
   "metadata": {},
   "source": [
    "## To Make a Dadaist Poem\n",
    "\n",
    "Original written by [Tristan Tzara](http://www.391.org/manifestos/1920-dada-manifesto-feeble-love-bitter-love-tristan-tzara.html#.WnPkJYJOndd) in 1920."
   ]
  },
  {
   "cell_type": "code",
   "execution_count": 2,
   "metadata": {},
   "outputs": [
    {
     "name": "stdout",
     "output_type": "stream",
     "text": [
      "and Tell and sand, visage away. lifeless hand wrinkled cold\n",
      "frown, the Ozymandias, land Nothing them, colossal kings:\n",
      "antique boundless them that things, sculptor on beside\n",
      "traveller stone stamped said: sneer and of near Which And\n",
      "wreck, and The on its lies, vast desert... the the that\n",
      "mocked bare those appear: 'My a Mighty, ye these whose king\n",
      "sands a heart words Of yet on remains. trunkless the these\n",
      "The lone shattered legs Round sunk, fed: survive, far\n",
      "passions I an Look Stand And stretch pedestal and well name\n",
      "of of works, lip, the that Who Two that on in level\n",
      "despair!' met my from read command, and Half is decay\n"
     ]
    }
   ],
   "source": [
    "import random\n",
    "import textwrap\n",
    "\n",
    "#here we make an imporoved version of ozymandias by percy shelley\n",
    "ozymandias = \"\"\"\n",
    "I met a traveller from an antique land\n",
    "Who said: Two vast and trunkless legs of stone\n",
    "Stand in the desert... near them, on the sand,\n",
    "Half sunk, a shattered visage lies, whose frown,\n",
    "And wrinkled lip, and sneer of cold command,\n",
    "Tell that its sculptor well those passions read\n",
    "Which yet survive, stamped on these lifeless things,\n",
    "The hand that mocked them and the heart that fed:\n",
    "\n",
    "And on the pedestal these words appear:\n",
    "'My name is Ozymandias, king of kings:\n",
    "Look on my works, ye Mighty, and despair!'\n",
    "Nothing beside remains. Round the decay\n",
    "Of that colossal wreck, boundless and bare\n",
    "The lone and level sands stretch far away.\"\"\"\n",
    "\n",
    "words = ozymandias.split()\n",
    "random.shuffle(words)\n",
    "\n",
    "print(textwrap.fill(\" \".join(words), 60))"
   ]
  },
  {
   "cell_type": "markdown",
   "metadata": {},
   "source": [
    "## Love Letter Generator\n",
    "\n",
    "Original by Christopher Strachey, written for the Manchester Mark I in 1952. [Read more here](https://grandtextauto.soe.ucsc.edu/2005/08/01/christopher-strachey-first-digital-artist/).\n",
    "\n",
    "Vocabulary based on [this implementation](https://github.com/gingerbeardman/loveletter/blob/master/index.php)."
   ]
  },
  {
   "cell_type": "code",
   "execution_count": 1,
   "metadata": {
    "collapsed": true
   },
   "outputs": [],
   "source": [
    "import random\n",
    "import requests\n",
    "import time\n",
    "from bs4 import BeautifulSoup\n",
    "from textblob import TextBlob"
   ]
  },
  {
   "cell_type": "code",
   "execution_count": 2,
   "metadata": {
    "collapsed": true
   },
   "outputs": [],
   "source": [
    "url = \"https://www.reddit.com/r/Poetry/\"\n",
    "\n",
    "def get_page(count):\n",
    "    response = requests.get(url, params={'count':count})\n",
    "    html = response.text\n",
    "    soup = BeautifulSoup(html, 'html.parser')\n",
    "    titles = soup.select('.md')\n",
    "    output = []\n",
    "    for title in titles:\n",
    "        clean_title = title.text.strip()\n",
    "        output.append(clean_title)\n",
    "    return output"
   ]
  },
  {
   "cell_type": "code",
   "execution_count": 3,
   "metadata": {
    "collapsed": true
   },
   "outputs": [],
   "source": [
    "start = 0\n",
    "all_titles = []\n",
    "while start < 501:\n",
    "    results = get_page(str(start))\n",
    "    for r in results:\n",
    "        all_titles.append(r)\n",
    "    time.sleep(0.5)\n",
    "    start = start + 25"
   ]
  },
  {
   "cell_type": "code",
   "execution_count": 4,
   "metadata": {
    "collapsed": true
   },
   "outputs": [],
   "source": [
    "adjs = []\n",
    "for title in all_titles:\n",
    "    blob = TextBlob(title)\n",
    "    for tag in blob.tags:\n",
    "        if tag[1]=='JJ':\n",
    "            word = tag[0]\n",
    "            adjs.append(word)\n",
    "adjs = [x for x in adjs if x != '[']\n",
    "adjs = [x for x in adjs if x != ']']\n"
   ]
  },
  {
   "cell_type": "code",
   "execution_count": 5,
   "metadata": {
    "collapsed": true
   },
   "outputs": [],
   "source": [
    "nouns = []\n",
    "for title in all_titles:\n",
    "    blob = TextBlob(title)\n",
    "    for tag in blob.tags:\n",
    "        if tag[1]=='NN':\n",
    "            word = tag[0]\n",
    "            nouns.append(word)\n",
    "nouns = [x for x in nouns if x != '[']\n",
    "nouns = [x for x in nouns if x != ']']"
   ]
  },
  {
   "cell_type": "code",
   "execution_count": 6,
   "metadata": {
    "collapsed": true
   },
   "outputs": [],
   "source": [
    "advs = []\n",
    "for title in all_titles:\n",
    "    blob = TextBlob(title)\n",
    "    for tag in blob.tags:\n",
    "        if tag[1]=='RB':\n",
    "            word = tag[0]\n",
    "            advs.append(word)\n",
    "advs = [x for x in advs if x != '[']\n",
    "advs = [x for x in advs if x != ']']"
   ]
  },
  {
   "cell_type": "code",
   "execution_count": 7,
   "metadata": {
    "collapsed": true
   },
   "outputs": [],
   "source": [
    "verbs = []\n",
    "for title in all_titles:\n",
    "    blob = TextBlob(title)\n",
    "    for tag in blob.tags:\n",
    "        if tag[1]=='VB' or tag[1]=='VBD' or tag[1]=='VBG' or tag[1]=='VBN':\n",
    "            word = tag[0]\n",
    "            verbs.append(word)\n",
    "verbs = [x for x in verbs if x != '[']\n",
    "verbs = [x for x in verbs if x != ']']"
   ]
  },
  {
   "cell_type": "code",
   "execution_count": 8,
   "metadata": {},
   "outputs": [
    {
     "name": "stdout",
     "output_type": "stream",
     "text": [
      "Own Community,\n",
      "\n",
      "You are my general right: my open trick: my following\n",
      "poetry. My Offer post your rhyming. My menu promote your\n",
      "help.\n",
      "\n",
      "Yours now,\n",
      "M.W.W.\n"
     ]
    }
   ],
   "source": [
    "# textwrap library used to \"wrap\" the text at a particular length\n",
    "import textwrap\n",
    "\n",
    "# output begins with salutation\n",
    "output = random.choice(adjs).capitalize() + \" \" + random.choice(nouns).capitalize() + \",\\n\"\n",
    "output += \"\\n\"\n",
    "\n",
    "# inside this loop, build the phrases. strachey implemented \"short\" phrases\n",
    "# and \"long\" phrases; two or more \"short\" phrases in a row have special\n",
    "# formatting rules, so we need to know what the last phrase kind was in\n",
    "# order to generate the output.\n",
    "history = []\n",
    "body = \"\"\n",
    "for i in range(5):\n",
    "    kind = random.choice([\"short\", \"long\"])\n",
    "    if kind == \"long\":\n",
    "        # adjectives and adverbs will be present only 50% of the time\n",
    "        line = \" \".join([\n",
    "            \"My\",\n",
    "            random.choice([random.choice(adjs), \"\"]),\n",
    "            random.choice(nouns),\n",
    "            random.choice([random.choice(advs), \"\"]),\n",
    "            random.choice(verbs),\n",
    "            \"your\",\n",
    "            random.choice([random.choice(adjs), \"\"]),\n",
    "            random.choice(nouns)])\n",
    "        body += line\n",
    "    else:\n",
    "        adj_noun = random.choice(adjs) + \" \" + random.choice(nouns)\n",
    "        # if the last phrase was \"short,\" use truncated form\n",
    "        if len(history) > 0 and history[-1] == \"short\":\n",
    "            body += \": my \" + adj_noun\n",
    "        else:\n",
    "            body += \"You are my \" + adj_noun\n",
    "    body += \". \"\n",
    "    history.append(kind)\n",
    "# clean up output\n",
    "body = body.replace(\"  \", \" \")\n",
    "body = body.replace(\". :\", \":\")\n",
    "# put everything together\n",
    "output += textwrap.fill(body, 60)\n",
    "output += \"\\n\\nYours \" + random.choice(advs) + \",\\n\"\n",
    "output += \"M.W.W.\"\n",
    "print(output)"
   ]
  },
  {
   "cell_type": "markdown",
   "metadata": {},
   "source": [
    "## A House of Dust\n",
    "\n",
    "Original written in Fortran in 1967 by Alison Knowles and James Tenney. [ELMCIP entry](https://elmcip.net/creative-work/house-dust). [More information](http://blog.calarts.edu/2009/09/10/alison-knowles-james-tenney-and-the-house-of-dust-at-calarts/). [Watch Alison Knowles read from this piece](https://www.youtube.com/watch?v=-68Z708lFsY)."
   ]
  },
  {
   "cell_type": "code",
   "execution_count": 12,
   "metadata": {},
   "outputs": [],
   "source": [
    "import codecs"
   ]
  },
  {
   "cell_type": "code",
   "execution_count": 18,
   "metadata": {},
   "outputs": [],
   "source": [
    "materials = [\n",
    "    'brick',\n",
    "    'broken dishes',\n",
    "    'discarded clothing',\n",
    "    'dust',\n",
    "    'glass',\n",
    "    'leaves',\n",
    "    'mud',\n",
    "    'paper',\n",
    "    'plastic',\n",
    "    'roots',\n",
    "    'sand',\n",
    "    'steel',\n",
    "    'stone',\n",
    "    'straw',\n",
    "    'tin',\n",
    "    'weeds',\n",
    "    'wood'\n",
    "]\n",
    "secret_materials = []\n",
    "for material in materials:\n",
    "    secret_material = codecs.encode(material, 'rot_13')\n",
    "    secret_materials.append(secret_material)"
   ]
  },
  {
   "cell_type": "code",
   "execution_count": 21,
   "metadata": {
    "collapsed": true
   },
   "outputs": [],
   "source": [
    "locations = [\n",
    "    'among high mountains',\n",
    "    'among other houses',\n",
    "    'among small hills',\n",
    "    'by a river',\n",
    "    'by an abandoned lake',\n",
    "    'by the sea',\n",
    "    'in a cold, windy climate',\n",
    "    'in a deserted airport',\n",
    "    'in a deserted church',\n",
    "    'in a deserted factory',\n",
    "    'in a green, mossy terrain',\n",
    "    'in a hot climate',\n",
    "    'in a metropolis',\n",
    "    'in a place with both heavy rain and bright sun',\n",
    "    'in an overpopulated area',\n",
    "    'in dense woods',\n",
    "    'in heavy jungle undergrowth',\n",
    "    'in japan',\n",
    "    'in michigan',\n",
    "    'in southern france',\n",
    "    'inside a mountain',\n",
    "    'on an island',\n",
    "    'on the sea',\n",
    "    'underwater'\n",
    "]\n",
    "secret_locations = []\n",
    "for location in locations:\n",
    "    secret_location = codecs.encode(location, 'rot_13')\n",
    "    secret_locations.append(secret_location)"
   ]
  },
  {
   "cell_type": "code",
   "execution_count": 27,
   "metadata": {
    "collapsed": true
   },
   "outputs": [],
   "source": [
    "lights = [\n",
    "    'all available lighting',\n",
    "    'candles',\n",
    "    'electricity',\n",
    "    'natural light'\n",
    "]\n",
    "secret_lights = []\n",
    "for light in lights:\n",
    "    secret_light = codecs.encode(light, 'rot_13')\n",
    "    secret_lights.append(secret_light)"
   ]
  },
  {
   "cell_type": "code",
   "execution_count": 28,
   "metadata": {
    "collapsed": true
   },
   "outputs": [],
   "source": [
    "inhabitants = [\n",
    "    'all races of men represented wearing predominantly red clothing',\n",
    "    'children and old people',\n",
    "    'collectors of all types',\n",
    "    'fishermen and families',\n",
    "    'french and german speaking people',\n",
    "    'friends',\n",
    "    'friends and enemies',\n",
    "    'horses and birds',\n",
    "    'little boys',\n",
    "    'lovers',\n",
    "    'people from many walks of life',\n",
    "    'people speaking many languages wearing little or no clothing',\n",
    "    'people who eat a great deal',\n",
    "    'people who enjoy eating together',\n",
    "    'people who love to read',\n",
    "    'people who sleep almost all the time',\n",
    "    'people who sleep very little',\n",
    "    'various birds and fish',\n",
    "    'vegetarians',\n",
    "    'very tall people'\n",
    "]\n",
    "secret_inhabitants = []\n",
    "for inhabitant in inhabitants:\n",
    "    secret_inhabitant = codecs.encode(inhabitant, 'rot_13')\n",
    "    secret_inhabitants.append(secret_inhabitant)"
   ]
  },
  {
   "cell_type": "code",
   "execution_count": 29,
   "metadata": {},
   "outputs": [
    {
     "name": "stdout",
     "output_type": "stream",
     "text": [
      "\n",
      "A house of fgrry\n",
      "     va wncna\n",
      "          using ryrpgevpvgl\n",
      "                inhabited by ubefrf naq oveqf\n",
      "\n",
      "A house of qvfpneqrq pybguvat\n",
      "     va n qrfregrq puhepu\n",
      "          using pnaqyrf\n",
      "                inhabited by irtrgnevnaf\n",
      "\n",
      "A house of qvfpneqrq pybguvat\n",
      "     va wncna\n",
      "          using pnaqyrf\n",
      "                inhabited by crbcyr jub fyrrc nyzbfg nyy gur gvzr\n",
      "\n",
      "A house of fnaq\n",
      "     va wncna\n",
      "          using ryrpgevpvgl\n",
      "                inhabited by irel gnyy crbcyr\n",
      "\n",
      "A house of zhq\n",
      "     va n qrfregrq snpgbel\n",
      "          using nyy ninvynoyr yvtugvat\n",
      "                inhabited by crbcyr jub ybir gb ernq\n",
      "\n",
      "A house of jrrqf\n",
      "     va n qrfregrq puhepu\n",
      "          using ryrpgevpvgl\n",
      "                inhabited by crbcyr jub fyrrc nyzbfg nyy gur gvzr\n",
      "\n",
      "A house of cynfgvp\n",
      "     va zvpuvtna\n",
      "          using pnaqyrf\n",
      "                inhabited by crbcyr jub ybir gb ernq\n"
     ]
    }
   ],
   "source": [
    "stanza_count = 7\n",
    "for i in range(stanza_count):\n",
    "    print()\n",
    "    print(\"A house of \" + random.choice(secret_materials))\n",
    "    print(\"     \" + random.choice(secret_locations))\n",
    "    print(\"          using \" + random.choice(secret_lights))\n",
    "    print(\"                inhabited by \" + random.choice(secret_inhabitants))"
   ]
  },
  {
   "cell_type": "markdown",
   "metadata": {},
   "source": [
    "## Taroko Gorge\n",
    "\n",
    "[Original](http://nickm.com/taroko_gorge/) by [Nick Montfort](http://nickm.com/). [ELMCIP entry here](https://elmcip.net/creative-work/taroko-gorge).\n",
    "\n",
    "ED NOTE: This poem was OK but needed more monkeys so I fixed it"
   ]
  },
  {
   "cell_type": "code",
   "execution_count": 55,
   "metadata": {
    "collapsed": true
   },
   "outputs": [],
   "source": [
    "above = ['brow', 'mist', 'shape', 'layer', 'the crag', 'stone', 'forest', 'height']\n",
    "below = ['flow', 'basin', 'shape', 'vein', 'rippling', 'stone', 'cove', 'rock']\n",
    "transitive = ['command', 'pace', 'roam', 'trail', 'frame', 'sweep', 'exercise', 'range']\n",
    "imperative = ['track', 'shade', 'translate', 'stamp', 'progress through', 'direct', 'run', 'enter']\n",
    "intransitive = ['linger', 'dwell', 'rest', 'relax', 'hold', 'dream', 'hum']\n",
    "texture = ['rough', 'fine']\n",
    "adjectives = ['encompassing', 'sinuous', 'straight', 'objective', 'arched', 'cool', 'clear', 'dim', 'driven']\n",
    "monkey_types = ['good monkey', 'fine monkey', 'fun monkey', 'capital A monkey', 'lovely monkey', 'nice monkey']\n",
    "monkey_stuff = ['🐒','🍌','🙈','🙊','🙉','🐵','🌴']"
   ]
  },
  {
   "cell_type": "code",
   "execution_count": 60,
   "metadata": {
    "collapsed": true
   },
   "outputs": [],
   "source": [
    "def path():\n",
    "    plural = random.sample([\"s\", \"\"], k=2)\n",
    "    words = random.choice(above) \n",
    "    if words == \"forest\" and random.randrange(4) == 0:\n",
    "        words = \"monkeys\" + \" \" + random.choice(transitive + imperative) + \" \" + random.choice(monkey_stuff)\n",
    "    else:\n",
    "        words += plural[0] + \" \" + random.choice(transitive) + plural[1]\n",
    "    words += \" the \" + random.choice(below) + random.choice([\"s\", \"\"]) + \".\"\n",
    "    return words.capitalize()"
   ]
  },
  {
   "cell_type": "code",
   "execution_count": 67,
   "metadata": {
    "collapsed": true
   },
   "outputs": [],
   "source": [
    "def cave():\n",
    "    adjs = adjectives[:] + random.sample(texture, 1)\n",
    "    return \"  \" + random.choice(imperative + intransitive) + \" \" + random.choice(monkey_stuff) + \" \" + \\\n",
    "        \" \".join(random.sample(adjs, random.randrange(1, 4))) + \" —\""
   ]
  },
  {
   "cell_type": "code",
   "execution_count": 68,
   "metadata": {
    "collapsed": true
   },
   "outputs": [],
   "source": [
    "def site():\n",
    "    if random.randrange(2) == 0:\n",
    "        words = random.choice(monkey_stuff) + \" \" + random.choice(above) + \" \" + random.choice(monkey_types)\n",
    "    else:\n",
    "        words = random.choice(below) + \" \" + random.choice(monkey_types)\n",
    "    words += \"s \" + random.choice(intransitive) + \".\"\n",
    "    return words.capitalize()"
   ]
  },
  {
   "cell_type": "code",
   "execution_count": 69,
   "metadata": {},
   "outputs": [
    {
     "name": "stdout",
     "output_type": "stream",
     "text": [
      "Brows trail the stone.\n",
      "Rock lovely monkeys hum.\n",
      "🍌 brow good monkeys hum.\n",
      "Brows sweep the coves.\n",
      "\n",
      "  stamp 🐵 sinuous —\n",
      "\n",
      "Brows sweep the cove.\n",
      "Shape good monkeys dream.\n",
      "The crags range the shapes.\n",
      "\n",
      "  hum 🐵 objective sinuous cool —\n",
      "\n",
      "The crags roam the shape.\n",
      "🙈 stone capital a monkeys rest.\n",
      "Height sweeps the rock.\n",
      "\n",
      "  relax 🐒 objective encompassing sinuous —\n",
      "\n",
      "Monkeys translate 🐒 the vein.\n",
      "Forest sweeps the vein.\n",
      "\n",
      "  dwell 🌴 arched straight —\n",
      "\n",
      "Mist paces the stone.\n",
      "Mist ranges the ripplings.\n",
      "\n",
      "  linger 🐒 straight dim —\n",
      "\n",
      "Layer commands the veins.\n",
      "Rippling capital a monkeys hold.\n",
      "Layers trail the cove.\n",
      "\n",
      "  translate 🙈 arched fine objective —\n",
      "\n",
      "Stone roams the ripplings.\n",
      "Forest ranges the rock.\n",
      "\n",
      "  relax 🙊 dim —\n",
      "\n",
      "Layers trail the flow.\n",
      "Layer roams the veins.\n",
      "\n",
      "  shade 🌴 dim objective encompassing —\n",
      "\n",
      "Shape frames the flow.\n",
      "Shape fine monkeys linger.\n",
      "Vein nice monkeys rest.\n",
      "Forest exercises the stones.\n",
      "\n",
      "  shade 🍌 cool —\n",
      "\n",
      "Shape trails the vein.\n",
      "Heights trail the cove.\n",
      "\n",
      "  rest 🌴 encompassing —\n",
      "\n"
     ]
    }
   ],
   "source": [
    "stanza_count = 10\n",
    "for repeat in range(stanza_count):\n",
    "    line_count = random.randrange(3, 6)\n",
    "    for i in range(line_count):\n",
    "        if i == 0:\n",
    "            print(path())\n",
    "        elif i == line_count - 2:\n",
    "            print(path())\n",
    "        elif i == line_count - 1:\n",
    "            print()\n",
    "            print(cave())\n",
    "            print()\n",
    "        else:\n",
    "            print(site())"
   ]
  },
  {
   "cell_type": "code",
   "execution_count": null,
   "metadata": {
    "collapsed": true
   },
   "outputs": [],
   "source": []
  }
 ],
 "metadata": {
  "kernelspec": {
   "display_name": "Python [default]",
   "language": "python",
   "name": "python3"
  },
  "language_info": {
   "codemirror_mode": {
    "name": "ipython",
    "version": 3
   },
   "file_extension": ".py",
   "mimetype": "text/x-python",
   "name": "python",
   "nbconvert_exporter": "python",
   "pygments_lexer": "ipython3",
   "version": "3.5.3"
  }
 },
 "nbformat": 4,
 "nbformat_minor": 2
}
