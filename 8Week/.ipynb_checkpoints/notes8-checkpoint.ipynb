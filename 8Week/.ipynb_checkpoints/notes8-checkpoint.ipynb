{
 "cells": [
  {
   "cell_type": "markdown",
   "metadata": {},
   "source": [
    "### Tuples"
   ]
  },
  {
   "cell_type": "code",
   "execution_count": 1,
   "metadata": {
    "collapsed": true
   },
   "outputs": [],
   "source": [
    "t = (1,2,3,4,5)"
   ]
  },
  {
   "cell_type": "code",
   "execution_count": 2,
   "metadata": {},
   "outputs": [
    {
     "data": {
      "text/plain": [
       "tuple"
      ]
     },
     "execution_count": 2,
     "metadata": {},
     "output_type": "execute_result"
    }
   ],
   "source": [
    "type(t)"
   ]
  },
  {
   "cell_type": "code",
   "execution_count": 3,
   "metadata": {},
   "outputs": [
    {
     "data": {
      "text/plain": [
       "3"
      ]
     },
     "execution_count": 3,
     "metadata": {},
     "output_type": "execute_result"
    }
   ],
   "source": [
    "t[2]"
   ]
  },
  {
   "cell_type": "code",
   "execution_count": 4,
   "metadata": {},
   "outputs": [
    {
     "data": {
      "text/plain": [
       "(3, 4, 5)"
      ]
     },
     "execution_count": 4,
     "metadata": {},
     "output_type": "execute_result"
    }
   ],
   "source": [
    "t[2:5]"
   ]
  },
  {
   "cell_type": "code",
   "execution_count": 5,
   "metadata": {},
   "outputs": [
    {
     "ename": "AttributeError",
     "evalue": "'tuple' object has no attribute 'append'",
     "output_type": "error",
     "traceback": [
      "\u001b[0;31m---------------------------------------------------------------------------\u001b[0m",
      "\u001b[0;31mAttributeError\u001b[0m                            Traceback (most recent call last)",
      "\u001b[0;32m<ipython-input-5-7189fd0c031d>\u001b[0m in \u001b[0;36m<module>\u001b[0;34m()\u001b[0m\n\u001b[0;32m----> 1\u001b[0;31m \u001b[0mt\u001b[0m\u001b[0;34m.\u001b[0m\u001b[0mappend\u001b[0m\u001b[0;34m(\u001b[0m\u001b[0;36m17\u001b[0m\u001b[0;34m)\u001b[0m\u001b[0;34m\u001b[0m\u001b[0m\n\u001b[0m",
      "\u001b[0;31mAttributeError\u001b[0m: 'tuple' object has no attribute 'append'"
     ]
    }
   ],
   "source": [
    "t.append(17)"
   ]
  },
  {
   "cell_type": "markdown",
   "metadata": {},
   "source": [
    "tuples can't be changed"
   ]
  },
  {
   "cell_type": "code",
   "execution_count": 6,
   "metadata": {},
   "outputs": [
    {
     "ename": "TypeError",
     "evalue": "'tuple' object does not support item assignment",
     "output_type": "error",
     "traceback": [
      "\u001b[0;31m---------------------------------------------------------------------------\u001b[0m",
      "\u001b[0;31mTypeError\u001b[0m                                 Traceback (most recent call last)",
      "\u001b[0;32m<ipython-input-6-45c829c807fe>\u001b[0m in \u001b[0;36m<module>\u001b[0;34m()\u001b[0m\n\u001b[0;32m----> 1\u001b[0;31m \u001b[0mt\u001b[0m\u001b[0;34m[\u001b[0m\u001b[0;36m3\u001b[0m\u001b[0;34m]\u001b[0m \u001b[0;34m=\u001b[0m \u001b[0;36m1245\u001b[0m\u001b[0;34m\u001b[0m\u001b[0m\n\u001b[0m",
      "\u001b[0;31mTypeError\u001b[0m: 'tuple' object does not support item assignment"
     ]
    }
   ],
   "source": [
    "t[3] = 1245"
   ]
  },
  {
   "cell_type": "markdown",
   "metadata": {},
   "source": [
    "more efficient memory allocation"
   ]
  },
  {
   "cell_type": "code",
   "execution_count": 7,
   "metadata": {
    "collapsed": true
   },
   "outputs": [],
   "source": [
    "my_stuff = {}"
   ]
  },
  {
   "cell_type": "code",
   "execution_count": 8,
   "metadata": {
    "collapsed": true
   },
   "outputs": [],
   "source": [
    "my_stuff[\"cheese\"] = 1"
   ]
  },
  {
   "cell_type": "code",
   "execution_count": 9,
   "metadata": {
    "collapsed": true
   },
   "outputs": [],
   "source": [
    "my_stuff[1245] = 3"
   ]
  },
  {
   "cell_type": "code",
   "execution_count": 10,
   "metadata": {},
   "outputs": [
    {
     "data": {
      "text/plain": [
       "{'cheese': 1, 1245: 3}"
      ]
     },
     "execution_count": 10,
     "metadata": {},
     "output_type": "execute_result"
    }
   ],
   "source": [
    "my_stuff"
   ]
  },
  {
   "cell_type": "code",
   "execution_count": 12,
   "metadata": {},
   "outputs": [
    {
     "ename": "TypeError",
     "evalue": "unhashable type: 'list'",
     "output_type": "error",
     "traceback": [
      "\u001b[0;31m---------------------------------------------------------------------------\u001b[0m",
      "\u001b[0;31mTypeError\u001b[0m                                 Traceback (most recent call last)",
      "\u001b[0;32m<ipython-input-12-42408b3306b1>\u001b[0m in \u001b[0;36m<module>\u001b[0;34m()\u001b[0m\n\u001b[0;32m----> 1\u001b[0;31m \u001b[0mmy_stuff\u001b[0m\u001b[0;34m[\u001b[0m \u001b[0;34m[\u001b[0m\u001b[0;34m'a'\u001b[0m\u001b[0;34m,\u001b[0m\u001b[0;34m'b'\u001b[0m\u001b[0;34m]\u001b[0m\u001b[0;34m]\u001b[0m \u001b[0;34m=\u001b[0m \u001b[0;36m6\u001b[0m\u001b[0;34m\u001b[0m\u001b[0m\n\u001b[0m",
      "\u001b[0;31mTypeError\u001b[0m: unhashable type: 'list'"
     ]
    }
   ],
   "source": [
    "my_stuff[ ['a','b']] = 6"
   ]
  },
  {
   "cell_type": "markdown",
   "metadata": {},
   "source": [
    "lists cannot be keys in a dictionary, tuples can, because they cannot change"
   ]
  },
  {
   "cell_type": "code",
   "execution_count": 15,
   "metadata": {
    "collapsed": true
   },
   "outputs": [],
   "source": [
    "my_stuff[ ('a', 'b')] = 6"
   ]
  },
  {
   "cell_type": "code",
   "execution_count": 16,
   "metadata": {},
   "outputs": [
    {
     "data": {
      "text/plain": [
       "{'cheese': 1, 1245: 3, ('a', 'b'): 6}"
      ]
     },
     "execution_count": 16,
     "metadata": {},
     "output_type": "execute_result"
    }
   ],
   "source": [
    "my_stuff"
   ]
  },
  {
   "cell_type": "code",
   "execution_count": 17,
   "metadata": {},
   "outputs": [
    {
     "data": {
      "text/plain": [
       "9"
      ]
     },
     "execution_count": 17,
     "metadata": {},
     "output_type": "execute_result"
    }
   ],
   "source": [
    "len('asdfadfad')"
   ]
  },
  {
   "cell_type": "markdown",
   "metadata": {},
   "source": [
    "### functions"
   ]
  },
  {
   "cell_type": "code",
   "execution_count": 23,
   "metadata": {
    "collapsed": true
   },
   "outputs": [],
   "source": [
    "my_name = 'alden jOnes'"
   ]
  },
  {
   "cell_type": "code",
   "execution_count": 24,
   "metadata": {},
   "outputs": [
    {
     "data": {
      "text/plain": [
       "'Alden jones'"
      ]
     },
     "execution_count": 24,
     "metadata": {},
     "output_type": "execute_result"
    }
   ],
   "source": [
    "my_name.capitalize()"
   ]
  },
  {
   "cell_type": "code",
   "execution_count": 25,
   "metadata": {},
   "outputs": [
    {
     "data": {
      "text/plain": [
       "'Alden jOnes'"
      ]
     },
     "execution_count": 25,
     "metadata": {},
     "output_type": "execute_result"
    }
   ],
   "source": [
    "my_name[0].upper() + my_name[1:]"
   ]
  },
  {
   "cell_type": "code",
   "execution_count": 26,
   "metadata": {
    "collapsed": true
   },
   "outputs": [],
   "source": [
    "def uclower(s):\n",
    "    return s[0].upper + s[1:]"
   ]
  },
  {
   "cell_type": "code",
   "execution_count": 28,
   "metadata": {},
   "outputs": [
    {
     "ename": "TypeError",
     "evalue": "unsupported operand type(s) for +: 'builtin_function_or_method' and 'str'",
     "output_type": "error",
     "traceback": [
      "\u001b[0;31m---------------------------------------------------------------------------\u001b[0m",
      "\u001b[0;31mTypeError\u001b[0m                                 Traceback (most recent call last)",
      "\u001b[0;32m<ipython-input-28-d9453864b389>\u001b[0m in \u001b[0;36m<module>\u001b[0;34m()\u001b[0m\n\u001b[0;32m----> 1\u001b[0;31m \u001b[0muclower\u001b[0m\u001b[0;34m(\u001b[0m\u001b[0mmy_name\u001b[0m\u001b[0;34m)\u001b[0m\u001b[0;34m\u001b[0m\u001b[0m\n\u001b[0m",
      "\u001b[0;32m<ipython-input-26-9f706dd1df9c>\u001b[0m in \u001b[0;36muclower\u001b[0;34m(s)\u001b[0m\n\u001b[1;32m      1\u001b[0m \u001b[0;32mdef\u001b[0m \u001b[0muclower\u001b[0m\u001b[0;34m(\u001b[0m\u001b[0ms\u001b[0m\u001b[0;34m)\u001b[0m\u001b[0;34m:\u001b[0m\u001b[0;34m\u001b[0m\u001b[0m\n\u001b[0;32m----> 2\u001b[0;31m     \u001b[0;32mreturn\u001b[0m \u001b[0ms\u001b[0m\u001b[0;34m[\u001b[0m\u001b[0;36m0\u001b[0m\u001b[0;34m]\u001b[0m\u001b[0;34m.\u001b[0m\u001b[0mupper\u001b[0m \u001b[0;34m+\u001b[0m \u001b[0ms\u001b[0m\u001b[0;34m[\u001b[0m\u001b[0;36m1\u001b[0m\u001b[0;34m:\u001b[0m\u001b[0;34m]\u001b[0m\u001b[0;34m\u001b[0m\u001b[0m\n\u001b[0m",
      "\u001b[0;31mTypeError\u001b[0m: unsupported operand type(s) for +: 'builtin_function_or_method' and 'str'"
     ]
    }
   ],
   "source": [
    "uclower(my_name)"
   ]
  },
  {
   "cell_type": "code",
   "execution_count": 29,
   "metadata": {},
   "outputs": [
    {
     "ename": "TypeError",
     "evalue": "unsupported operand type(s) for +: 'builtin_function_or_method' and 'str'",
     "output_type": "error",
     "traceback": [
      "\u001b[0;31m---------------------------------------------------------------------------\u001b[0m",
      "\u001b[0;31mTypeError\u001b[0m                                 Traceback (most recent call last)",
      "\u001b[0;32m<ipython-input-29-6a2538f08fa2>\u001b[0m in \u001b[0;36m<module>\u001b[0;34m()\u001b[0m\n\u001b[0;32m----> 1\u001b[0;31m \u001b[0muclower\u001b[0m\u001b[0;34m(\u001b[0m\u001b[0;34m\"alden jones\"\u001b[0m\u001b[0;34m)\u001b[0m\u001b[0;34m\u001b[0m\u001b[0m\n\u001b[0m",
      "\u001b[0;32m<ipython-input-26-9f706dd1df9c>\u001b[0m in \u001b[0;36muclower\u001b[0;34m(s)\u001b[0m\n\u001b[1;32m      1\u001b[0m \u001b[0;32mdef\u001b[0m \u001b[0muclower\u001b[0m\u001b[0;34m(\u001b[0m\u001b[0ms\u001b[0m\u001b[0;34m)\u001b[0m\u001b[0;34m:\u001b[0m\u001b[0;34m\u001b[0m\u001b[0m\n\u001b[0;32m----> 2\u001b[0;31m     \u001b[0;32mreturn\u001b[0m \u001b[0ms\u001b[0m\u001b[0;34m[\u001b[0m\u001b[0;36m0\u001b[0m\u001b[0;34m]\u001b[0m\u001b[0;34m.\u001b[0m\u001b[0mupper\u001b[0m \u001b[0;34m+\u001b[0m \u001b[0ms\u001b[0m\u001b[0;34m[\u001b[0m\u001b[0;36m1\u001b[0m\u001b[0;34m:\u001b[0m\u001b[0;34m]\u001b[0m\u001b[0;34m\u001b[0m\u001b[0m\n\u001b[0m",
      "\u001b[0;31mTypeError\u001b[0m: unsupported operand type(s) for +: 'builtin_function_or_method' and 'str'"
     ]
    }
   ],
   "source": [
    "uclower(\"alden jones\")"
   ]
  },
  {
   "cell_type": "code",
   "execution_count": 32,
   "metadata": {
    "collapsed": true
   },
   "outputs": [],
   "source": [
    "def smooshes(bob, horatio):\n",
    "    bob_stuff = bob[:3]\n",
    "    horatio_stuff = horatio[-3:]\n",
    "    bobatio = bob_stuff + horatio_stuff\n",
    "    return bobatio"
   ]
  },
  {
   "cell_type": "code",
   "execution_count": 35,
   "metadata": {},
   "outputs": [
    {
     "data": {
      "text/plain": [
       "'hello!'"
      ]
     },
     "execution_count": 35,
     "metadata": {},
     "output_type": "execute_result"
    }
   ],
   "source": [
    "smooshes(\"help me this is weird\", \"this is my chello!\")"
   ]
  },
  {
   "cell_type": "code",
   "execution_count": 36,
   "metadata": {
    "collapsed": true
   },
   "outputs": [],
   "source": [
    "def abc():\n",
    "    return 7"
   ]
  },
  {
   "cell_type": "code",
   "execution_count": 37,
   "metadata": {},
   "outputs": [
    {
     "data": {
      "text/plain": [
       "7"
      ]
     },
     "execution_count": 37,
     "metadata": {},
     "output_type": "execute_result"
    }
   ],
   "source": [
    "abc()"
   ]
  },
  {
   "cell_type": "code",
   "execution_count": 41,
   "metadata": {},
   "outputs": [
    {
     "data": {
      "text/plain": [
       "function"
      ]
     },
     "execution_count": 41,
     "metadata": {},
     "output_type": "execute_result"
    }
   ],
   "source": [
    "type(abc)"
   ]
  },
  {
   "cell_type": "markdown",
   "metadata": {},
   "source": [
    "## markov chains\n",
    "\n",
    "wait but first\n",
    "\n",
    "## ngrams"
   ]
  },
  {
   "cell_type": "code",
   "execution_count": 42,
   "metadata": {
    "collapsed": true
   },
   "outputs": [],
   "source": [
    "text = \"condescendences\""
   ]
  },
  {
   "cell_type": "markdown",
   "metadata": {},
   "source": [
    "character n-gram analysis of this string, length 2:\n",
    "\n",
    "    * co\n",
    "    * on\n",
    "    * nd \n",
    "    * de\n",
    "    * es\n",
    "    * sc\n",
    "    * ce \n",
    "    * en\n",
    "    * nd\n",
    "    * de\n",
    "    * en\n",
    "    * nc\n",
    "    * ce\n",
    "    * es"
   ]
  },
  {
   "cell_type": "code",
   "execution_count": 52,
   "metadata": {},
   "outputs": [],
   "source": [
    "words = open(\"../rwet/frost.txt\",'r').read().split()"
   ]
  },
  {
   "cell_type": "code",
   "execution_count": 59,
   "metadata": {},
   "outputs": [],
   "source": [
    "pairs = [ (words[i], words[i+1] ) for i in range(len(words) - 1)]"
   ]
  },
  {
   "cell_type": "code",
   "execution_count": 60,
   "metadata": {
    "collapsed": true
   },
   "outputs": [],
   "source": [
    "# does the same thing\n",
    "pairs = []\n",
    "for i in range(len(words)-1):\n",
    "    this_pair = (words[i], words[i+1])\n",
    "    pairs.append(this_pair)"
   ]
  },
  {
   "cell_type": "code",
   "execution_count": 61,
   "metadata": {},
   "outputs": [],
   "source": [
    "from collections import Counter"
   ]
  },
  {
   "cell_type": "code",
   "execution_count": 62,
   "metadata": {
    "collapsed": true
   },
   "outputs": [],
   "source": [
    "pair_count = Counter(pairs)"
   ]
  },
  {
   "cell_type": "code",
   "execution_count": 63,
   "metadata": {},
   "outputs": [
    {
     "data": {
      "text/plain": [
       "Counter({('And', 'be'): 1,\n",
       "         ('And', 'both'): 1,\n",
       "         ('And', 'having'): 1,\n",
       "         ('And', 'looked'): 1,\n",
       "         ('And', 'sorry'): 1,\n",
       "         ('And', 'that'): 1,\n",
       "         ('Because', 'it'): 1,\n",
       "         ('Had', 'worn'): 1,\n",
       "         ('I', 'could'): 2,\n",
       "         ('I', 'doubted'): 1,\n",
       "         ('I', 'kept'): 1,\n",
       "         ('I', 'shall'): 1,\n",
       "         ('I', 'should'): 1,\n",
       "         ('I', 'stood'): 1,\n",
       "         ('I', 'took'): 1,\n",
       "         ('In', 'leaves'): 1,\n",
       "         ('I—', 'I'): 1,\n",
       "         ('Oh,', 'I'): 1,\n",
       "         ('Somewhere', 'ages'): 1,\n",
       "         ('Then', 'took'): 1,\n",
       "         ('Though', 'as'): 1,\n",
       "         ('To', 'where'): 1,\n",
       "         ('Two', 'roads'): 2,\n",
       "         ('Yet', 'knowing'): 1,\n",
       "         ('a', 'sigh'): 1,\n",
       "         ('a', 'wood,'): 1,\n",
       "         ('a', 'yellow'): 1,\n",
       "         ('about', 'the'): 1,\n",
       "         ('ages', 'and'): 1,\n",
       "         ('ages', 'hence:'): 1,\n",
       "         ('all', 'the'): 1,\n",
       "         ('and', 'I—'): 1,\n",
       "         ('and', 'ages'): 1,\n",
       "         ('and', 'wanted'): 1,\n",
       "         ('another', 'day!'): 1,\n",
       "         ('as', 'I'): 1,\n",
       "         ('as', 'fair,'): 1,\n",
       "         ('as', 'far'): 1,\n",
       "         ('as', 'for'): 1,\n",
       "         ('as', 'just'): 1,\n",
       "         ('back.', 'I'): 1,\n",
       "         ('be', 'one'): 1,\n",
       "         ('be', 'telling'): 1,\n",
       "         ('bent', 'in'): 1,\n",
       "         ('better', 'claim,'): 1,\n",
       "         ('black.', 'Oh,'): 1,\n",
       "         ('both', 'And'): 1,\n",
       "         ('both', 'that'): 1,\n",
       "         ('by,', 'And'): 1,\n",
       "         ('claim,', 'Because'): 1,\n",
       "         ('come', 'back.'): 1,\n",
       "         ('could', 'To'): 1,\n",
       "         ('could', 'not'): 1,\n",
       "         ('day!', 'Yet'): 1,\n",
       "         ('diverged', 'in'): 2,\n",
       "         ('doubted', 'if'): 1,\n",
       "         ('down', 'one'): 1,\n",
       "         ('equally', 'lay'): 1,\n",
       "         ('ever', 'come'): 1,\n",
       "         ('fair,', 'And'): 1,\n",
       "         ('far', 'as'): 1,\n",
       "         ('first', 'for'): 1,\n",
       "         ('for', 'another'): 1,\n",
       "         ('for', 'that'): 1,\n",
       "         ('grassy', 'and'): 1,\n",
       "         ('had', 'trodden'): 1,\n",
       "         ('has', 'made'): 1,\n",
       "         ('having', 'perhaps'): 1,\n",
       "         ('hence:', 'Two'): 1,\n",
       "         ('how', 'way'): 1,\n",
       "         ('if', 'I'): 1,\n",
       "         ('in', 'a'): 2,\n",
       "         ('in', 'the'): 1,\n",
       "         ('it', 'bent'): 1,\n",
       "         ('it', 'was'): 1,\n",
       "         ('just', 'as'): 1,\n",
       "         ('kept', 'the'): 1,\n",
       "         ('knowing', 'how'): 1,\n",
       "         ('lay', 'In'): 1,\n",
       "         ('leads', 'on'): 1,\n",
       "         ('leaves', 'no'): 1,\n",
       "         ('less', 'travelled'): 1,\n",
       "         ('long', 'I'): 1,\n",
       "         ('looked', 'down'): 1,\n",
       "         ('made', 'all'): 1,\n",
       "         ('morning', 'equally'): 1,\n",
       "         ('no', 'step'): 1,\n",
       "         ('not', 'travel'): 1,\n",
       "         ('on', 'to'): 1,\n",
       "         ('one', 'as'): 1,\n",
       "         ('one', 'less'): 1,\n",
       "         ('one', 'traveler,'): 1,\n",
       "         ('other,', 'as'): 1,\n",
       "         ('passing', 'there'): 1,\n",
       "         ('perhaps', 'the'): 1,\n",
       "         ('really', 'about'): 1,\n",
       "         ('roads', 'diverged'): 2,\n",
       "         ('same,', 'And'): 1,\n",
       "         ('shall', 'be'): 1,\n",
       "         ('should', 'ever'): 1,\n",
       "         ('sigh', 'Somewhere'): 1,\n",
       "         ('sorry', 'I'): 1,\n",
       "         ('step', 'had'): 1,\n",
       "         ('stood', 'And'): 1,\n",
       "         ('telling', 'this'): 1,\n",
       "         ('that', 'has'): 1,\n",
       "         ('that', 'morning'): 1,\n",
       "         ('that', 'the'): 1,\n",
       "         ('the', 'better'): 1,\n",
       "         ('the', 'difference.'): 1,\n",
       "         ('the', 'first'): 1,\n",
       "         ('the', 'one'): 1,\n",
       "         ('the', 'other,'): 1,\n",
       "         ('the', 'passing'): 1,\n",
       "         ('the', 'same,'): 1,\n",
       "         ('the', 'undergrowth;'): 1,\n",
       "         ('them', 'really'): 1,\n",
       "         ('there', 'Had'): 1,\n",
       "         ('this', 'with'): 1,\n",
       "         ('to', 'way,'): 1,\n",
       "         ('took', 'the'): 2,\n",
       "         ('travel', 'both'): 1,\n",
       "         ('traveler,', 'long'): 1,\n",
       "         ('travelled', 'by,'): 1,\n",
       "         ('trodden', 'black.'): 1,\n",
       "         ('undergrowth;', 'Then'): 1,\n",
       "         ('wanted', 'wear;'): 1,\n",
       "         ('was', 'grassy'): 1,\n",
       "         ('way', 'leads'): 1,\n",
       "         ('way,', 'I'): 1,\n",
       "         ('wear;', 'Though'): 1,\n",
       "         ('where', 'it'): 1,\n",
       "         ('with', 'a'): 1,\n",
       "         ('wood,', 'And'): 1,\n",
       "         ('wood,', 'and'): 1,\n",
       "         ('worn', 'them'): 1,\n",
       "         ('yellow', 'wood,'): 1})"
      ]
     },
     "execution_count": 63,
     "metadata": {},
     "output_type": "execute_result"
    }
   ],
   "source": [
    "pair_count"
   ]
  },
  {
   "cell_type": "code",
   "execution_count": 65,
   "metadata": {},
   "outputs": [
    {
     "data": {
      "text/plain": [
       "[(('roads', 'diverged'), 2),\n",
       " (('diverged', 'in'), 2),\n",
       " (('took', 'the'), 2),\n",
       " (('Two', 'roads'), 2),\n",
       " (('in', 'a'), 2)]"
      ]
     },
     "execution_count": 65,
     "metadata": {},
     "output_type": "execute_result"
    }
   ],
   "source": [
    "pair_count.most_common(5)"
   ]
  },
  {
   "cell_type": "code",
   "execution_count": 66,
   "metadata": {
    "collapsed": true
   },
   "outputs": [],
   "source": [
    "frost_str = open('frost.txt').read()"
   ]
  },
  {
   "cell_type": "code",
   "execution_count": 68,
   "metadata": {},
   "outputs": [],
   "source": [
    "chair_pairs  = [ (frost_str[i], frost_str[i+1] ) for i in range(len(frost_str) - 1)]"
   ]
  },
  {
   "cell_type": "code",
   "execution_count": 69,
   "metadata": {},
   "outputs": [
    {
     "data": {
      "text/plain": [
       "[((' ', 't'), 22),\n",
       " (('t', 'h'), 20),\n",
       " (('d', ' '), 19),\n",
       " (('e', ' '), 18),\n",
       " ((' ', 'a'), 16),\n",
       " (('s', ' '), 16),\n",
       " (('h', 'e'), 16),\n",
       " (('e', 'r'), 13),\n",
       " (('t', ' '), 12),\n",
       " (('n', 'd'), 10)]"
      ]
     },
     "execution_count": 69,
     "metadata": {},
     "output_type": "execute_result"
    }
   ],
   "source": [
    "Counter(chair_pairs).most_common(10)"
   ]
  },
  {
   "cell_type": "markdown",
   "metadata": {},
   "source": [
    "## n-grams of arbitrary length"
   ]
  },
  {
   "cell_type": "code",
   "execution_count": 71,
   "metadata": {
    "collapsed": true
   },
   "outputs": [],
   "source": [
    "def ngramZ(lingth, tyxt):\n",
    "    return [tuple(tyxt[i:i+lingth]) for i in range(len(tyxt) - lingth + 1)]"
   ]
  },
  {
   "cell_type": "code",
   "execution_count": 72,
   "metadata": {},
   "outputs": [
    {
     "data": {
      "text/plain": [
       "[('c', 'o'),\n",
       " ('o', 'n'),\n",
       " ('n', 'd'),\n",
       " ('d', 'e'),\n",
       " ('e', 's'),\n",
       " ('s', 'c'),\n",
       " ('c', 'e'),\n",
       " ('e', 'n'),\n",
       " ('n', 'd'),\n",
       " ('d', 'e'),\n",
       " ('e', 'n'),\n",
       " ('n', 'c'),\n",
       " ('c', 'e'),\n",
       " ('e', 's')]"
      ]
     },
     "execution_count": 72,
     "metadata": {},
     "output_type": "execute_result"
    }
   ],
   "source": [
    "ngramZ(2, 'condescendences')"
   ]
  },
  {
   "cell_type": "code",
   "execution_count": 73,
   "metadata": {},
   "outputs": [
    {
     "data": {
      "text/plain": [
       "[('T', 'w', 'o', ' ', 'r', 'o', 'a', 'd', 's', ' '),\n",
       " ('w', 'o', ' ', 'r', 'o', 'a', 'd', 's', ' ', 'd'),\n",
       " ('o', ' ', 'r', 'o', 'a', 'd', 's', ' ', 'd', 'i'),\n",
       " (' ', 'r', 'o', 'a', 'd', 's', ' ', 'd', 'i', 'v'),\n",
       " ('r', 'o', 'a', 'd', 's', ' ', 'd', 'i', 'v', 'e'),\n",
       " ('o', 'a', 'd', 's', ' ', 'd', 'i', 'v', 'e', 'r'),\n",
       " ('a', 'd', 's', ' ', 'd', 'i', 'v', 'e', 'r', 'g'),\n",
       " ('d', 's', ' ', 'd', 'i', 'v', 'e', 'r', 'g', 'e'),\n",
       " ('s', ' ', 'd', 'i', 'v', 'e', 'r', 'g', 'e', 'd'),\n",
       " (' ', 'd', 'i', 'v', 'e', 'r', 'g', 'e', 'd', ' '),\n",
       " ('d', 'i', 'v', 'e', 'r', 'g', 'e', 'd', ' ', 'i'),\n",
       " ('i', 'v', 'e', 'r', 'g', 'e', 'd', ' ', 'i', 'n'),\n",
       " ('v', 'e', 'r', 'g', 'e', 'd', ' ', 'i', 'n', ' '),\n",
       " ('e', 'r', 'g', 'e', 'd', ' ', 'i', 'n', ' ', 'a'),\n",
       " ('r', 'g', 'e', 'd', ' ', 'i', 'n', ' ', 'a', ' '),\n",
       " ('g', 'e', 'd', ' ', 'i', 'n', ' ', 'a', ' ', 'y'),\n",
       " ('e', 'd', ' ', 'i', 'n', ' ', 'a', ' ', 'y', 'e'),\n",
       " ('d', ' ', 'i', 'n', ' ', 'a', ' ', 'y', 'e', 'l'),\n",
       " (' ', 'i', 'n', ' ', 'a', ' ', 'y', 'e', 'l', 'l'),\n",
       " ('i', 'n', ' ', 'a', ' ', 'y', 'e', 'l', 'l', 'o'),\n",
       " ('n', ' ', 'a', ' ', 'y', 'e', 'l', 'l', 'o', 'w'),\n",
       " (' ', 'a', ' ', 'y', 'e', 'l', 'l', 'o', 'w', ' '),\n",
       " ('a', ' ', 'y', 'e', 'l', 'l', 'o', 'w', ' ', 'w'),\n",
       " (' ', 'y', 'e', 'l', 'l', 'o', 'w', ' ', 'w', 'o'),\n",
       " ('y', 'e', 'l', 'l', 'o', 'w', ' ', 'w', 'o', 'o'),\n",
       " ('e', 'l', 'l', 'o', 'w', ' ', 'w', 'o', 'o', 'd'),\n",
       " ('l', 'l', 'o', 'w', ' ', 'w', 'o', 'o', 'd', ','),\n",
       " ('l', 'o', 'w', ' ', 'w', 'o', 'o', 'd', ',', '\\n'),\n",
       " ('o', 'w', ' ', 'w', 'o', 'o', 'd', ',', '\\n', 'A'),\n",
       " ('w', ' ', 'w', 'o', 'o', 'd', ',', '\\n', 'A', 'n'),\n",
       " (' ', 'w', 'o', 'o', 'd', ',', '\\n', 'A', 'n', 'd'),\n",
       " ('w', 'o', 'o', 'd', ',', '\\n', 'A', 'n', 'd', ' '),\n",
       " ('o', 'o', 'd', ',', '\\n', 'A', 'n', 'd', ' ', 's'),\n",
       " ('o', 'd', ',', '\\n', 'A', 'n', 'd', ' ', 's', 'o'),\n",
       " ('d', ',', '\\n', 'A', 'n', 'd', ' ', 's', 'o', 'r'),\n",
       " (',', '\\n', 'A', 'n', 'd', ' ', 's', 'o', 'r', 'r'),\n",
       " ('\\n', 'A', 'n', 'd', ' ', 's', 'o', 'r', 'r', 'y'),\n",
       " ('A', 'n', 'd', ' ', 's', 'o', 'r', 'r', 'y', ' '),\n",
       " ('n', 'd', ' ', 's', 'o', 'r', 'r', 'y', ' ', 'I'),\n",
       " ('d', ' ', 's', 'o', 'r', 'r', 'y', ' ', 'I', ' '),\n",
       " (' ', 's', 'o', 'r', 'r', 'y', ' ', 'I', ' ', 'c'),\n",
       " ('s', 'o', 'r', 'r', 'y', ' ', 'I', ' ', 'c', 'o'),\n",
       " ('o', 'r', 'r', 'y', ' ', 'I', ' ', 'c', 'o', 'u'),\n",
       " ('r', 'r', 'y', ' ', 'I', ' ', 'c', 'o', 'u', 'l'),\n",
       " ('r', 'y', ' ', 'I', ' ', 'c', 'o', 'u', 'l', 'd'),\n",
       " ('y', ' ', 'I', ' ', 'c', 'o', 'u', 'l', 'd', ' '),\n",
       " (' ', 'I', ' ', 'c', 'o', 'u', 'l', 'd', ' ', 'n'),\n",
       " ('I', ' ', 'c', 'o', 'u', 'l', 'd', ' ', 'n', 'o'),\n",
       " (' ', 'c', 'o', 'u', 'l', 'd', ' ', 'n', 'o', 't'),\n",
       " ('c', 'o', 'u', 'l', 'd', ' ', 'n', 'o', 't', ' '),\n",
       " ('o', 'u', 'l', 'd', ' ', 'n', 'o', 't', ' ', 't'),\n",
       " ('u', 'l', 'd', ' ', 'n', 'o', 't', ' ', 't', 'r'),\n",
       " ('l', 'd', ' ', 'n', 'o', 't', ' ', 't', 'r', 'a'),\n",
       " ('d', ' ', 'n', 'o', 't', ' ', 't', 'r', 'a', 'v'),\n",
       " (' ', 'n', 'o', 't', ' ', 't', 'r', 'a', 'v', 'e'),\n",
       " ('n', 'o', 't', ' ', 't', 'r', 'a', 'v', 'e', 'l'),\n",
       " ('o', 't', ' ', 't', 'r', 'a', 'v', 'e', 'l', ' '),\n",
       " ('t', ' ', 't', 'r', 'a', 'v', 'e', 'l', ' ', 'b'),\n",
       " (' ', 't', 'r', 'a', 'v', 'e', 'l', ' ', 'b', 'o'),\n",
       " ('t', 'r', 'a', 'v', 'e', 'l', ' ', 'b', 'o', 't'),\n",
       " ('r', 'a', 'v', 'e', 'l', ' ', 'b', 'o', 't', 'h'),\n",
       " ('a', 'v', 'e', 'l', ' ', 'b', 'o', 't', 'h', '\\n'),\n",
       " ('v', 'e', 'l', ' ', 'b', 'o', 't', 'h', '\\n', 'A'),\n",
       " ('e', 'l', ' ', 'b', 'o', 't', 'h', '\\n', 'A', 'n'),\n",
       " ('l', ' ', 'b', 'o', 't', 'h', '\\n', 'A', 'n', 'd'),\n",
       " (' ', 'b', 'o', 't', 'h', '\\n', 'A', 'n', 'd', ' '),\n",
       " ('b', 'o', 't', 'h', '\\n', 'A', 'n', 'd', ' ', 'b'),\n",
       " ('o', 't', 'h', '\\n', 'A', 'n', 'd', ' ', 'b', 'e'),\n",
       " ('t', 'h', '\\n', 'A', 'n', 'd', ' ', 'b', 'e', ' '),\n",
       " ('h', '\\n', 'A', 'n', 'd', ' ', 'b', 'e', ' ', 'o'),\n",
       " ('\\n', 'A', 'n', 'd', ' ', 'b', 'e', ' ', 'o', 'n'),\n",
       " ('A', 'n', 'd', ' ', 'b', 'e', ' ', 'o', 'n', 'e'),\n",
       " ('n', 'd', ' ', 'b', 'e', ' ', 'o', 'n', 'e', ' '),\n",
       " ('d', ' ', 'b', 'e', ' ', 'o', 'n', 'e', ' ', 't'),\n",
       " (' ', 'b', 'e', ' ', 'o', 'n', 'e', ' ', 't', 'r'),\n",
       " ('b', 'e', ' ', 'o', 'n', 'e', ' ', 't', 'r', 'a'),\n",
       " ('e', ' ', 'o', 'n', 'e', ' ', 't', 'r', 'a', 'v'),\n",
       " (' ', 'o', 'n', 'e', ' ', 't', 'r', 'a', 'v', 'e'),\n",
       " ('o', 'n', 'e', ' ', 't', 'r', 'a', 'v', 'e', 'l'),\n",
       " ('n', 'e', ' ', 't', 'r', 'a', 'v', 'e', 'l', 'e'),\n",
       " ('e', ' ', 't', 'r', 'a', 'v', 'e', 'l', 'e', 'r'),\n",
       " (' ', 't', 'r', 'a', 'v', 'e', 'l', 'e', 'r', ','),\n",
       " ('t', 'r', 'a', 'v', 'e', 'l', 'e', 'r', ',', ' '),\n",
       " ('r', 'a', 'v', 'e', 'l', 'e', 'r', ',', ' ', 'l'),\n",
       " ('a', 'v', 'e', 'l', 'e', 'r', ',', ' ', 'l', 'o'),\n",
       " ('v', 'e', 'l', 'e', 'r', ',', ' ', 'l', 'o', 'n'),\n",
       " ('e', 'l', 'e', 'r', ',', ' ', 'l', 'o', 'n', 'g'),\n",
       " ('l', 'e', 'r', ',', ' ', 'l', 'o', 'n', 'g', ' '),\n",
       " ('e', 'r', ',', ' ', 'l', 'o', 'n', 'g', ' ', 'I'),\n",
       " ('r', ',', ' ', 'l', 'o', 'n', 'g', ' ', 'I', ' '),\n",
       " (',', ' ', 'l', 'o', 'n', 'g', ' ', 'I', ' ', 's'),\n",
       " (' ', 'l', 'o', 'n', 'g', ' ', 'I', ' ', 's', 't'),\n",
       " ('l', 'o', 'n', 'g', ' ', 'I', ' ', 's', 't', 'o'),\n",
       " ('o', 'n', 'g', ' ', 'I', ' ', 's', 't', 'o', 'o'),\n",
       " ('n', 'g', ' ', 'I', ' ', 's', 't', 'o', 'o', 'd'),\n",
       " ('g', ' ', 'I', ' ', 's', 't', 'o', 'o', 'd', '\\n'),\n",
       " (' ', 'I', ' ', 's', 't', 'o', 'o', 'd', '\\n', 'A'),\n",
       " ('I', ' ', 's', 't', 'o', 'o', 'd', '\\n', 'A', 'n'),\n",
       " (' ', 's', 't', 'o', 'o', 'd', '\\n', 'A', 'n', 'd'),\n",
       " ('s', 't', 'o', 'o', 'd', '\\n', 'A', 'n', 'd', ' '),\n",
       " ('t', 'o', 'o', 'd', '\\n', 'A', 'n', 'd', ' ', 'l'),\n",
       " ('o', 'o', 'd', '\\n', 'A', 'n', 'd', ' ', 'l', 'o'),\n",
       " ('o', 'd', '\\n', 'A', 'n', 'd', ' ', 'l', 'o', 'o'),\n",
       " ('d', '\\n', 'A', 'n', 'd', ' ', 'l', 'o', 'o', 'k'),\n",
       " ('\\n', 'A', 'n', 'd', ' ', 'l', 'o', 'o', 'k', 'e'),\n",
       " ('A', 'n', 'd', ' ', 'l', 'o', 'o', 'k', 'e', 'd'),\n",
       " ('n', 'd', ' ', 'l', 'o', 'o', 'k', 'e', 'd', ' '),\n",
       " ('d', ' ', 'l', 'o', 'o', 'k', 'e', 'd', ' ', 'd'),\n",
       " (' ', 'l', 'o', 'o', 'k', 'e', 'd', ' ', 'd', 'o'),\n",
       " ('l', 'o', 'o', 'k', 'e', 'd', ' ', 'd', 'o', 'w'),\n",
       " ('o', 'o', 'k', 'e', 'd', ' ', 'd', 'o', 'w', 'n'),\n",
       " ('o', 'k', 'e', 'd', ' ', 'd', 'o', 'w', 'n', ' '),\n",
       " ('k', 'e', 'd', ' ', 'd', 'o', 'w', 'n', ' ', 'o'),\n",
       " ('e', 'd', ' ', 'd', 'o', 'w', 'n', ' ', 'o', 'n'),\n",
       " ('d', ' ', 'd', 'o', 'w', 'n', ' ', 'o', 'n', 'e'),\n",
       " (' ', 'd', 'o', 'w', 'n', ' ', 'o', 'n', 'e', ' '),\n",
       " ('d', 'o', 'w', 'n', ' ', 'o', 'n', 'e', ' ', 'a'),\n",
       " ('o', 'w', 'n', ' ', 'o', 'n', 'e', ' ', 'a', 's'),\n",
       " ('w', 'n', ' ', 'o', 'n', 'e', ' ', 'a', 's', ' '),\n",
       " ('n', ' ', 'o', 'n', 'e', ' ', 'a', 's', ' ', 'f'),\n",
       " (' ', 'o', 'n', 'e', ' ', 'a', 's', ' ', 'f', 'a'),\n",
       " ('o', 'n', 'e', ' ', 'a', 's', ' ', 'f', 'a', 'r'),\n",
       " ('n', 'e', ' ', 'a', 's', ' ', 'f', 'a', 'r', ' '),\n",
       " ('e', ' ', 'a', 's', ' ', 'f', 'a', 'r', ' ', 'a'),\n",
       " (' ', 'a', 's', ' ', 'f', 'a', 'r', ' ', 'a', 's'),\n",
       " ('a', 's', ' ', 'f', 'a', 'r', ' ', 'a', 's', ' '),\n",
       " ('s', ' ', 'f', 'a', 'r', ' ', 'a', 's', ' ', 'I'),\n",
       " (' ', 'f', 'a', 'r', ' ', 'a', 's', ' ', 'I', ' '),\n",
       " ('f', 'a', 'r', ' ', 'a', 's', ' ', 'I', ' ', 'c'),\n",
       " ('a', 'r', ' ', 'a', 's', ' ', 'I', ' ', 'c', 'o'),\n",
       " ('r', ' ', 'a', 's', ' ', 'I', ' ', 'c', 'o', 'u'),\n",
       " (' ', 'a', 's', ' ', 'I', ' ', 'c', 'o', 'u', 'l'),\n",
       " ('a', 's', ' ', 'I', ' ', 'c', 'o', 'u', 'l', 'd'),\n",
       " ('s', ' ', 'I', ' ', 'c', 'o', 'u', 'l', 'd', '\\n'),\n",
       " (' ', 'I', ' ', 'c', 'o', 'u', 'l', 'd', '\\n', 'T'),\n",
       " ('I', ' ', 'c', 'o', 'u', 'l', 'd', '\\n', 'T', 'o'),\n",
       " (' ', 'c', 'o', 'u', 'l', 'd', '\\n', 'T', 'o', ' '),\n",
       " ('c', 'o', 'u', 'l', 'd', '\\n', 'T', 'o', ' ', 'w'),\n",
       " ('o', 'u', 'l', 'd', '\\n', 'T', 'o', ' ', 'w', 'h'),\n",
       " ('u', 'l', 'd', '\\n', 'T', 'o', ' ', 'w', 'h', 'e'),\n",
       " ('l', 'd', '\\n', 'T', 'o', ' ', 'w', 'h', 'e', 'r'),\n",
       " ('d', '\\n', 'T', 'o', ' ', 'w', 'h', 'e', 'r', 'e'),\n",
       " ('\\n', 'T', 'o', ' ', 'w', 'h', 'e', 'r', 'e', ' '),\n",
       " ('T', 'o', ' ', 'w', 'h', 'e', 'r', 'e', ' ', 'i'),\n",
       " ('o', ' ', 'w', 'h', 'e', 'r', 'e', ' ', 'i', 't'),\n",
       " (' ', 'w', 'h', 'e', 'r', 'e', ' ', 'i', 't', ' '),\n",
       " ('w', 'h', 'e', 'r', 'e', ' ', 'i', 't', ' ', 'b'),\n",
       " ('h', 'e', 'r', 'e', ' ', 'i', 't', ' ', 'b', 'e'),\n",
       " ('e', 'r', 'e', ' ', 'i', 't', ' ', 'b', 'e', 'n'),\n",
       " ('r', 'e', ' ', 'i', 't', ' ', 'b', 'e', 'n', 't'),\n",
       " ('e', ' ', 'i', 't', ' ', 'b', 'e', 'n', 't', ' '),\n",
       " (' ', 'i', 't', ' ', 'b', 'e', 'n', 't', ' ', 'i'),\n",
       " ('i', 't', ' ', 'b', 'e', 'n', 't', ' ', 'i', 'n'),\n",
       " ('t', ' ', 'b', 'e', 'n', 't', ' ', 'i', 'n', ' '),\n",
       " (' ', 'b', 'e', 'n', 't', ' ', 'i', 'n', ' ', 't'),\n",
       " ('b', 'e', 'n', 't', ' ', 'i', 'n', ' ', 't', 'h'),\n",
       " ('e', 'n', 't', ' ', 'i', 'n', ' ', 't', 'h', 'e'),\n",
       " ('n', 't', ' ', 'i', 'n', ' ', 't', 'h', 'e', ' '),\n",
       " ('t', ' ', 'i', 'n', ' ', 't', 'h', 'e', ' ', 'u'),\n",
       " (' ', 'i', 'n', ' ', 't', 'h', 'e', ' ', 'u', 'n'),\n",
       " ('i', 'n', ' ', 't', 'h', 'e', ' ', 'u', 'n', 'd'),\n",
       " ('n', ' ', 't', 'h', 'e', ' ', 'u', 'n', 'd', 'e'),\n",
       " (' ', 't', 'h', 'e', ' ', 'u', 'n', 'd', 'e', 'r'),\n",
       " ('t', 'h', 'e', ' ', 'u', 'n', 'd', 'e', 'r', 'g'),\n",
       " ('h', 'e', ' ', 'u', 'n', 'd', 'e', 'r', 'g', 'r'),\n",
       " ('e', ' ', 'u', 'n', 'd', 'e', 'r', 'g', 'r', 'o'),\n",
       " (' ', 'u', 'n', 'd', 'e', 'r', 'g', 'r', 'o', 'w'),\n",
       " ('u', 'n', 'd', 'e', 'r', 'g', 'r', 'o', 'w', 't'),\n",
       " ('n', 'd', 'e', 'r', 'g', 'r', 'o', 'w', 't', 'h'),\n",
       " ('d', 'e', 'r', 'g', 'r', 'o', 'w', 't', 'h', ';'),\n",
       " ('e', 'r', 'g', 'r', 'o', 'w', 't', 'h', ';', '\\n'),\n",
       " ('r', 'g', 'r', 'o', 'w', 't', 'h', ';', '\\n', '\\n'),\n",
       " ('g', 'r', 'o', 'w', 't', 'h', ';', '\\n', '\\n', 'T'),\n",
       " ('r', 'o', 'w', 't', 'h', ';', '\\n', '\\n', 'T', 'h'),\n",
       " ('o', 'w', 't', 'h', ';', '\\n', '\\n', 'T', 'h', 'e'),\n",
       " ('w', 't', 'h', ';', '\\n', '\\n', 'T', 'h', 'e', 'n'),\n",
       " ('t', 'h', ';', '\\n', '\\n', 'T', 'h', 'e', 'n', ' '),\n",
       " ('h', ';', '\\n', '\\n', 'T', 'h', 'e', 'n', ' ', 't'),\n",
       " (';', '\\n', '\\n', 'T', 'h', 'e', 'n', ' ', 't', 'o'),\n",
       " ('\\n', '\\n', 'T', 'h', 'e', 'n', ' ', 't', 'o', 'o'),\n",
       " ('\\n', 'T', 'h', 'e', 'n', ' ', 't', 'o', 'o', 'k'),\n",
       " ('T', 'h', 'e', 'n', ' ', 't', 'o', 'o', 'k', ' '),\n",
       " ('h', 'e', 'n', ' ', 't', 'o', 'o', 'k', ' ', 't'),\n",
       " ('e', 'n', ' ', 't', 'o', 'o', 'k', ' ', 't', 'h'),\n",
       " ('n', ' ', 't', 'o', 'o', 'k', ' ', 't', 'h', 'e'),\n",
       " (' ', 't', 'o', 'o', 'k', ' ', 't', 'h', 'e', ' '),\n",
       " ('t', 'o', 'o', 'k', ' ', 't', 'h', 'e', ' ', 'o'),\n",
       " ('o', 'o', 'k', ' ', 't', 'h', 'e', ' ', 'o', 't'),\n",
       " ('o', 'k', ' ', 't', 'h', 'e', ' ', 'o', 't', 'h'),\n",
       " ('k', ' ', 't', 'h', 'e', ' ', 'o', 't', 'h', 'e'),\n",
       " (' ', 't', 'h', 'e', ' ', 'o', 't', 'h', 'e', 'r'),\n",
       " ('t', 'h', 'e', ' ', 'o', 't', 'h', 'e', 'r', ','),\n",
       " ('h', 'e', ' ', 'o', 't', 'h', 'e', 'r', ',', ' '),\n",
       " ('e', ' ', 'o', 't', 'h', 'e', 'r', ',', ' ', 'a'),\n",
       " (' ', 'o', 't', 'h', 'e', 'r', ',', ' ', 'a', 's'),\n",
       " ('o', 't', 'h', 'e', 'r', ',', ' ', 'a', 's', ' '),\n",
       " ('t', 'h', 'e', 'r', ',', ' ', 'a', 's', ' ', 'j'),\n",
       " ('h', 'e', 'r', ',', ' ', 'a', 's', ' ', 'j', 'u'),\n",
       " ('e', 'r', ',', ' ', 'a', 's', ' ', 'j', 'u', 's'),\n",
       " ('r', ',', ' ', 'a', 's', ' ', 'j', 'u', 's', 't'),\n",
       " (',', ' ', 'a', 's', ' ', 'j', 'u', 's', 't', ' '),\n",
       " (' ', 'a', 's', ' ', 'j', 'u', 's', 't', ' ', 'a'),\n",
       " ('a', 's', ' ', 'j', 'u', 's', 't', ' ', 'a', 's'),\n",
       " ('s', ' ', 'j', 'u', 's', 't', ' ', 'a', 's', ' '),\n",
       " (' ', 'j', 'u', 's', 't', ' ', 'a', 's', ' ', 'f'),\n",
       " ('j', 'u', 's', 't', ' ', 'a', 's', ' ', 'f', 'a'),\n",
       " ('u', 's', 't', ' ', 'a', 's', ' ', 'f', 'a', 'i'),\n",
       " ('s', 't', ' ', 'a', 's', ' ', 'f', 'a', 'i', 'r'),\n",
       " ('t', ' ', 'a', 's', ' ', 'f', 'a', 'i', 'r', ','),\n",
       " (' ', 'a', 's', ' ', 'f', 'a', 'i', 'r', ',', '\\n'),\n",
       " ('a', 's', ' ', 'f', 'a', 'i', 'r', ',', '\\n', 'A'),\n",
       " ('s', ' ', 'f', 'a', 'i', 'r', ',', '\\n', 'A', 'n'),\n",
       " (' ', 'f', 'a', 'i', 'r', ',', '\\n', 'A', 'n', 'd'),\n",
       " ('f', 'a', 'i', 'r', ',', '\\n', 'A', 'n', 'd', ' '),\n",
       " ('a', 'i', 'r', ',', '\\n', 'A', 'n', 'd', ' ', 'h'),\n",
       " ('i', 'r', ',', '\\n', 'A', 'n', 'd', ' ', 'h', 'a'),\n",
       " ('r', ',', '\\n', 'A', 'n', 'd', ' ', 'h', 'a', 'v'),\n",
       " (',', '\\n', 'A', 'n', 'd', ' ', 'h', 'a', 'v', 'i'),\n",
       " ('\\n', 'A', 'n', 'd', ' ', 'h', 'a', 'v', 'i', 'n'),\n",
       " ('A', 'n', 'd', ' ', 'h', 'a', 'v', 'i', 'n', 'g'),\n",
       " ('n', 'd', ' ', 'h', 'a', 'v', 'i', 'n', 'g', ' '),\n",
       " ('d', ' ', 'h', 'a', 'v', 'i', 'n', 'g', ' ', 'p'),\n",
       " (' ', 'h', 'a', 'v', 'i', 'n', 'g', ' ', 'p', 'e'),\n",
       " ('h', 'a', 'v', 'i', 'n', 'g', ' ', 'p', 'e', 'r'),\n",
       " ('a', 'v', 'i', 'n', 'g', ' ', 'p', 'e', 'r', 'h'),\n",
       " ('v', 'i', 'n', 'g', ' ', 'p', 'e', 'r', 'h', 'a'),\n",
       " ('i', 'n', 'g', ' ', 'p', 'e', 'r', 'h', 'a', 'p'),\n",
       " ('n', 'g', ' ', 'p', 'e', 'r', 'h', 'a', 'p', 's'),\n",
       " ('g', ' ', 'p', 'e', 'r', 'h', 'a', 'p', 's', ' '),\n",
       " (' ', 'p', 'e', 'r', 'h', 'a', 'p', 's', ' ', 't'),\n",
       " ('p', 'e', 'r', 'h', 'a', 'p', 's', ' ', 't', 'h'),\n",
       " ('e', 'r', 'h', 'a', 'p', 's', ' ', 't', 'h', 'e'),\n",
       " ('r', 'h', 'a', 'p', 's', ' ', 't', 'h', 'e', ' '),\n",
       " ('h', 'a', 'p', 's', ' ', 't', 'h', 'e', ' ', 'b'),\n",
       " ('a', 'p', 's', ' ', 't', 'h', 'e', ' ', 'b', 'e'),\n",
       " ('p', 's', ' ', 't', 'h', 'e', ' ', 'b', 'e', 't'),\n",
       " ('s', ' ', 't', 'h', 'e', ' ', 'b', 'e', 't', 't'),\n",
       " (' ', 't', 'h', 'e', ' ', 'b', 'e', 't', 't', 'e'),\n",
       " ('t', 'h', 'e', ' ', 'b', 'e', 't', 't', 'e', 'r'),\n",
       " ('h', 'e', ' ', 'b', 'e', 't', 't', 'e', 'r', ' '),\n",
       " ('e', ' ', 'b', 'e', 't', 't', 'e', 'r', ' ', 'c'),\n",
       " (' ', 'b', 'e', 't', 't', 'e', 'r', ' ', 'c', 'l'),\n",
       " ('b', 'e', 't', 't', 'e', 'r', ' ', 'c', 'l', 'a'),\n",
       " ('e', 't', 't', 'e', 'r', ' ', 'c', 'l', 'a', 'i'),\n",
       " ('t', 't', 'e', 'r', ' ', 'c', 'l', 'a', 'i', 'm'),\n",
       " ('t', 'e', 'r', ' ', 'c', 'l', 'a', 'i', 'm', ','),\n",
       " ('e', 'r', ' ', 'c', 'l', 'a', 'i', 'm', ',', '\\n'),\n",
       " ('r', ' ', 'c', 'l', 'a', 'i', 'm', ',', '\\n', 'B'),\n",
       " (' ', 'c', 'l', 'a', 'i', 'm', ',', '\\n', 'B', 'e'),\n",
       " ('c', 'l', 'a', 'i', 'm', ',', '\\n', 'B', 'e', 'c'),\n",
       " ('l', 'a', 'i', 'm', ',', '\\n', 'B', 'e', 'c', 'a'),\n",
       " ('a', 'i', 'm', ',', '\\n', 'B', 'e', 'c', 'a', 'u'),\n",
       " ('i', 'm', ',', '\\n', 'B', 'e', 'c', 'a', 'u', 's'),\n",
       " ('m', ',', '\\n', 'B', 'e', 'c', 'a', 'u', 's', 'e'),\n",
       " (',', '\\n', 'B', 'e', 'c', 'a', 'u', 's', 'e', ' '),\n",
       " ('\\n', 'B', 'e', 'c', 'a', 'u', 's', 'e', ' ', 'i'),\n",
       " ('B', 'e', 'c', 'a', 'u', 's', 'e', ' ', 'i', 't'),\n",
       " ('e', 'c', 'a', 'u', 's', 'e', ' ', 'i', 't', ' '),\n",
       " ('c', 'a', 'u', 's', 'e', ' ', 'i', 't', ' ', 'w'),\n",
       " ('a', 'u', 's', 'e', ' ', 'i', 't', ' ', 'w', 'a'),\n",
       " ('u', 's', 'e', ' ', 'i', 't', ' ', 'w', 'a', 's'),\n",
       " ('s', 'e', ' ', 'i', 't', ' ', 'w', 'a', 's', ' '),\n",
       " ('e', ' ', 'i', 't', ' ', 'w', 'a', 's', ' ', 'g'),\n",
       " (' ', 'i', 't', ' ', 'w', 'a', 's', ' ', 'g', 'r'),\n",
       " ('i', 't', ' ', 'w', 'a', 's', ' ', 'g', 'r', 'a'),\n",
       " ('t', ' ', 'w', 'a', 's', ' ', 'g', 'r', 'a', 's'),\n",
       " (' ', 'w', 'a', 's', ' ', 'g', 'r', 'a', 's', 's'),\n",
       " ('w', 'a', 's', ' ', 'g', 'r', 'a', 's', 's', 'y'),\n",
       " ('a', 's', ' ', 'g', 'r', 'a', 's', 's', 'y', ' '),\n",
       " ('s', ' ', 'g', 'r', 'a', 's', 's', 'y', ' ', 'a'),\n",
       " (' ', 'g', 'r', 'a', 's', 's', 'y', ' ', 'a', 'n'),\n",
       " ('g', 'r', 'a', 's', 's', 'y', ' ', 'a', 'n', 'd'),\n",
       " ('r', 'a', 's', 's', 'y', ' ', 'a', 'n', 'd', ' '),\n",
       " ('a', 's', 's', 'y', ' ', 'a', 'n', 'd', ' ', 'w'),\n",
       " ('s', 's', 'y', ' ', 'a', 'n', 'd', ' ', 'w', 'a'),\n",
       " ('s', 'y', ' ', 'a', 'n', 'd', ' ', 'w', 'a', 'n'),\n",
       " ('y', ' ', 'a', 'n', 'd', ' ', 'w', 'a', 'n', 't'),\n",
       " (' ', 'a', 'n', 'd', ' ', 'w', 'a', 'n', 't', 'e'),\n",
       " ('a', 'n', 'd', ' ', 'w', 'a', 'n', 't', 'e', 'd'),\n",
       " ('n', 'd', ' ', 'w', 'a', 'n', 't', 'e', 'd', ' '),\n",
       " ('d', ' ', 'w', 'a', 'n', 't', 'e', 'd', ' ', 'w'),\n",
       " (' ', 'w', 'a', 'n', 't', 'e', 'd', ' ', 'w', 'e'),\n",
       " ('w', 'a', 'n', 't', 'e', 'd', ' ', 'w', 'e', 'a'),\n",
       " ('a', 'n', 't', 'e', 'd', ' ', 'w', 'e', 'a', 'r'),\n",
       " ('n', 't', 'e', 'd', ' ', 'w', 'e', 'a', 'r', ';'),\n",
       " ('t', 'e', 'd', ' ', 'w', 'e', 'a', 'r', ';', '\\n'),\n",
       " ('e', 'd', ' ', 'w', 'e', 'a', 'r', ';', '\\n', 'T'),\n",
       " ('d', ' ', 'w', 'e', 'a', 'r', ';', '\\n', 'T', 'h'),\n",
       " (' ', 'w', 'e', 'a', 'r', ';', '\\n', 'T', 'h', 'o'),\n",
       " ('w', 'e', 'a', 'r', ';', '\\n', 'T', 'h', 'o', 'u'),\n",
       " ('e', 'a', 'r', ';', '\\n', 'T', 'h', 'o', 'u', 'g'),\n",
       " ('a', 'r', ';', '\\n', 'T', 'h', 'o', 'u', 'g', 'h'),\n",
       " ('r', ';', '\\n', 'T', 'h', 'o', 'u', 'g', 'h', ' '),\n",
       " (';', '\\n', 'T', 'h', 'o', 'u', 'g', 'h', ' ', 'a'),\n",
       " ('\\n', 'T', 'h', 'o', 'u', 'g', 'h', ' ', 'a', 's'),\n",
       " ('T', 'h', 'o', 'u', 'g', 'h', ' ', 'a', 's', ' '),\n",
       " ('h', 'o', 'u', 'g', 'h', ' ', 'a', 's', ' ', 'f'),\n",
       " ('o', 'u', 'g', 'h', ' ', 'a', 's', ' ', 'f', 'o'),\n",
       " ('u', 'g', 'h', ' ', 'a', 's', ' ', 'f', 'o', 'r'),\n",
       " ('g', 'h', ' ', 'a', 's', ' ', 'f', 'o', 'r', ' '),\n",
       " ('h', ' ', 'a', 's', ' ', 'f', 'o', 'r', ' ', 't'),\n",
       " (' ', 'a', 's', ' ', 'f', 'o', 'r', ' ', 't', 'h'),\n",
       " ('a', 's', ' ', 'f', 'o', 'r', ' ', 't', 'h', 'a'),\n",
       " ('s', ' ', 'f', 'o', 'r', ' ', 't', 'h', 'a', 't'),\n",
       " (' ', 'f', 'o', 'r', ' ', 't', 'h', 'a', 't', ' '),\n",
       " ('f', 'o', 'r', ' ', 't', 'h', 'a', 't', ' ', 't'),\n",
       " ('o', 'r', ' ', 't', 'h', 'a', 't', ' ', 't', 'h'),\n",
       " ('r', ' ', 't', 'h', 'a', 't', ' ', 't', 'h', 'e'),\n",
       " (' ', 't', 'h', 'a', 't', ' ', 't', 'h', 'e', ' '),\n",
       " ('t', 'h', 'a', 't', ' ', 't', 'h', 'e', ' ', 'p'),\n",
       " ('h', 'a', 't', ' ', 't', 'h', 'e', ' ', 'p', 'a'),\n",
       " ('a', 't', ' ', 't', 'h', 'e', ' ', 'p', 'a', 's'),\n",
       " ('t', ' ', 't', 'h', 'e', ' ', 'p', 'a', 's', 's'),\n",
       " (' ', 't', 'h', 'e', ' ', 'p', 'a', 's', 's', 'i'),\n",
       " ('t', 'h', 'e', ' ', 'p', 'a', 's', 's', 'i', 'n'),\n",
       " ('h', 'e', ' ', 'p', 'a', 's', 's', 'i', 'n', 'g'),\n",
       " ('e', ' ', 'p', 'a', 's', 's', 'i', 'n', 'g', ' '),\n",
       " (' ', 'p', 'a', 's', 's', 'i', 'n', 'g', ' ', 't'),\n",
       " ('p', 'a', 's', 's', 'i', 'n', 'g', ' ', 't', 'h'),\n",
       " ('a', 's', 's', 'i', 'n', 'g', ' ', 't', 'h', 'e'),\n",
       " ('s', 's', 'i', 'n', 'g', ' ', 't', 'h', 'e', 'r'),\n",
       " ('s', 'i', 'n', 'g', ' ', 't', 'h', 'e', 'r', 'e'),\n",
       " ('i', 'n', 'g', ' ', 't', 'h', 'e', 'r', 'e', '\\n'),\n",
       " ('n', 'g', ' ', 't', 'h', 'e', 'r', 'e', '\\n', 'H'),\n",
       " ('g', ' ', 't', 'h', 'e', 'r', 'e', '\\n', 'H', 'a'),\n",
       " (' ', 't', 'h', 'e', 'r', 'e', '\\n', 'H', 'a', 'd'),\n",
       " ('t', 'h', 'e', 'r', 'e', '\\n', 'H', 'a', 'd', ' '),\n",
       " ('h', 'e', 'r', 'e', '\\n', 'H', 'a', 'd', ' ', 'w'),\n",
       " ('e', 'r', 'e', '\\n', 'H', 'a', 'd', ' ', 'w', 'o'),\n",
       " ('r', 'e', '\\n', 'H', 'a', 'd', ' ', 'w', 'o', 'r'),\n",
       " ('e', '\\n', 'H', 'a', 'd', ' ', 'w', 'o', 'r', 'n'),\n",
       " ('\\n', 'H', 'a', 'd', ' ', 'w', 'o', 'r', 'n', ' '),\n",
       " ('H', 'a', 'd', ' ', 'w', 'o', 'r', 'n', ' ', 't'),\n",
       " ('a', 'd', ' ', 'w', 'o', 'r', 'n', ' ', 't', 'h'),\n",
       " ('d', ' ', 'w', 'o', 'r', 'n', ' ', 't', 'h', 'e'),\n",
       " (' ', 'w', 'o', 'r', 'n', ' ', 't', 'h', 'e', 'm'),\n",
       " ('w', 'o', 'r', 'n', ' ', 't', 'h', 'e', 'm', ' '),\n",
       " ('o', 'r', 'n', ' ', 't', 'h', 'e', 'm', ' ', 'r'),\n",
       " ('r', 'n', ' ', 't', 'h', 'e', 'm', ' ', 'r', 'e'),\n",
       " ('n', ' ', 't', 'h', 'e', 'm', ' ', 'r', 'e', 'a'),\n",
       " (' ', 't', 'h', 'e', 'm', ' ', 'r', 'e', 'a', 'l'),\n",
       " ('t', 'h', 'e', 'm', ' ', 'r', 'e', 'a', 'l', 'l'),\n",
       " ('h', 'e', 'm', ' ', 'r', 'e', 'a', 'l', 'l', 'y'),\n",
       " ('e', 'm', ' ', 'r', 'e', 'a', 'l', 'l', 'y', ' '),\n",
       " ('m', ' ', 'r', 'e', 'a', 'l', 'l', 'y', ' ', 'a'),\n",
       " (' ', 'r', 'e', 'a', 'l', 'l', 'y', ' ', 'a', 'b'),\n",
       " ('r', 'e', 'a', 'l', 'l', 'y', ' ', 'a', 'b', 'o'),\n",
       " ('e', 'a', 'l', 'l', 'y', ' ', 'a', 'b', 'o', 'u'),\n",
       " ('a', 'l', 'l', 'y', ' ', 'a', 'b', 'o', 'u', 't'),\n",
       " ('l', 'l', 'y', ' ', 'a', 'b', 'o', 'u', 't', ' '),\n",
       " ('l', 'y', ' ', 'a', 'b', 'o', 'u', 't', ' ', 't'),\n",
       " ('y', ' ', 'a', 'b', 'o', 'u', 't', ' ', 't', 'h'),\n",
       " (' ', 'a', 'b', 'o', 'u', 't', ' ', 't', 'h', 'e'),\n",
       " ('a', 'b', 'o', 'u', 't', ' ', 't', 'h', 'e', ' '),\n",
       " ('b', 'o', 'u', 't', ' ', 't', 'h', 'e', ' ', 's'),\n",
       " ('o', 'u', 't', ' ', 't', 'h', 'e', ' ', 's', 'a'),\n",
       " ('u', 't', ' ', 't', 'h', 'e', ' ', 's', 'a', 'm'),\n",
       " ('t', ' ', 't', 'h', 'e', ' ', 's', 'a', 'm', 'e'),\n",
       " (' ', 't', 'h', 'e', ' ', 's', 'a', 'm', 'e', ','),\n",
       " ('t', 'h', 'e', ' ', 's', 'a', 'm', 'e', ',', '\\n'),\n",
       " ('h', 'e', ' ', 's', 'a', 'm', 'e', ',', '\\n', '\\n'),\n",
       " ('e', ' ', 's', 'a', 'm', 'e', ',', '\\n', '\\n', 'A'),\n",
       " (' ', 's', 'a', 'm', 'e', ',', '\\n', '\\n', 'A', 'n'),\n",
       " ('s', 'a', 'm', 'e', ',', '\\n', '\\n', 'A', 'n', 'd'),\n",
       " ('a', 'm', 'e', ',', '\\n', '\\n', 'A', 'n', 'd', ' '),\n",
       " ('m', 'e', ',', '\\n', '\\n', 'A', 'n', 'd', ' ', 'b'),\n",
       " ('e', ',', '\\n', '\\n', 'A', 'n', 'd', ' ', 'b', 'o'),\n",
       " (',', '\\n', '\\n', 'A', 'n', 'd', ' ', 'b', 'o', 't'),\n",
       " ('\\n', '\\n', 'A', 'n', 'd', ' ', 'b', 'o', 't', 'h'),\n",
       " ('\\n', 'A', 'n', 'd', ' ', 'b', 'o', 't', 'h', ' '),\n",
       " ('A', 'n', 'd', ' ', 'b', 'o', 't', 'h', ' ', 't'),\n",
       " ('n', 'd', ' ', 'b', 'o', 't', 'h', ' ', 't', 'h'),\n",
       " ('d', ' ', 'b', 'o', 't', 'h', ' ', 't', 'h', 'a'),\n",
       " (' ', 'b', 'o', 't', 'h', ' ', 't', 'h', 'a', 't'),\n",
       " ('b', 'o', 't', 'h', ' ', 't', 'h', 'a', 't', ' '),\n",
       " ('o', 't', 'h', ' ', 't', 'h', 'a', 't', ' ', 'm'),\n",
       " ('t', 'h', ' ', 't', 'h', 'a', 't', ' ', 'm', 'o'),\n",
       " ('h', ' ', 't', 'h', 'a', 't', ' ', 'm', 'o', 'r'),\n",
       " (' ', 't', 'h', 'a', 't', ' ', 'm', 'o', 'r', 'n'),\n",
       " ('t', 'h', 'a', 't', ' ', 'm', 'o', 'r', 'n', 'i'),\n",
       " ('h', 'a', 't', ' ', 'm', 'o', 'r', 'n', 'i', 'n'),\n",
       " ('a', 't', ' ', 'm', 'o', 'r', 'n', 'i', 'n', 'g'),\n",
       " ('t', ' ', 'm', 'o', 'r', 'n', 'i', 'n', 'g', ' '),\n",
       " (' ', 'm', 'o', 'r', 'n', 'i', 'n', 'g', ' ', 'e'),\n",
       " ('m', 'o', 'r', 'n', 'i', 'n', 'g', ' ', 'e', 'q'),\n",
       " ('o', 'r', 'n', 'i', 'n', 'g', ' ', 'e', 'q', 'u'),\n",
       " ('r', 'n', 'i', 'n', 'g', ' ', 'e', 'q', 'u', 'a'),\n",
       " ('n', 'i', 'n', 'g', ' ', 'e', 'q', 'u', 'a', 'l'),\n",
       " ('i', 'n', 'g', ' ', 'e', 'q', 'u', 'a', 'l', 'l'),\n",
       " ('n', 'g', ' ', 'e', 'q', 'u', 'a', 'l', 'l', 'y'),\n",
       " ('g', ' ', 'e', 'q', 'u', 'a', 'l', 'l', 'y', ' '),\n",
       " (' ', 'e', 'q', 'u', 'a', 'l', 'l', 'y', ' ', 'l'),\n",
       " ('e', 'q', 'u', 'a', 'l', 'l', 'y', ' ', 'l', 'a'),\n",
       " ('q', 'u', 'a', 'l', 'l', 'y', ' ', 'l', 'a', 'y'),\n",
       " ('u', 'a', 'l', 'l', 'y', ' ', 'l', 'a', 'y', '\\n'),\n",
       " ('a', 'l', 'l', 'y', ' ', 'l', 'a', 'y', '\\n', 'I'),\n",
       " ('l', 'l', 'y', ' ', 'l', 'a', 'y', '\\n', 'I', 'n'),\n",
       " ('l', 'y', ' ', 'l', 'a', 'y', '\\n', 'I', 'n', ' '),\n",
       " ('y', ' ', 'l', 'a', 'y', '\\n', 'I', 'n', ' ', 'l'),\n",
       " (' ', 'l', 'a', 'y', '\\n', 'I', 'n', ' ', 'l', 'e'),\n",
       " ('l', 'a', 'y', '\\n', 'I', 'n', ' ', 'l', 'e', 'a'),\n",
       " ('a', 'y', '\\n', 'I', 'n', ' ', 'l', 'e', 'a', 'v'),\n",
       " ('y', '\\n', 'I', 'n', ' ', 'l', 'e', 'a', 'v', 'e'),\n",
       " ('\\n', 'I', 'n', ' ', 'l', 'e', 'a', 'v', 'e', 's'),\n",
       " ('I', 'n', ' ', 'l', 'e', 'a', 'v', 'e', 's', ' '),\n",
       " ('n', ' ', 'l', 'e', 'a', 'v', 'e', 's', ' ', 'n'),\n",
       " (' ', 'l', 'e', 'a', 'v', 'e', 's', ' ', 'n', 'o'),\n",
       " ('l', 'e', 'a', 'v', 'e', 's', ' ', 'n', 'o', ' '),\n",
       " ('e', 'a', 'v', 'e', 's', ' ', 'n', 'o', ' ', 's'),\n",
       " ('a', 'v', 'e', 's', ' ', 'n', 'o', ' ', 's', 't'),\n",
       " ('v', 'e', 's', ' ', 'n', 'o', ' ', 's', 't', 'e'),\n",
       " ('e', 's', ' ', 'n', 'o', ' ', 's', 't', 'e', 'p'),\n",
       " ('s', ' ', 'n', 'o', ' ', 's', 't', 'e', 'p', ' '),\n",
       " (' ', 'n', 'o', ' ', 's', 't', 'e', 'p', ' ', 'h'),\n",
       " ('n', 'o', ' ', 's', 't', 'e', 'p', ' ', 'h', 'a'),\n",
       " ('o', ' ', 's', 't', 'e', 'p', ' ', 'h', 'a', 'd'),\n",
       " (' ', 's', 't', 'e', 'p', ' ', 'h', 'a', 'd', ' '),\n",
       " ('s', 't', 'e', 'p', ' ', 'h', 'a', 'd', ' ', 't'),\n",
       " ('t', 'e', 'p', ' ', 'h', 'a', 'd', ' ', 't', 'r'),\n",
       " ('e', 'p', ' ', 'h', 'a', 'd', ' ', 't', 'r', 'o'),\n",
       " ('p', ' ', 'h', 'a', 'd', ' ', 't', 'r', 'o', 'd'),\n",
       " (' ', 'h', 'a', 'd', ' ', 't', 'r', 'o', 'd', 'd'),\n",
       " ('h', 'a', 'd', ' ', 't', 'r', 'o', 'd', 'd', 'e'),\n",
       " ('a', 'd', ' ', 't', 'r', 'o', 'd', 'd', 'e', 'n'),\n",
       " ('d', ' ', 't', 'r', 'o', 'd', 'd', 'e', 'n', ' '),\n",
       " (' ', 't', 'r', 'o', 'd', 'd', 'e', 'n', ' ', 'b'),\n",
       " ('t', 'r', 'o', 'd', 'd', 'e', 'n', ' ', 'b', 'l'),\n",
       " ('r', 'o', 'd', 'd', 'e', 'n', ' ', 'b', 'l', 'a'),\n",
       " ('o', 'd', 'd', 'e', 'n', ' ', 'b', 'l', 'a', 'c'),\n",
       " ('d', 'd', 'e', 'n', ' ', 'b', 'l', 'a', 'c', 'k'),\n",
       " ('d', 'e', 'n', ' ', 'b', 'l', 'a', 'c', 'k', '.'),\n",
       " ('e', 'n', ' ', 'b', 'l', 'a', 'c', 'k', '.', '\\n'),\n",
       " ('n', ' ', 'b', 'l', 'a', 'c', 'k', '.', '\\n', 'O'),\n",
       " (' ', 'b', 'l', 'a', 'c', 'k', '.', '\\n', 'O', 'h'),\n",
       " ('b', 'l', 'a', 'c', 'k', '.', '\\n', 'O', 'h', ','),\n",
       " ('l', 'a', 'c', 'k', '.', '\\n', 'O', 'h', ',', ' '),\n",
       " ('a', 'c', 'k', '.', '\\n', 'O', 'h', ',', ' ', 'I'),\n",
       " ('c', 'k', '.', '\\n', 'O', 'h', ',', ' ', 'I', ' '),\n",
       " ('k', '.', '\\n', 'O', 'h', ',', ' ', 'I', ' ', 'k'),\n",
       " ('.', '\\n', 'O', 'h', ',', ' ', 'I', ' ', 'k', 'e'),\n",
       " ('\\n', 'O', 'h', ',', ' ', 'I', ' ', 'k', 'e', 'p'),\n",
       " ('O', 'h', ',', ' ', 'I', ' ', 'k', 'e', 'p', 't'),\n",
       " ('h', ',', ' ', 'I', ' ', 'k', 'e', 'p', 't', ' '),\n",
       " (',', ' ', 'I', ' ', 'k', 'e', 'p', 't', ' ', 't'),\n",
       " (' ', 'I', ' ', 'k', 'e', 'p', 't', ' ', 't', 'h'),\n",
       " ('I', ' ', 'k', 'e', 'p', 't', ' ', 't', 'h', 'e'),\n",
       " (' ', 'k', 'e', 'p', 't', ' ', 't', 'h', 'e', ' '),\n",
       " ('k', 'e', 'p', 't', ' ', 't', 'h', 'e', ' ', 'f'),\n",
       " ('e', 'p', 't', ' ', 't', 'h', 'e', ' ', 'f', 'i'),\n",
       " ('p', 't', ' ', 't', 'h', 'e', ' ', 'f', 'i', 'r'),\n",
       " ('t', ' ', 't', 'h', 'e', ' ', 'f', 'i', 'r', 's'),\n",
       " (' ', 't', 'h', 'e', ' ', 'f', 'i', 'r', 's', 't'),\n",
       " ('t', 'h', 'e', ' ', 'f', 'i', 'r', 's', 't', ' '),\n",
       " ('h', 'e', ' ', 'f', 'i', 'r', 's', 't', ' ', 'f'),\n",
       " ('e', ' ', 'f', 'i', 'r', 's', 't', ' ', 'f', 'o'),\n",
       " (' ', 'f', 'i', 'r', 's', 't', ' ', 'f', 'o', 'r'),\n",
       " ('f', 'i', 'r', 's', 't', ' ', 'f', 'o', 'r', ' '),\n",
       " ('i', 'r', 's', 't', ' ', 'f', 'o', 'r', ' ', 'a'),\n",
       " ('r', 's', 't', ' ', 'f', 'o', 'r', ' ', 'a', 'n'),\n",
       " ('s', 't', ' ', 'f', 'o', 'r', ' ', 'a', 'n', 'o'),\n",
       " ('t', ' ', 'f', 'o', 'r', ' ', 'a', 'n', 'o', 't'),\n",
       " (' ', 'f', 'o', 'r', ' ', 'a', 'n', 'o', 't', 'h'),\n",
       " ('f', 'o', 'r', ' ', 'a', 'n', 'o', 't', 'h', 'e'),\n",
       " ('o', 'r', ' ', 'a', 'n', 'o', 't', 'h', 'e', 'r'),\n",
       " ('r', ' ', 'a', 'n', 'o', 't', 'h', 'e', 'r', ' '),\n",
       " (' ', 'a', 'n', 'o', 't', 'h', 'e', 'r', ' ', 'd'),\n",
       " ('a', 'n', 'o', 't', 'h', 'e', 'r', ' ', 'd', 'a'),\n",
       " ('n', 'o', 't', 'h', 'e', 'r', ' ', 'd', 'a', 'y'),\n",
       " ('o', 't', 'h', 'e', 'r', ' ', 'd', 'a', 'y', '!'),\n",
       " ('t', 'h', 'e', 'r', ' ', 'd', 'a', 'y', '!', '\\n'),\n",
       " ('h', 'e', 'r', ' ', 'd', 'a', 'y', '!', '\\n', 'Y'),\n",
       " ('e', 'r', ' ', 'd', 'a', 'y', '!', '\\n', 'Y', 'e'),\n",
       " ('r', ' ', 'd', 'a', 'y', '!', '\\n', 'Y', 'e', 't'),\n",
       " (' ', 'd', 'a', 'y', '!', '\\n', 'Y', 'e', 't', ' '),\n",
       " ('d', 'a', 'y', '!', '\\n', 'Y', 'e', 't', ' ', 'k'),\n",
       " ('a', 'y', '!', '\\n', 'Y', 'e', 't', ' ', 'k', 'n'),\n",
       " ('y', '!', '\\n', 'Y', 'e', 't', ' ', 'k', 'n', 'o'),\n",
       " ('!', '\\n', 'Y', 'e', 't', ' ', 'k', 'n', 'o', 'w'),\n",
       " ('\\n', 'Y', 'e', 't', ' ', 'k', 'n', 'o', 'w', 'i'),\n",
       " ('Y', 'e', 't', ' ', 'k', 'n', 'o', 'w', 'i', 'n'),\n",
       " ('e', 't', ' ', 'k', 'n', 'o', 'w', 'i', 'n', 'g'),\n",
       " ('t', ' ', 'k', 'n', 'o', 'w', 'i', 'n', 'g', ' '),\n",
       " (' ', 'k', 'n', 'o', 'w', 'i', 'n', 'g', ' ', 'h'),\n",
       " ('k', 'n', 'o', 'w', 'i', 'n', 'g', ' ', 'h', 'o'),\n",
       " ('n', 'o', 'w', 'i', 'n', 'g', ' ', 'h', 'o', 'w'),\n",
       " ('o', 'w', 'i', 'n', 'g', ' ', 'h', 'o', 'w', ' '),\n",
       " ('w', 'i', 'n', 'g', ' ', 'h', 'o', 'w', ' ', 'w'),\n",
       " ('i', 'n', 'g', ' ', 'h', 'o', 'w', ' ', 'w', 'a'),\n",
       " ('n', 'g', ' ', 'h', 'o', 'w', ' ', 'w', 'a', 'y'),\n",
       " ('g', ' ', 'h', 'o', 'w', ' ', 'w', 'a', 'y', ' '),\n",
       " (' ', 'h', 'o', 'w', ' ', 'w', 'a', 'y', ' ', 'l'),\n",
       " ('h', 'o', 'w', ' ', 'w', 'a', 'y', ' ', 'l', 'e'),\n",
       " ('o', 'w', ' ', 'w', 'a', 'y', ' ', 'l', 'e', 'a'),\n",
       " ('w', ' ', 'w', 'a', 'y', ' ', 'l', 'e', 'a', 'd'),\n",
       " (' ', 'w', 'a', 'y', ' ', 'l', 'e', 'a', 'd', 's'),\n",
       " ('w', 'a', 'y', ' ', 'l', 'e', 'a', 'd', 's', ' '),\n",
       " ('a', 'y', ' ', 'l', 'e', 'a', 'd', 's', ' ', 'o'),\n",
       " ('y', ' ', 'l', 'e', 'a', 'd', 's', ' ', 'o', 'n'),\n",
       " (' ', 'l', 'e', 'a', 'd', 's', ' ', 'o', 'n', ' '),\n",
       " ('l', 'e', 'a', 'd', 's', ' ', 'o', 'n', ' ', 't'),\n",
       " ('e', 'a', 'd', 's', ' ', 'o', 'n', ' ', 't', 'o'),\n",
       " ('a', 'd', 's', ' ', 'o', 'n', ' ', 't', 'o', ' '),\n",
       " ('d', 's', ' ', 'o', 'n', ' ', 't', 'o', ' ', 'w'),\n",
       " ('s', ' ', 'o', 'n', ' ', 't', 'o', ' ', 'w', 'a'),\n",
       " (' ', 'o', 'n', ' ', 't', 'o', ' ', 'w', 'a', 'y'),\n",
       " ('o', 'n', ' ', 't', 'o', ' ', 'w', 'a', 'y', ','),\n",
       " ('n', ' ', 't', 'o', ' ', 'w', 'a', 'y', ',', '\\n'),\n",
       " (' ', 't', 'o', ' ', 'w', 'a', 'y', ',', '\\n', 'I'),\n",
       " ('t', 'o', ' ', 'w', 'a', 'y', ',', '\\n', 'I', ' '),\n",
       " ('o', ' ', 'w', 'a', 'y', ',', '\\n', 'I', ' ', 'd'),\n",
       " (' ', 'w', 'a', 'y', ',', '\\n', 'I', ' ', 'd', 'o'),\n",
       " ('w', 'a', 'y', ',', '\\n', 'I', ' ', 'd', 'o', 'u'),\n",
       " ('a', 'y', ',', '\\n', 'I', ' ', 'd', 'o', 'u', 'b'),\n",
       " ('y', ',', '\\n', 'I', ' ', 'd', 'o', 'u', 'b', 't'),\n",
       " (',', '\\n', 'I', ' ', 'd', 'o', 'u', 'b', 't', 'e'),\n",
       " ('\\n', 'I', ' ', 'd', 'o', 'u', 'b', 't', 'e', 'd'),\n",
       " ('I', ' ', 'd', 'o', 'u', 'b', 't', 'e', 'd', ' '),\n",
       " (' ', 'd', 'o', 'u', 'b', 't', 'e', 'd', ' ', 'i'),\n",
       " ('d', 'o', 'u', 'b', 't', 'e', 'd', ' ', 'i', 'f'),\n",
       " ('o', 'u', 'b', 't', 'e', 'd', ' ', 'i', 'f', ' '),\n",
       " ('u', 'b', 't', 'e', 'd', ' ', 'i', 'f', ' ', 'I'),\n",
       " ('b', 't', 'e', 'd', ' ', 'i', 'f', ' ', 'I', ' '),\n",
       " ('t', 'e', 'd', ' ', 'i', 'f', ' ', 'I', ' ', 's'),\n",
       " ('e', 'd', ' ', 'i', 'f', ' ', 'I', ' ', 's', 'h'),\n",
       " ('d', ' ', 'i', 'f', ' ', 'I', ' ', 's', 'h', 'o'),\n",
       " (' ', 'i', 'f', ' ', 'I', ' ', 's', 'h', 'o', 'u'),\n",
       " ('i', 'f', ' ', 'I', ' ', 's', 'h', 'o', 'u', 'l'),\n",
       " ('f', ' ', 'I', ' ', 's', 'h', 'o', 'u', 'l', 'd'),\n",
       " (' ', 'I', ' ', 's', 'h', 'o', 'u', 'l', 'd', ' '),\n",
       " ('I', ' ', 's', 'h', 'o', 'u', 'l', 'd', ' ', 'e'),\n",
       " (' ', 's', 'h', 'o', 'u', 'l', 'd', ' ', 'e', 'v'),\n",
       " ('s', 'h', 'o', 'u', 'l', 'd', ' ', 'e', 'v', 'e'),\n",
       " ('h', 'o', 'u', 'l', 'd', ' ', 'e', 'v', 'e', 'r'),\n",
       " ('o', 'u', 'l', 'd', ' ', 'e', 'v', 'e', 'r', ' '),\n",
       " ('u', 'l', 'd', ' ', 'e', 'v', 'e', 'r', ' ', 'c'),\n",
       " ('l', 'd', ' ', 'e', 'v', 'e', 'r', ' ', 'c', 'o'),\n",
       " ('d', ' ', 'e', 'v', 'e', 'r', ' ', 'c', 'o', 'm'),\n",
       " (' ', 'e', 'v', 'e', 'r', ' ', 'c', 'o', 'm', 'e'),\n",
       " ('e', 'v', 'e', 'r', ' ', 'c', 'o', 'm', 'e', ' '),\n",
       " ('v', 'e', 'r', ' ', 'c', 'o', 'm', 'e', ' ', 'b'),\n",
       " ('e', 'r', ' ', 'c', 'o', 'm', 'e', ' ', 'b', 'a'),\n",
       " ('r', ' ', 'c', 'o', 'm', 'e', ' ', 'b', 'a', 'c'),\n",
       " (' ', 'c', 'o', 'm', 'e', ' ', 'b', 'a', 'c', 'k'),\n",
       " ('c', 'o', 'm', 'e', ' ', 'b', 'a', 'c', 'k', '.'),\n",
       " ('o', 'm', 'e', ' ', 'b', 'a', 'c', 'k', '.', '\\n'),\n",
       " ('m', 'e', ' ', 'b', 'a', 'c', 'k', '.', '\\n', '\\n'),\n",
       " ('e', ' ', 'b', 'a', 'c', 'k', '.', '\\n', '\\n', 'I'),\n",
       " (' ', 'b', 'a', 'c', 'k', '.', '\\n', '\\n', 'I', ' '),\n",
       " ('b', 'a', 'c', 'k', '.', '\\n', '\\n', 'I', ' ', 's'),\n",
       " ('a', 'c', 'k', '.', '\\n', '\\n', 'I', ' ', 's', 'h'),\n",
       " ('c', 'k', '.', '\\n', '\\n', 'I', ' ', 's', 'h', 'a'),\n",
       " ('k', '.', '\\n', '\\n', 'I', ' ', 's', 'h', 'a', 'l'),\n",
       " ('.', '\\n', '\\n', 'I', ' ', 's', 'h', 'a', 'l', 'l'),\n",
       " ('\\n', '\\n', 'I', ' ', 's', 'h', 'a', 'l', 'l', ' '),\n",
       " ('\\n', 'I', ' ', 's', 'h', 'a', 'l', 'l', ' ', 'b'),\n",
       " ('I', ' ', 's', 'h', 'a', 'l', 'l', ' ', 'b', 'e'),\n",
       " (' ', 's', 'h', 'a', 'l', 'l', ' ', 'b', 'e', ' '),\n",
       " ('s', 'h', 'a', 'l', 'l', ' ', 'b', 'e', ' ', 't'),\n",
       " ('h', 'a', 'l', 'l', ' ', 'b', 'e', ' ', 't', 'e'),\n",
       " ('a', 'l', 'l', ' ', 'b', 'e', ' ', 't', 'e', 'l'),\n",
       " ('l', 'l', ' ', 'b', 'e', ' ', 't', 'e', 'l', 'l'),\n",
       " ('l', ' ', 'b', 'e', ' ', 't', 'e', 'l', 'l', 'i'),\n",
       " (' ', 'b', 'e', ' ', 't', 'e', 'l', 'l', 'i', 'n'),\n",
       " ('b', 'e', ' ', 't', 'e', 'l', 'l', 'i', 'n', 'g'),\n",
       " ('e', ' ', 't', 'e', 'l', 'l', 'i', 'n', 'g', ' '),\n",
       " (' ', 't', 'e', 'l', 'l', 'i', 'n', 'g', ' ', 't'),\n",
       " ('t', 'e', 'l', 'l', 'i', 'n', 'g', ' ', 't', 'h'),\n",
       " ('e', 'l', 'l', 'i', 'n', 'g', ' ', 't', 'h', 'i'),\n",
       " ('l', 'l', 'i', 'n', 'g', ' ', 't', 'h', 'i', 's'),\n",
       " ('l', 'i', 'n', 'g', ' ', 't', 'h', 'i', 's', ' '),\n",
       " ('i', 'n', 'g', ' ', 't', 'h', 'i', 's', ' ', 'w'),\n",
       " ('n', 'g', ' ', 't', 'h', 'i', 's', ' ', 'w', 'i'),\n",
       " ('g', ' ', 't', 'h', 'i', 's', ' ', 'w', 'i', 't'),\n",
       " (' ', 't', 'h', 'i', 's', ' ', 'w', 'i', 't', 'h'),\n",
       " ('t', 'h', 'i', 's', ' ', 'w', 'i', 't', 'h', ' '),\n",
       " ('h', 'i', 's', ' ', 'w', 'i', 't', 'h', ' ', 'a'),\n",
       " ('i', 's', ' ', 'w', 'i', 't', 'h', ' ', 'a', ' '),\n",
       " ('s', ' ', 'w', 'i', 't', 'h', ' ', 'a', ' ', 's'),\n",
       " (' ', 'w', 'i', 't', 'h', ' ', 'a', ' ', 's', 'i'),\n",
       " ('w', 'i', 't', 'h', ' ', 'a', ' ', 's', 'i', 'g'),\n",
       " ('i', 't', 'h', ' ', 'a', ' ', 's', 'i', 'g', 'h'),\n",
       " ('t', 'h', ' ', 'a', ' ', 's', 'i', 'g', 'h', '\\n'),\n",
       " ('h', ' ', 'a', ' ', 's', 'i', 'g', 'h', '\\n', 'S'),\n",
       " (' ', 'a', ' ', 's', 'i', 'g', 'h', '\\n', 'S', 'o'),\n",
       " ('a', ' ', 's', 'i', 'g', 'h', '\\n', 'S', 'o', 'm'),\n",
       " (' ', 's', 'i', 'g', 'h', '\\n', 'S', 'o', 'm', 'e'),\n",
       " ('s', 'i', 'g', 'h', '\\n', 'S', 'o', 'm', 'e', 'w'),\n",
       " ('i', 'g', 'h', '\\n', 'S', 'o', 'm', 'e', 'w', 'h'),\n",
       " ('g', 'h', '\\n', 'S', 'o', 'm', 'e', 'w', 'h', 'e'),\n",
       " ('h', '\\n', 'S', 'o', 'm', 'e', 'w', 'h', 'e', 'r'),\n",
       " ('\\n', 'S', 'o', 'm', 'e', 'w', 'h', 'e', 'r', 'e'),\n",
       " ('S', 'o', 'm', 'e', 'w', 'h', 'e', 'r', 'e', ' '),\n",
       " ('o', 'm', 'e', 'w', 'h', 'e', 'r', 'e', ' ', 'a'),\n",
       " ('m', 'e', 'w', 'h', 'e', 'r', 'e', ' ', 'a', 'g'),\n",
       " ('e', 'w', 'h', 'e', 'r', 'e', ' ', 'a', 'g', 'e'),\n",
       " ('w', 'h', 'e', 'r', 'e', ' ', 'a', 'g', 'e', 's'),\n",
       " ('h', 'e', 'r', 'e', ' ', 'a', 'g', 'e', 's', ' '),\n",
       " ('e', 'r', 'e', ' ', 'a', 'g', 'e', 's', ' ', 'a'),\n",
       " ('r', 'e', ' ', 'a', 'g', 'e', 's', ' ', 'a', 'n'),\n",
       " ('e', ' ', 'a', 'g', 'e', 's', ' ', 'a', 'n', 'd'),\n",
       " (' ', 'a', 'g', 'e', 's', ' ', 'a', 'n', 'd', ' '),\n",
       " ('a', 'g', 'e', 's', ' ', 'a', 'n', 'd', ' ', 'a'),\n",
       " ('g', 'e', 's', ' ', 'a', 'n', 'd', ' ', 'a', 'g'),\n",
       " ('e', 's', ' ', 'a', 'n', 'd', ' ', 'a', 'g', 'e'),\n",
       " ('s', ' ', 'a', 'n', 'd', ' ', 'a', 'g', 'e', 's'),\n",
       " (' ', 'a', 'n', 'd', ' ', 'a', 'g', 'e', 's', ' '),\n",
       " ('a', 'n', 'd', ' ', 'a', 'g', 'e', 's', ' ', 'h'),\n",
       " ('n', 'd', ' ', 'a', 'g', 'e', 's', ' ', 'h', 'e'),\n",
       " ('d', ' ', 'a', 'g', 'e', 's', ' ', 'h', 'e', 'n'),\n",
       " (' ', 'a', 'g', 'e', 's', ' ', 'h', 'e', 'n', 'c'),\n",
       " ('a', 'g', 'e', 's', ' ', 'h', 'e', 'n', 'c', 'e'),\n",
       " ('g', 'e', 's', ' ', 'h', 'e', 'n', 'c', 'e', ':'),\n",
       " ('e', 's', ' ', 'h', 'e', 'n', 'c', 'e', ':', '\\n'),\n",
       " ('s', ' ', 'h', 'e', 'n', 'c', 'e', ':', '\\n', 'T'),\n",
       " (' ', 'h', 'e', 'n', 'c', 'e', ':', '\\n', 'T', 'w'),\n",
       " ('h', 'e', 'n', 'c', 'e', ':', '\\n', 'T', 'w', 'o'),\n",
       " ('e', 'n', 'c', 'e', ':', '\\n', 'T', 'w', 'o', ' '),\n",
       " ('n', 'c', 'e', ':', '\\n', 'T', 'w', 'o', ' ', 'r'),\n",
       " ('c', 'e', ':', '\\n', 'T', 'w', 'o', ' ', 'r', 'o'),\n",
       " ('e', ':', '\\n', 'T', 'w', 'o', ' ', 'r', 'o', 'a'),\n",
       " (':', '\\n', 'T', 'w', 'o', ' ', 'r', 'o', 'a', 'd'),\n",
       " ('\\n', 'T', 'w', 'o', ' ', 'r', 'o', 'a', 'd', 's'),\n",
       " ('T', 'w', 'o', ' ', 'r', 'o', 'a', 'd', 's', ' '),\n",
       " ('w', 'o', ' ', 'r', 'o', 'a', 'd', 's', ' ', 'd'),\n",
       " ('o', ' ', 'r', 'o', 'a', 'd', 's', ' ', 'd', 'i'),\n",
       " (' ', 'r', 'o', 'a', 'd', 's', ' ', 'd', 'i', 'v'),\n",
       " ('r', 'o', 'a', 'd', 's', ' ', 'd', 'i', 'v', 'e'),\n",
       " ('o', 'a', 'd', 's', ' ', 'd', 'i', 'v', 'e', 'r'),\n",
       " ('a', 'd', 's', ' ', 'd', 'i', 'v', 'e', 'r', 'g'),\n",
       " ('d', 's', ' ', 'd', 'i', 'v', 'e', 'r', 'g', 'e'),\n",
       " ('s', ' ', 'd', 'i', 'v', 'e', 'r', 'g', 'e', 'd'),\n",
       " (' ', 'd', 'i', 'v', 'e', 'r', 'g', 'e', 'd', ' '),\n",
       " ('d', 'i', 'v', 'e', 'r', 'g', 'e', 'd', ' ', 'i'),\n",
       " ('i', 'v', 'e', 'r', 'g', 'e', 'd', ' ', 'i', 'n'),\n",
       " ('v', 'e', 'r', 'g', 'e', 'd', ' ', 'i', 'n', ' '),\n",
       " ('e', 'r', 'g', 'e', 'd', ' ', 'i', 'n', ' ', 'a'),\n",
       " ('r', 'g', 'e', 'd', ' ', 'i', 'n', ' ', 'a', ' '),\n",
       " ('g', 'e', 'd', ' ', 'i', 'n', ' ', 'a', ' ', 'w'),\n",
       " ('e', 'd', ' ', 'i', 'n', ' ', 'a', ' ', 'w', 'o'),\n",
       " ('d', ' ', 'i', 'n', ' ', 'a', ' ', 'w', 'o', 'o'),\n",
       " (' ', 'i', 'n', ' ', 'a', ' ', 'w', 'o', 'o', 'd'),\n",
       " ('i', 'n', ' ', 'a', ' ', 'w', 'o', 'o', 'd', ','),\n",
       " ('n', ' ', 'a', ' ', 'w', 'o', 'o', 'd', ',', ' '),\n",
       " (' ', 'a', ' ', 'w', 'o', 'o', 'd', ',', ' ', 'a'),\n",
       " ('a', ' ', 'w', 'o', 'o', 'd', ',', ' ', 'a', 'n'),\n",
       " (' ', 'w', 'o', 'o', 'd', ',', ' ', 'a', 'n', 'd'),\n",
       " ('w', 'o', 'o', 'd', ',', ' ', 'a', 'n', 'd', ' '),\n",
       " ('o', 'o', 'd', ',', ' ', 'a', 'n', 'd', ' ', 'I'),\n",
       " ('o', 'd', ',', ' ', 'a', 'n', 'd', ' ', 'I', '—'),\n",
       " ('d', ',', ' ', 'a', 'n', 'd', ' ', 'I', '—', '\\n'),\n",
       " (',', ' ', 'a', 'n', 'd', ' ', 'I', '—', '\\n', 'I'),\n",
       " (' ', 'a', 'n', 'd', ' ', 'I', '—', '\\n', 'I', ' '),\n",
       " ('a', 'n', 'd', ' ', 'I', '—', '\\n', 'I', ' ', 't'),\n",
       " ('n', 'd', ' ', 'I', '—', '\\n', 'I', ' ', 't', 'o'),\n",
       " ('d', ' ', 'I', '—', '\\n', 'I', ' ', 't', 'o', 'o'),\n",
       " (' ', 'I', '—', '\\n', 'I', ' ', 't', 'o', 'o', 'k'),\n",
       " ('I', '—', '\\n', 'I', ' ', 't', 'o', 'o', 'k', ' '),\n",
       " ('—', '\\n', 'I', ' ', 't', 'o', 'o', 'k', ' ', 't'),\n",
       " ('\\n', 'I', ' ', 't', 'o', 'o', 'k', ' ', 't', 'h'),\n",
       " ('I', ' ', 't', 'o', 'o', 'k', ' ', 't', 'h', 'e'),\n",
       " (' ', 't', 'o', 'o', 'k', ' ', 't', 'h', 'e', ' '),\n",
       " ('t', 'o', 'o', 'k', ' ', 't', 'h', 'e', ' ', 'o'),\n",
       " ('o', 'o', 'k', ' ', 't', 'h', 'e', ' ', 'o', 'n'),\n",
       " ('o', 'k', ' ', 't', 'h', 'e', ' ', 'o', 'n', 'e'),\n",
       " ('k', ' ', 't', 'h', 'e', ' ', 'o', 'n', 'e', ' '),\n",
       " (' ', 't', 'h', 'e', ' ', 'o', 'n', 'e', ' ', 'l'),\n",
       " ('t', 'h', 'e', ' ', 'o', 'n', 'e', ' ', 'l', 'e'),\n",
       " ('h', 'e', ' ', 'o', 'n', 'e', ' ', 'l', 'e', 's'),\n",
       " ('e', ' ', 'o', 'n', 'e', ' ', 'l', 'e', 's', 's'),\n",
       " (' ', 'o', 'n', 'e', ' ', 'l', 'e', 's', 's', ' '),\n",
       " ('o', 'n', 'e', ' ', 'l', 'e', 's', 's', ' ', 't'),\n",
       " ('n', 'e', ' ', 'l', 'e', 's', 's', ' ', 't', 'r'),\n",
       " ('e', ' ', 'l', 'e', 's', 's', ' ', 't', 'r', 'a'),\n",
       " (' ', 'l', 'e', 's', 's', ' ', 't', 'r', 'a', 'v'),\n",
       " ('l', 'e', 's', 's', ' ', 't', 'r', 'a', 'v', 'e'),\n",
       " ('e', 's', 's', ' ', 't', 'r', 'a', 'v', 'e', 'l'),\n",
       " ('s', 's', ' ', 't', 'r', 'a', 'v', 'e', 'l', 'l'),\n",
       " ('s', ' ', 't', 'r', 'a', 'v', 'e', 'l', 'l', 'e'),\n",
       " (' ', 't', 'r', 'a', 'v', 'e', 'l', 'l', 'e', 'd'),\n",
       " ('t', 'r', 'a', 'v', 'e', 'l', 'l', 'e', 'd', ' '),\n",
       " ('r', 'a', 'v', 'e', 'l', 'l', 'e', 'd', ' ', 'b'),\n",
       " ('a', 'v', 'e', 'l', 'l', 'e', 'd', ' ', 'b', 'y'),\n",
       " ('v', 'e', 'l', 'l', 'e', 'd', ' ', 'b', 'y', ','),\n",
       " ('e', 'l', 'l', 'e', 'd', ' ', 'b', 'y', ',', '\\n'),\n",
       " ('l', 'l', 'e', 'd', ' ', 'b', 'y', ',', '\\n', 'A'),\n",
       " ('l', 'e', 'd', ' ', 'b', 'y', ',', '\\n', 'A', 'n'),\n",
       " ('e', 'd', ' ', 'b', 'y', ',', '\\n', 'A', 'n', 'd'),\n",
       " ('d', ' ', 'b', 'y', ',', '\\n', 'A', 'n', 'd', ' '),\n",
       " (' ', 'b', 'y', ',', '\\n', 'A', 'n', 'd', ' ', 't'),\n",
       " ('b', 'y', ',', '\\n', 'A', 'n', 'd', ' ', 't', 'h'),\n",
       " ('y', ',', '\\n', 'A', 'n', 'd', ' ', 't', 'h', 'a'),\n",
       " (',', '\\n', 'A', 'n', 'd', ' ', 't', 'h', 'a', 't'),\n",
       " ('\\n', 'A', 'n', 'd', ' ', 't', 'h', 'a', 't', ' '),\n",
       " ('A', 'n', 'd', ' ', 't', 'h', 'a', 't', ' ', 'h'),\n",
       " ('n', 'd', ' ', 't', 'h', 'a', 't', ' ', 'h', 'a'),\n",
       " ('d', ' ', 't', 'h', 'a', 't', ' ', 'h', 'a', 's'),\n",
       " (' ', 't', 'h', 'a', 't', ' ', 'h', 'a', 's', ' '),\n",
       " ('t', 'h', 'a', 't', ' ', 'h', 'a', 's', ' ', 'm'),\n",
       " ('h', 'a', 't', ' ', 'h', 'a', 's', ' ', 'm', 'a'),\n",
       " ('a', 't', ' ', 'h', 'a', 's', ' ', 'm', 'a', 'd'),\n",
       " ('t', ' ', 'h', 'a', 's', ' ', 'm', 'a', 'd', 'e'),\n",
       " (' ', 'h', 'a', 's', ' ', 'm', 'a', 'd', 'e', ' '),\n",
       " ('h', 'a', 's', ' ', 'm', 'a', 'd', 'e', ' ', 'a'),\n",
       " ('a', 's', ' ', 'm', 'a', 'd', 'e', ' ', 'a', 'l'),\n",
       " ('s', ' ', 'm', 'a', 'd', 'e', ' ', 'a', 'l', 'l'),\n",
       " (' ', 'm', 'a', 'd', 'e', ' ', 'a', 'l', 'l', ' '),\n",
       " ('m', 'a', 'd', 'e', ' ', 'a', 'l', 'l', ' ', 't'),\n",
       " ('a', 'd', 'e', ' ', 'a', 'l', 'l', ' ', 't', 'h'),\n",
       " ('d', 'e', ' ', 'a', 'l', 'l', ' ', 't', 'h', 'e'),\n",
       " ('e', ' ', 'a', 'l', 'l', ' ', 't', 'h', 'e', ' '),\n",
       " (' ', 'a', 'l', 'l', ' ', 't', 'h', 'e', ' ', 'd'),\n",
       " ('a', 'l', 'l', ' ', 't', 'h', 'e', ' ', 'd', 'i'),\n",
       " ('l', 'l', ' ', 't', 'h', 'e', ' ', 'd', 'i', 'f'),\n",
       " ('l', ' ', 't', 'h', 'e', ' ', 'd', 'i', 'f', 'f'),\n",
       " (' ', 't', 'h', 'e', ' ', 'd', 'i', 'f', 'f', 'e'),\n",
       " ('t', 'h', 'e', ' ', 'd', 'i', 'f', 'f', 'e', 'r'),\n",
       " ('h', 'e', ' ', 'd', 'i', 'f', 'f', 'e', 'r', 'e'),\n",
       " ('e', ' ', 'd', 'i', 'f', 'f', 'e', 'r', 'e', 'n'),\n",
       " (' ', 'd', 'i', 'f', 'f', 'e', 'r', 'e', 'n', 'c'),\n",
       " ('d', 'i', 'f', 'f', 'e', 'r', 'e', 'n', 'c', 'e'),\n",
       " ('i', 'f', 'f', 'e', 'r', 'e', 'n', 'c', 'e', '.'),\n",
       " ('f', 'f', 'e', 'r', 'e', 'n', 'c', 'e', '.', '\\n')]"
      ]
     },
     "execution_count": 73,
     "metadata": {},
     "output_type": "execute_result"
    }
   ],
   "source": [
    "ngramZ(10, frost_str)"
   ]
  },
  {
   "cell_type": "markdown",
   "metadata": {},
   "source": [
    "## markov models"
   ]
  },
  {
   "cell_type": "code",
   "execution_count": null,
   "metadata": {
    "collapsed": true
   },
   "outputs": [],
   "source": []
  }
 ],
 "metadata": {
  "kernelspec": {
   "display_name": "Python [conda root]",
   "language": "python",
   "name": "conda-root-py"
  },
  "language_info": {
   "codemirror_mode": {
    "name": "ipython",
    "version": 3
   },
   "file_extension": ".py",
   "mimetype": "text/x-python",
   "name": "python",
   "nbconvert_exporter": "python",
   "pygments_lexer": "ipython3",
   "version": "3.5.3"
  }
 },
 "nbformat": 4,
 "nbformat_minor": 2
}
