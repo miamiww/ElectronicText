{
 "cells": [
  {
   "cell_type": "code",
   "execution_count": 8,
   "metadata": {
    "collapsed": true
   },
   "outputs": [],
   "source": [
    "import spacy"
   ]
  },
  {
   "cell_type": "code",
   "execution_count": 9,
   "metadata": {
    "collapsed": true
   },
   "outputs": [],
   "source": [
    "nlp = spacy.load('en')"
   ]
  },
  {
   "cell_type": "code",
   "execution_count": 10,
   "metadata": {
    "collapsed": true
   },
   "outputs": [],
   "source": [
    "import sqlite3\n",
    "import pandas as pd\n",
    "import datetime\n",
    "from textblob import TextBlob"
   ]
  },
  {
   "cell_type": "code",
   "execution_count": 11,
   "metadata": {
    "collapsed": true
   },
   "outputs": [],
   "source": [
    "import matplotlib\n",
    "import numpy as np\n",
    "import matplotlib.pyplot as plt\n",
    "%matplotlib inline  "
   ]
  },
  {
   "cell_type": "code",
   "execution_count": 12,
   "metadata": {
    "collapsed": true
   },
   "outputs": [],
   "source": [
    "conn = sqlite3.connect('chat.db')\n",
    "c = conn.cursor()"
   ]
  },
  {
   "cell_type": "code",
   "execution_count": 13,
   "metadata": {
    "collapsed": true
   },
   "outputs": [],
   "source": [
    "cmd2 = 'SELECT ROWID, text, handle_id, \\\n",
    "            datetime(date + strftime(\\'%s\\',\\'2001-01-01\\'), \\'unixepoch\\') as date_utc \\\n",
    "            FROM message T1 \\\n",
    "            INNER JOIN chat_message_join T2 \\\n",
    "                ON T1.ROWID=T2.message_id \\\n",
    "                AND T1.is_from_me=1\\\n",
    "            ORDER BY T2.chat_ID, T1.date'\n",
    "c.execute(cmd2)\n",
    "all_msg = pd.DataFrame(c.fetchall(), columns=['id','text','sender','time'])"
   ]
  },
  {
   "cell_type": "code",
   "execution_count": 14,
   "metadata": {
    "collapsed": true
   },
   "outputs": [],
   "source": [
    "all_msg.time = pd.to_datetime(all_msg.time)\n",
    "#cutting to just 2017\n",
    "twentyseventeen_msg = all_msg[all_msg.time.dt.year == 2017]\n",
    "all_msg_clean = all_msg[all_msg.time.dt.year > 2015]"
   ]
  },
  {
   "cell_type": "markdown",
   "metadata": {},
   "source": [
    "## iMessages over time"
   ]
  },
  {
   "cell_type": "code",
   "execution_count": 15,
   "metadata": {},
   "outputs": [
    {
     "data": {
      "text/plain": [
       "<matplotlib.axes._subplots.AxesSubplot at 0x11ddf7a58>"
      ]
     },
     "execution_count": 15,
     "metadata": {},
     "output_type": "execute_result"
    },
    {
     "data": {
      "image/png": "[encoded data removed]",
      "text/plain": [
       "<matplotlib.figure.Figure at 0x125c5ca90>"
      ]
     },
     "metadata": {},
     "output_type": "display_data"
    }
   ],
   "source": [
    "all_msg_clean['id'].groupby(all_msg_clean.time.dt.to_period('M')).count().plot(kind='bar')"
   ]
  },
  {
   "cell_type": "code",
   "execution_count": 16,
   "metadata": {
    "collapsed": true
   },
   "outputs": [],
   "source": [
    "all_msg_clean = all_msg_clean.assign(polarity=pd.Series([TextBlob(text).sentiment.polarity for text in twentyseventeen_msg['text']]))\n",
    "all_msg_clean = all_msg_clean.assign(subjectivity=pd.Series([TextBlob(text).sentiment.subjectivity for text in twentyseventeen_msg['text']]))"
   ]
  },
  {
   "cell_type": "markdown",
   "metadata": {},
   "source": [
    "## Polarity Sentiment"
   ]
  },
  {
   "cell_type": "code",
   "execution_count": 17,
   "metadata": {},
   "outputs": [
    {
     "data": {
      "text/plain": [
       "<matplotlib.axes._subplots.AxesSubplot at 0x1290cf080>"
      ]
     },
     "execution_count": 17,
     "metadata": {},
     "output_type": "execute_result"
    },
    {
     "data": {
      "image/png": "[encoded data removed]",
      "text/plain": [
       "<matplotlib.figure.Figure at 0x1264ba438>"
      ]
     },
     "metadata": {},
     "output_type": "display_data"
    }
   ],
   "source": [
    "all_msg_clean['polarity'].groupby(all_msg_clean.time.dt.to_period('M')).mean().plot(kind='bar')"
   ]
  },
  {
   "cell_type": "markdown",
   "metadata": {},
   "source": [
    "looks like I am on the whole more positive but that I had a real upswing in december but february isn't looking so good"
   ]
  },
  {
   "cell_type": "markdown",
   "metadata": {},
   "source": [
    "## Subjectivity Sentiment"
   ]
  },
  {
   "cell_type": "code",
   "execution_count": 18,
   "metadata": {},
   "outputs": [
    {
     "data": {
      "text/plain": [
       "<matplotlib.axes._subplots.AxesSubplot at 0x1290885c0>"
      ]
     },
     "execution_count": 18,
     "metadata": {},
     "output_type": "execute_result"
    },
    {
     "data": {
      "image/png": "[encoded data removed]",
      "text/plain": [
       "<matplotlib.figure.Figure at 0x129079160>"
      ]
     },
     "metadata": {},
     "output_type": "display_data"
    }
   ],
   "source": [
    "all_msg_clean['subjectivity'].groupby(all_msg_clean.time.dt.to_period('M')).mean().plot(kind='bar')"
   ]
  },
  {
   "cell_type": "markdown",
   "metadata": {},
   "source": [
    "not sure what to make of this, looks like I have a pretty steady average of speaking from a subjective position (I feel, I think, etc.), I'd need to compare to other people to get a feel for what this means"
   ]
  },
  {
   "cell_type": "markdown",
   "metadata": {},
   "source": [
    "## Using Spacy"
   ]
  },
  {
   "cell_type": "code",
   "execution_count": 19,
   "metadata": {
    "collapsed": true
   },
   "outputs": [],
   "source": [
    "text_models = [nlp(text) for text in all_msg_clean['text'] ]"
   ]
  },
  {
   "cell_type": "code",
   "execution_count": 20,
   "metadata": {
    "collapsed": true
   },
   "outputs": [],
   "source": [
    "# for model in text_models:    \n",
    "#     for token in model:\n",
    "#         print(token.text, token.lemma_, token.pos_, token.tag_, token.dep_,\n",
    "#               token.shape_, token.is_alpha, token.is_stop)"
   ]
  },
  {
   "cell_type": "code",
   "execution_count": 21,
   "metadata": {},
   "outputs": [
    {
     "data": {
      "text/plain": [
       "33728"
      ]
     },
     "execution_count": 21,
     "metadata": {},
     "output_type": "execute_result"
    }
   ],
   "source": [
    "from spacy.symbols import nsubj, VERB\n",
    "verbs = []\n",
    "for model in text_models:\n",
    "    for possible_verb in model:\n",
    "        if possible_verb.pos == VERB:\n",
    "            for possible_subject in possible_verb.children:\n",
    "                if possible_subject.dep == nsubj:\n",
    "                    verbs.append(possible_verb)\n",
    "                    break\n",
    "len(verbs)"
   ]
  },
  {
   "cell_type": "code",
   "execution_count": 22,
   "metadata": {},
   "outputs": [
    {
     "data": {
      "text/plain": [
       "22934"
      ]
     },
     "execution_count": 22,
     "metadata": {},
     "output_type": "execute_result"
    }
   ],
   "source": [
    "from spacy.symbols import NOUN\n",
    "nouns = []\n",
    "for model in text_models:\n",
    "    for possible_noun in model:\n",
    "        if possible_noun.pos == NOUN:\n",
    "            nouns.append(possible_noun)\n",
    "            break\n",
    "len(nouns)"
   ]
  },
  {
   "cell_type": "code",
   "execution_count": 23,
   "metadata": {},
   "outputs": [
    {
     "data": {
      "text/plain": [
       "16149"
      ]
     },
     "execution_count": 23,
     "metadata": {},
     "output_type": "execute_result"
    }
   ],
   "source": [
    "from spacy.symbols import ADJ\n",
    "adjectives = []\n",
    "for model in text_models:\n",
    "    for possible_adjective in model:\n",
    "        if possible_adjective.pos == ADJ:\n",
    "            adjectives.append(possible_adjective)\n",
    "            break\n",
    "len(adjectives)"
   ]
  },
  {
   "cell_type": "code",
   "execution_count": 24,
   "metadata": {},
   "outputs": [
    {
     "data": {
      "text/plain": [
       "14820"
      ]
     },
     "execution_count": 24,
     "metadata": {},
     "output_type": "execute_result"
    }
   ],
   "source": [
    "from spacy.symbols import ADV\n",
    "adverbs = []\n",
    "for model in text_models:\n",
    "    for possible_adverb in model:\n",
    "        if possible_adverb.pos == ADV:\n",
    "            adverbs.append(possible_adverb)\n",
    "            break\n",
    "len(adverbs)"
   ]
  },
  {
   "cell_type": "code",
   "execution_count": 25,
   "metadata": {},
   "outputs": [
    {
     "data": {
      "text/plain": [
       "14634"
      ]
     },
     "execution_count": 25,
     "metadata": {},
     "output_type": "execute_result"
    }
   ],
   "source": [
    "from spacy.symbols import ADP\n",
    "prepositions = []\n",
    "for model in text_models:\n",
    "    for possible_preposition in model:\n",
    "        if possible_preposition.pos == ADP:\n",
    "            prepositions.append(possible_preposition)\n",
    "            break\n",
    "len(prepositions)"
   ]
  },
  {
   "cell_type": "code",
   "execution_count": 26,
   "metadata": {},
   "outputs": [
    {
     "data": {
      "text/plain": [
       "'my papers '"
      ]
     },
     "execution_count": 26,
     "metadata": {},
     "output_type": "execute_result"
    }
   ],
   "source": [
    "import random\n",
    "random.sample(adjectives,1)[0].string + random.sample(nouns,1)[0].string"
   ]
  },
  {
   "cell_type": "code",
   "execution_count": 27,
   "metadata": {},
   "outputs": [
    {
     "data": {
      "text/plain": [
       "'better one be diamanda '"
      ]
     },
     "execution_count": 27,
     "metadata": {},
     "output_type": "execute_result"
    }
   ],
   "source": [
    "random.sample(adjectives,1)[0].string + random.sample(nouns,1)[0].string + random.sample(verbs,1)[0].string + random.sample(nouns,1)[0].string"
   ]
  },
  {
   "cell_type": "code",
   "execution_count": 28,
   "metadata": {},
   "outputs": [
    {
     "data": {
      "text/plain": [
       "\"all vacationwhat 'm omelette\""
      ]
     },
     "execution_count": 28,
     "metadata": {},
     "output_type": "execute_result"
    }
   ],
   "source": [
    "random.sample(adjectives,1)[0].string + random.sample(nouns,1)[0].string + random.sample(adjectives,1)[0].string + random.sample(verbs,1)[0].string + random.sample(nouns,1)[0].string"
   ]
  },
  {
   "cell_type": "code",
   "execution_count": 29,
   "metadata": {},
   "outputs": [
    {
     "data": {
      "text/plain": [
       "'my thing understand anime'"
      ]
     },
     "execution_count": 29,
     "metadata": {},
     "output_type": "execute_result"
    }
   ],
   "source": [
    "random.sample(adjectives,1)[0].string + random.sample(nouns,1)[0].string + random.sample(verbs,1)[0].string + random.sample(nouns,1)[0].string"
   ]
  },
  {
   "cell_type": "code",
   "execution_count": 30,
   "metadata": {},
   "outputs": [
    {
     "data": {
      "text/plain": [
       "'coolthotrueget course '"
      ]
     },
     "execution_count": 30,
     "metadata": {},
     "output_type": "execute_result"
    }
   ],
   "source": [
    "random.sample(adjectives,1)[0].string + random.sample(nouns,1)[0].string + random.sample(adjectives,1)[0].string + random.sample(verbs,1)[0].string + random.sample(nouns,1)[0].string"
   ]
  },
  {
   "cell_type": "code",
   "execution_count": 31,
   "metadata": {},
   "outputs": [
    {
     "data": {
      "text/plain": [
       "'better narc homonormative is minutes '"
      ]
     },
     "execution_count": 31,
     "metadata": {},
     "output_type": "execute_result"
    }
   ],
   "source": [
    "random.sample(adjectives,1)[0].string + random.sample(nouns,1)[0].string + random.sample(adjectives,1)[0].string + random.sample(verbs,1)[0].string + random.sample(nouns,1)[0].string"
   ]
  },
  {
   "cell_type": "code",
   "execution_count": 32,
   "metadata": {},
   "outputs": [
    {
     "data": {
      "text/plain": [
       "'their bed such love what'"
      ]
     },
     "execution_count": 32,
     "metadata": {},
     "output_type": "execute_result"
    }
   ],
   "source": [
    "random.sample(adjectives,1)[0].string + random.sample(nouns,1)[0].string + random.sample(adjectives,1)[0].string + random.sample(verbs,1)[0].string + random.sample(nouns,1)[0].string"
   ]
  },
  {
   "cell_type": "code",
   "execution_count": 33,
   "metadata": {},
   "outputs": [
    {
     "data": {
      "text/plain": [
       "'my 🙌my am media '"
      ]
     },
     "execution_count": 33,
     "metadata": {},
     "output_type": "execute_result"
    }
   ],
   "source": [
    "random.sample(adjectives,1)[0].string + random.sample(nouns,1)[0].string + random.sample(adjectives,1)[0].string + random.sample(verbs,1)[0].string + random.sample(nouns,1)[0].string"
   ]
  },
  {
   "cell_type": "code",
   "execution_count": 34,
   "metadata": {},
   "outputs": [
    {
     "data": {
      "text/plain": [
       "'good post nice said what'"
      ]
     },
     "execution_count": 34,
     "metadata": {},
     "output_type": "execute_result"
    }
   ],
   "source": [
    "random.sample(adjectives,1)[0].string + random.sample(nouns,1)[0].string + random.sample(adjectives,1)[0].string + random.sample(verbs,1)[0].string + random.sample(nouns,1)[0].string"
   ]
  },
  {
   "cell_type": "code",
   "execution_count": 35,
   "metadata": {},
   "outputs": [
    {
     "data": {
      "text/plain": [
       "'more syd fake said hand '"
      ]
     },
     "execution_count": 35,
     "metadata": {},
     "output_type": "execute_result"
    }
   ],
   "source": [
    "random.sample(adjectives,1)[0].string + random.sample(nouns,1)[0].string + random.sample(adjectives,1)[0].string + random.sample(verbs,1)[0].string + random.sample(nouns,1)[0].string"
   ]
  },
  {
   "cell_type": "code",
   "execution_count": 36,
   "metadata": {},
   "outputs": [
    {
     "name": "stdout",
     "output_type": "stream",
     "text": [
      "our apocalypsearbor wait curry\n",
      "such place myis nothing \n",
      "that tomorrowblack was gogo \n",
      "negative sleep my regret nightmare \n",
      "famous noonabout is joke \n",
      "my someone weird have cheese \n",
      "same invader my 'm thanks \n",
      "vga collegeyale think omg \n",
      "infomercial chairs bad moving pizzas\n",
      "yah taco loud moving couple \n"
     ]
    }
   ],
   "source": [
    "print(random.sample(adjectives,1)[0].string + random.sample(nouns,1)[0].string + random.sample(adjectives,1)[0].string + random.sample(verbs,1)[0].string + random.sample(nouns,1)[0].string + '\\n' + \n",
    "random.sample(adjectives,1)[0].string + random.sample(nouns,1)[0].string + random.sample(adjectives,1)[0].string + random.sample(verbs,1)[0].string + random.sample(nouns,1)[0].string + '\\n' + \n",
    "random.sample(adjectives,1)[0].string + random.sample(nouns,1)[0].string + random.sample(adjectives,1)[0].string + random.sample(verbs,1)[0].string + random.sample(nouns,1)[0].string + '\\n' + \n",
    "random.sample(adjectives,1)[0].string + random.sample(nouns,1)[0].string + random.sample(adjectives,1)[0].string + random.sample(verbs,1)[0].string + random.sample(nouns,1)[0].string + '\\n' + \n",
    "random.sample(adjectives,1)[0].string + random.sample(nouns,1)[0].string + random.sample(adjectives,1)[0].string + random.sample(verbs,1)[0].string + random.sample(nouns,1)[0].string + '\\n' + \n",
    "random.sample(adjectives,1)[0].string + random.sample(nouns,1)[0].string + random.sample(adjectives,1)[0].string + random.sample(verbs,1)[0].string + random.sample(nouns,1)[0].string + '\\n' + \n",
    "random.sample(adjectives,1)[0].string + random.sample(nouns,1)[0].string + random.sample(adjectives,1)[0].string + random.sample(verbs,1)[0].string + random.sample(nouns,1)[0].string + '\\n' + \n",
    "random.sample(adjectives,1)[0].string + random.sample(nouns,1)[0].string + random.sample(adjectives,1)[0].string + random.sample(verbs,1)[0].string + random.sample(nouns,1)[0].string + '\\n' + \n",
    "random.sample(adjectives,1)[0].string + random.sample(nouns,1)[0].string + random.sample(adjectives,1)[0].string + random.sample(verbs,1)[0].string + random.sample(nouns,1)[0].string + '\\n' + \n",
    "random.sample(adjectives,1)[0].string + random.sample(nouns,1)[0].string + random.sample(adjectives,1)[0].string + random.sample(verbs,1)[0].string + random.sample(nouns,1)[0].string)\n"
   ]
  },
  {
   "cell_type": "code",
   "execution_count": 41,
   "metadata": {},
   "outputs": [],
   "source": [
    "def textGenerate():\n",
    "    print(random.sample(adjectives,1)[0].string + ' ' + random.sample(nouns,1)[0].string + ' ' + random.sample(adjectives,1)[0].string + ' ' + random.sample(verbs,1)[0].string + ' ' + random.sample(nouns,1)[0].string + ' ' + '\\n' + ' ' + \n",
    "    random.sample(adjectives,1)[0].string + ' ' + random.sample(nouns,1)[0].string + ' ' + random.sample(adjectives,1)[0].string + ' ' + random.sample(verbs,1)[0].string + ' ' + random.sample(nouns,1)[0].string + ' ' + '\\n' + ' ' + \n",
    "    random.sample(adjectives,1)[0].string + ' ' + random.sample(nouns,1)[0].string + ' ' + random.sample(adjectives,1)[0].string + ' ' + random.sample(verbs,1)[0].string + ' ' + random.sample(nouns,1)[0].string + ' ' + '\\n' + ' ' + \n",
    "    random.sample(adjectives,1)[0].string + ' ' + random.sample(nouns,1)[0].string + ' ' + random.sample(adjectives,1)[0].string + ' ' + random.sample(verbs,1)[0].string + ' ' + random.sample(nouns,1)[0].string + ' ' + '\\n' + ' ' + \n",
    "    random.sample(adjectives,1)[0].string + ' ' + random.sample(nouns,1)[0].string + ' ' + random.sample(adjectives,1)[0].string + ' ' + random.sample(verbs,1)[0].string + ' ' + random.sample(nouns,1)[0].string + ' ' + '\\n' + ' ' + \n",
    "    random.sample(adjectives,1)[0].string + ' ' + random.sample(nouns,1)[0].string + ' ' + random.sample(adjectives,1)[0].string + ' ' + random.sample(verbs,1)[0].string + ' ' + random.sample(nouns,1)[0].string + ' ' + '\\n' + ' ' + \n",
    "    random.sample(adjectives,1)[0].string + ' ' + random.sample(nouns,1)[0].string + ' ' + random.sample(adjectives,1)[0].string + ' ' + random.sample(verbs,1)[0].string + ' ' + random.sample(nouns,1)[0].string + ' ' + '\\n' + ' ' + \n",
    "    random.sample(adjectives,1)[0].string + ' ' + random.sample(nouns,1)[0].string + ' ' + random.sample(adjectives,1)[0].string + ' ' + random.sample(verbs,1)[0].string + ' ' + random.sample(nouns,1)[0].string + ' ' + '\\n' + ' ' + \n",
    "    random.sample(adjectives,1)[0].string + ' ' + random.sample(nouns,1)[0].string + ' ' + random.sample(adjectives,1)[0].string + ' ' + random.sample(verbs,1)[0].string + ' ' + random.sample(nouns,1)[0].string + ' ' + '\\n' + ' ' + \n",
    "    random.sample(adjectives,1)[0].string + ' ' + random.sample(nouns,1)[0].string + ' ' + random.sample(adjectives,1)[0].string + ' ' + random.sample(verbs,1)[0].string + ' ' + random.sample(nouns,1)[0].string)\n"
   ]
  },
  {
   "cell_type": "code",
   "execution_count": 42,
   "metadata": {},
   "outputs": [
    {
     "name": "stdout",
     "output_type": "stream",
     "text": [
      "full  beach  awful  was  person  \n",
      " unmissable  mom  fuck  want  leader \n",
      " wanna  camera okay  accepted  https://twitter.com/webster/status/906346071210778625 \n",
      " fancy  bumb  sure  figure  matter \n",
      " long  dinner his ’m  education  \n",
      " my  tomorrow  french  are  http://17.performa-arts.org/events/kelly-nipper \n",
      " her  show  weird  spoofs  article  \n",
      " fun tree  sick  shows  drink  \n",
      " that  day  blank  's  driver  \n",
      " new  https://twitter.com/pixelatedboat/status/949100087350710272 cool  wondering  pizza\n",
      "happy  puck  what  is  work  \n",
      " my  degrees  omg  set  swimming  \n",
      " experimental  taxi more  seeing  box  \n",
      " my  tuxedo  more  is  time  \n",
      " all  soho our  feeling  one  \n",
      " upset  home  my  keep  friends  \n",
      " my  edmond overwhelming  felt  zach  \n",
      " good kind  cool 'm  touch  \n",
      " social  dog cheaper come  sooooon \n",
      " worst  keys  your  modified  kachka \n",
      "all  🙃 indulgant  seems  dog \n",
      " better  lungs  my  heading  mood \n",
      " sure  obama  https://twitter.com/6rande/status/835755561614475264 's  bod \n",
      " only  ace  piff  'm  meeting \n",
      " strong bases  my  sent  sleep  \n",
      " all  what  possible  met  honorarium \n",
      " your  touch  bad  are  shirt \n",
      " that  take my  looks  taste  \n",
      " sure  someone  annoying  is  time  \n",
      " chinese  air full  are  grocery \n",
      "mighty  banana high  eat  kanteen \n",
      " last  Questions great guess  moment  \n",
      " excited  idea about  hurting  fiber \n",
      " cloudy montreal  khaled  have  car \n",
      " that  time wrong make  wallcreeper  \n",
      " which  mind my  have  life \n",
      " many  school  my  want  nature \n",
      " cool minutes long  told  anything  \n",
      " nice POLICED quick  have  ART  \n",
      " cold voice poor  have  weed \n",
      "my  bed their  think  today  \n",
      " much  guys  conditional  find  party \n",
      " generic  omg  my  is  thing  \n",
      " more  what  my  am  things \n",
      " my  halo  bad  is  mansion \n",
      " hard  moment  sure  beat  sense  \n",
      " scared experience  sick is  vacation  \n",
      " funny  apartment  fine is  beer  \n",
      " several  description my  treating  class  \n",
      " excited  aesthetic  omg 'm  tho\n",
      "11th portland  more  have  traffic  \n",
      " same cliff  bad  need  clarice \n",
      " hard  oregon  bad is  boo \n",
      " double  what  awful saw  talk  \n",
      " same acid  other  showing  thing  \n",
      " nyc  something  symbolic  's  guards \n",
      " our  ground  polish  want  bobst \n",
      " cool flux  virgin  was  august \n",
      " good guy  new  see  monday \n",
      " cool  resume  your  ’m  estimate \n",
      "rude hour  your  thinking  snapchats  \n",
      " small  anyone  my  move  account \n",
      " free  yaaay  able  know fact  \n",
      " special  what  my  going  https://twitter.com/jaketapper/status/784502304389169152 \n",
      " fun band 19th  do  place  \n",
      " smallest  day my  got  cell  \n",
      " such  stress  asleep  cab  word  \n",
      " great  machine  psychic  're  what \n",
      " many  sunday that  used  g \n",
      " grey  someone  your  try  love \n",
      "third  mandrake  great  clear  what  \n",
      " https://twitter.com/travismcelroy/status/932340943512133632 name  my  bussed bed  \n",
      " omg sense scary  have  altho  \n",
      " pure  r  free  reeling  mangos  \n",
      " my  elena  true happened https://twitter.com/MAYA__800/status/856929422120599552 \n",
      " wrong USB  my  have  Twitter  \n",
      " sick 🧚  only  was  what \n",
      " what  minutes grad  lost  what \n",
      " such  cafe fine  love  guy  \n",
      " worst  minutes  little  doing  one \n",
      "your  wine ugh  found  ice  \n",
      " your  bread spiel  's  toe  \n",
      " my  thing sad  have  tonight \n",
      " melancholy  talk  weird  does idea  \n",
      " cool  reservation  upset  is  hill  \n",
      " structuralist  uber  busy give  shows  \n",
      " last  phone ephemeral  left  alumni  \n",
      " unintentional  snapchat  their  need  breitbart  \n",
      " sorry  cash  omg  finished  world  \n",
      " real movie omg was  trouble \n",
      "her  descent  hahaha 'm  dad  \n",
      " my  term  scenic  won  s \n",
      " upsetting trust  cool  want  tweet \n",
      " my  australia  excited  get  williamsburg  \n",
      " what  twin  her  ’m  evening  \n",
      " bad  breaths  teenage  be  jeannie  \n",
      " clear  ¯\\_(ツ)_/¯  strange choose  ramen \n",
      " squish  experience  YOUR  having  weed  \n",
      " my  what true  think  what  \n",
      " most  end  little  watch  semi\n",
      "little  what  asleep  liked  home  \n",
      " close server  cozy  'm  hotel  \n",
      " hahaha debate open  go  beer  \n",
      " bad today hot  have  post \n",
      " ugly  apartment susan  hanging  bed  \n",
      " long  gram  needy  call  terms  \n",
      " happy  ear  theo  having  word  \n",
      " yellow  helloooo bad  countersign  whenevs  \n",
      " ROUGH  https://twitter.com/danozzi/status/956645678725451776 my  'm  aliens \n",
      " def  mans  free go  deli \n",
      "allergic  woof  good knows  thomas  \n",
      " cool morning  indian  say  radishes \n",
      " unclear  what different  trying  chalet  \n",
      " expensive what  weird  learn  period  \n",
      " particular lot  effective  is  body  \n",
      " good paper close  land  desires  \n",
      " clear  dems  complete  fixate  %  \n",
      " absurd what  first  changed  today \n",
      " much  freezer  stressed call  name  \n",
      " international  ybca  what  help rush\n",
      "perfect  people  https://youtu.be/jWxIOdt-V8Y talking  😍 \n",
      " happy  year  fascinating  goopy  soho \n",
      " dense chair  uptight ’m  din  \n",
      " different  edmond nice  give  respect  \n",
      " numb l  bad  is  people  \n",
      " surprised  guys  their  paid  what  \n",
      " 😮 location slip  wonder  lmao \n",
      " semitonic  good great 'm  sandwiches  \n",
      " noooo spotify about  manifesting  friend \n",
      " cold  kindle  my  trying  yoga\n",
      "whole  bit good  had  bside  \n",
      " high  cafe my  get  list  \n",
      " good  hegemon  smart  's  plums  \n",
      " my  day cool  got  max \n",
      " https://codepen.io/miamiworldwide/pen/MJGaXW http://slate.me/2e2n2G8 good  ’s  e  \n",
      " sure vines  clean make  power  \n",
      " idgi phone horrible know  boys  \n",
      " sad  testosterone  jealous  learned  surw \n",
      " paranoid  emoji  gross  get  kind  \n",
      " successful  chance that  did  work\n",
      "asleep word  bad  feeling  sunday  \n",
      " your  spot worst  have  labor  \n",
      " your  😘 close  feel  irl \n",
      " only  tacos  my  playing  teens \n",
      " pro mom  good  'm  ft \n",
      " wild  class  unprompted  is  buzzfeed \n",
      " My  😘 great  'm  human \n",
      " your  bird sure  ask  ricotta \n",
      " twighlight  http://www.wikihow.com/Respond-when-Someone-Calls-You-a-%22Racist%22 like  is  baby  \n",
      " all  airplane  what  is  broker \n",
      "cool everyvday  pretty  did  slug  \n",
      " sorry lot  more  go  PhD \n",
      " weird up  first  afford  mind  \n",
      " open  take nice are  lyft  \n",
      " open pear  slow  express  way \n",
      " my  drink  halp am  couple  \n",
      " happy  minute  his  go  cooking  \n",
      " much  ray  true LOVE  ones \n",
      " right sights  expensive  ran  minutes \n",
      " smart  touch  long  made  conference\n",
      "much  people  your  helping  sense \n",
      " sorry  academics  high  is  pots  \n",
      " cool  time  least  getting  buenos  \n",
      " slip  agreement compact  was  dreamland \n",
      " uneducated  years  political  been  pizza  \n",
      " irritated  realer only  say  man  \n",
      " chrome jonathan  my  'm  sleep \n",
      " cool  what  my  go  people  \n",
      " other  timbers  little  have  thanks \n",
      " wrong  fun  lazy  be  something \n",
      "bluetooth  TROMP LaNcE get  fuzzball \n",
      " black  dad  adorable  get  https://open.spotify.com/user/spotify/playlist/37i9dQZF1DWV5sGFwUJeqR \n",
      " cold  exploratorium  great  go  stuff \n",
      " excited  sheets  happy starts  bread  \n",
      " last  sculpture  smooth  looks  lyft  \n",
      " free  self  your  are  anxiety  \n",
      " your  march  overwhelming 'm  lot \n",
      " reasonable  touch  little  wrote  mutants \n",
      " cool  what drunk worked  time \n",
      " red  uber  your  request  libraries \n",
      "her  thing  long  was  opening  \n",
      " other  worries raw  are  😍  \n",
      " same something  first  did  marshmallow  \n",
      " free  life linden  think  group \n",
      " skinny  gif  open got  sense \n",
      " competitive  coffee funny  am news  \n",
      " weird class  purposeful  want  bart  \n",
      " free moment  his  like  vacation  \n",
      " used  money due  died  regret  \n",
      " rude what  la  mentioning what \n",
      "cheap  computer  weird running  %  \n",
      " my  what  sure have  fuckboy \n",
      " your  projects  lucky  need  things  \n",
      " worst mount  intimate  are  cvs  \n",
      " my  data  sorry  is  lab \n",
      " good floor  accurate  think  article  \n",
      " ambitious  portland  higher  closes  sculpture  \n",
      " different  situation  best  is  colonel  \n",
      " new  nothing  paragraphsish decide wassap  \n",
      " brainwavez tea fun  sounds  kisses\n",
      "good  tonight frequent  kept  http://www.norcalhostels.org/sites/default/files/files/dl_pm_1.jpg \n",
      " what  movie  indian  visited  peoples \n",
      " bad  zines  non  is  piff \n",
      " nice what  political  was  mom \n",
      " excited  what  several  was  place  \n",
      " falkland  heat  sorry  wish  what  \n",
      " sure  what  nice was  sudafeds \n",
      " eared  coffee  AWAKE  ’m  https://twitter.com/Isco_edition/status/784392938751004673 \n",
      " little  REASON  weird  going  years  \n",
      " good people  able  is  bush \n",
      "painful julius  right makes  https://twitter.com/oraligh/status/898130777053044737 \n",
      " burrito  tank  okay got  lot  \n",
      " big  lives my  were  https://twitter.com/380kmh/status/902504626628460544 \n",
      " which  carnegie  your  mean  art  \n",
      " goodnight spaghetti prepared  is  arrivals  \n",
      " BROKEN face sick said  part  \n",
      " close conference  sorry thought  what  \n",
      " bad headphones my  used  cycle  \n",
      " few  NOTHING  what  been  shrimp  \n",
      " relaxed  crabmeat mutant  yelled  email\n",
      "all  baby  http://www.newsweek.com/he-walked-us-he-talked-us-169342?amp=1&__twitter_impression=true 's  drunkles \n",
      " glad  building quieter 's  mom  \n",
      " middle  batch  great  remember  tho \n",
      " other  medellin  fine  be  database  \n",
      " correct  class  annoying get  news  \n",
      " my  😍 final  is  coffee  \n",
      " fresh  besos  hard 'm  lub  \n",
      " good what bro  put  dinner  \n",
      " https://twitter.com/Papapishu/status/949446955440189440 sam safe  seeing  guy  \n",
      " sorry  minutes  your  ’s  lessons\n",
      "only  one  my  had  dwarf  \n",
      " uninspired  intonation  my  blocked  research \n",
      " my  cucumber  able  are  guilt \n",
      " rental  omggggggg  weird read  😡 \n",
      " annoyed  people  my  's  timing  \n",
      " fun  kind  your  is  rice \n",
      " cool  u  much  is mark  \n",
      " south  opinions my  spending  hoooooome \n",
      " cool  coffee  bad  pick  https://twitter.com/mrhaydenmyers/status/876229402572488709 \n",
      " full  wine good  got  https://youtu.be/yKNxeF4KMsY\n",
      "thai  ME american  got  what \n",
      " cute  phone  same  'm  worries \n",
      " good work  my  's  food  \n",
      " private  factor  terrible  stopped johnny  \n",
      " your  sooo weird  see  days  \n",
      " second  one  that  think  time  \n",
      " more  night more  be  softball  \n",
      " good lot fine ’s  people  \n",
      " strong  reasons  weird feeling  coffee  \n",
      " relatable  clusterfuck same 'm  actor \n",
      "cool haha okay  followed  mussels  \n",
      " high way fine  think record  \n",
      " more  ones  araaaaaaaaaayh am  people  \n",
      " fine video your  pouring  tensorflow \n",
      " poetic  globalist good going  what  \n",
      " incredible  work  my  see  friends  \n",
      " my  things  my  are  couple  \n",
      " my  texts  nooooo warm  cat \n",
      " omg express new  apply  what  \n",
      " omg fundraiser  Spanish  am  class \n",
      "few thing  my  annoy  what  \n",
      " much  fish  cold  tell anxiety \n",
      " decadent  https://soundcloud.com/kamaiyah/sets/a-good-night-in-the-ghetto my  was  🏄 \n",
      " awful touch  more  get  sink  \n",
      " happy  minutes half  know factor \n",
      " much  ghost  hard  need  rock  \n",
      " great  hormones  their  know  kachka \n",
      " green  relationships  little  look  kind  \n",
      " https://twitter.com/noneofthisreal/status/844965537947934720 way  worried picturing  day \n",
      " hard  turmeric  my  sleep  vice \n",
      "fyi toothpaste  good  been  what  \n",
      " your  east  anxious  can thanks \n",
      " your  high  depressed  saying  album  \n",
      " huge  seltzer same  sounds  name  \n",
      " my  spiels great  was  phone  \n",
      " arable  constraints  erased  have  mall  \n",
      " best  flights  long  owe  what  \n",
      " major  🙏 hungry  was  uber  \n",
      " easy  sex  my  is  tho \n",
      " your  mayb ugh  'm  coffee\n",
      "hahaha what  my  like  texts  \n",
      " intense  syd  better  makes  luck  \n",
      " immediate  emails my  's  point  \n",
      " rude credit  sorry  are  fart \n",
      " great  discussion  big  is  club  \n",
      " my  https://twitter.com/sshinmi0915/status/864301328163459072 free  listening  trouble  \n",
      " https://twitter.com/leyawn/status/900735566089781248 worries whole  want  part  \n",
      " your  thanks  tired 'm  % \n",
      " my  sense  little  went  liquids  \n",
      " fuck floors  sick  love  time \n",
      "goodnight  ohana perfect had  basics  \n",
      " great  characterizations  last  feel  summer  \n",
      " https://twitter.com/theferocity/status/871483764865630212 route big is  tool  \n",
      " displeased  omg  https://twitter.com/harinef/status/865772277853564928 ’m  worries  \n",
      " free  people  that  's  jeff  \n",
      " socialist  homework  https://twitter.com/theferocity/status/871483764865630212 's  night \n",
      " sad  anyone  omg keep  lmao \n",
      " fine  muffin perfect cooking  pros \n",
      " less  cocktail  gen  found  neighborhood \n",
      " hahaha reaction thanks1 want  votes \n",
      "my  http://m.youtube.com/watch?v=Evng3Ai17xg crazy  is  bit  \n",
      " ooo  Secrets last  want  baby  \n",
      " https://twitter.com/twitersgoodboy/status/732378068908703744 lot  open  seen tomorrow  \n",
      " 👏 world  nice call  https://twitter.com/g0m/status/720606348183015425 \n",
      " mild  cities able  used  snack  \n",
      " last  twitter  sleepy  's  chance  \n",
      " happy  edit  other  watching  door  \n",
      " easier  cheese what  sucked  what  \n",
      " last  take your  's  question  \n",
      " houle  thing  weird  had  minutes\n",
      "big  holiday  substantive  sounds  party  \n",
      " my  bed first  'm  week  \n",
      " what  flight right  need  picture  \n",
      " scared  people  sorry leave  uber  \n",
      " my  what upper  know  perf \n",
      " my  mom  sorry  told  phd  \n",
      " my  pepsi  much  used  spectating \n",
      " super  ghostbus  real be  friends  \n",
      " my  break  close  going  internet  \n",
      " my  soul  sorry get  expatriate \n",
      "my  _ radioactive are  shuffle  \n",
      " asleep  one  newsworthy wake  bar  \n",
      " bigger  drink  single  feel  tomorrow  \n",
      " https://www.lyft.com/sr/7bwgi79grjqm friend  hahaha love  ears  \n",
      " much  standards entire  sucks  tho \n",
      " sure  running  millennial  do  afterparty \n",
      " aah reddit new  is  situationalist \n",
      " able  letters  my  have work  \n",
      " its  https://www.youtube.com/watch?v=4MF2FHv2klQ  emilysdiaryofficial.tumblr.com/image/147227956527 know  departure  \n",
      " your  body  https://twitter.com/jonnygabriel/status/862066090981167104 be  cafe\n",
      "My  way  true  got  part  \n",
      " fun snack  sinful  think  https://twitter.com/fiawslive/status/870766154091855872 \n",
      " his  march  alanna  have  donor  \n",
      " that  expert  white  want  ep \n",
      " great ears  alive seem  time  \n",
      " anxious vacation great  going  whoops \n",
      " omg wedding  more give  employees \n",
      " sure  person  most  moving  orders  \n",
      " same cali  abrupt  is  platform \n",
      " natural  dinner happy  is  debate\n",
      "my  http://imgur.com/gallery/pDfmP algorithmic  feel  thanks \n",
      " his  tonight  lateral  change  something  \n",
      " irregular  routine  different  have  tea \n",
      " omg problem  which  being  oooh  \n",
      " mad  bed  mingus  have  tho \n",
      " great omg omg left  analysis \n",
      " annoyed  life  motivated  is  basics  \n",
      " tired www.maloneyfineart.com/first-wontyoubuyme5 your  is  drink  \n",
      " grad  lil  that  want  smell  \n",
      " good  trash  risky  was  time \n",
      "grad  tale  her  looks  eggs  \n",
      " awful  mustard great  check pizza  \n",
      " cheaper  shit my  was  keys  \n",
      " tired  front  houle is  saturday \n",
      " sound  state  sure  send  boomerang  \n",
      " cool lot  your  'm  hole  \n",
      " long  whirlwind  my  was  workers  \n",
      " bad uber  former  is  😈 \n",
      " my  slavs  last  recognize  word  \n",
      " incognito  frail little  going  chillin\n",
      "slip  lot  my  staying  contract  \n",
      " petty references  good  'm  equipment  \n",
      " white  part  my  stop  minutes \n",
      " edmond  variety  exciting know  food  \n",
      " much attention  dead am  fear  \n",
      " my  what  shhh sounds  fruit  \n",
      " fine peanut  ooo has  place  \n",
      " little  editor  more  was  image \n",
      " my  Mondays good  started  shop  \n",
      " free www.slate.com/articles/news_and_politics/politics/2016/10/keith_olbermann_and_our_vogue_for_eviscerations_and_epic_rants.html about  going  19th\n",
      "much  guys  biggest  leave  shirt \n",
      " my  coast  my  is  lake  \n",
      " fascinating  minute  only  gave  trap \n",
      " emotional  office  sure  was  episode  \n",
      " weird angel  their  comes  coasters  \n",
      " next  stuff  regular  is  thanksgiving  \n",
      " high  summer  goodnight wondering  artists \n",
      " less  rustling cool is  call  \n",
      " omg lol bad  are  apple  \n",
      " asleep  friend http://m.asos.com/mt/us.asos.com/New-Look-Tall-D-Ring-Jumpsuit/19faqm/?iid=6384267&clr=Black&SearchQuery=jumpsuit&pgesize=36&pge=2&totalstyles=208&gridsize=3&gridrow=9&gridcolumn=3&mporgp=L25ldy1sb29rLXRhbGwvbmV3LWxvb2stdGFsbC1kLXJpbmctanVtcHN1aXQvcHJvZC8&un_jtt_application_platform=newPlp&un_jtt_redirect  happened  invasion\n",
      "much  amazon  your  ’s  what  \n",
      " fake  birthdays  big  look  morning  \n",
      " good  america  sure  ’s  tho \n",
      " weird slippers  apt  is  teens \n",
      " smart house  mutant  drinking  place  \n",
      " bad time  my  thought  what \n",
      " good delays  whole  makes  pipe \n",
      " sure time  good  build  transcript  \n",
      " heavy  energy  only  is  algorithms  \n",
      " more  what  Human  are  morning \n",
      "san  pack  quick  know  population  \n",
      " my  perspective  multiple  am  lunch  \n",
      " more  lagoon  which  imagine  webpage \n",
      " more  reason  my  get  parking  \n",
      " new  IDEA  ongoing  hate  argument  \n",
      " busy  trouble  sorry  be  part  \n",
      " big  fire other  is chicken \n",
      " intrinsic  face  cool bring  guys  \n",
      " much  Adults  cold have  peter  \n",
      " about  art  enough  had  trip \n",
      "good  feeling  outdoor  'm  what  \n",
      " what  harmony  your  is  months  \n",
      " nice vibe IMPORTANT  's  relationship  \n",
      " our  johnny  enhanced  keep  sontag  \n",
      " your  something  aaah  take  dentist  \n",
      " little gd  sick  is  corner \n",
      " fun farleys  cool  think  segment  \n",
      " fetty  blood  awake  be  casper  \n",
      " true preference full  be  what  \n",
      " great  damage  omg having  aria \n",
      "good house  true  is mama  \n",
      " cool right  new  makes  fun  \n",
      " my  one free  getting  antibiotics \n",
      " brown  http://www.norcalhostels.org/sites/default/files/files/dl_pm_1.jpg casual  became  smile \n",
      " true  mess  https://twitter.com/gothshakira/status/862918745848778753 do birds \n",
      " full  lot  first  have  saint  \n",
      " my  today  weird  talking  mooncake  \n",
      " accurate %  cool  miss  friend  \n",
      " sparse  heart  my  think  snack  \n",
      " okay pickling  your  working  sister \n",
      "great  people  cool  work  laptop \n",
      " all  https://twitter.com/danozzi/status/956645678725451776 good  think  https://twitter.com/brandonwardell/status/732266985090912260 \n",
      " about  home  constructive was  lmao \n",
      " hillary  what fun got  computer  \n",
      " bigger  heart correct  get  meal  \n",
      " my  table  lloyd  like who  \n",
      " brave cat  umm sounds  feelings  \n",
      " my  bart  good  go what  \n",
      " that  pizza  communicative  'm  phone  \n",
      " my  conference  happy  work journey \n",
      "only  joint bad  watch  what  \n",
      " my  student  hungry gets  place  \n",
      " https://twitter.com/Tong_Gae/status/864438817062649856  bar  public  ’m  cinnamon \n",
      " international  party professional  appreciate  sam  \n",
      " cold beginning  omg ate  bath  \n",
      " cool  FLOP true  using  idea \n",
      " my  night true am  basis  \n",
      " grey  haha such  have  bagel  \n",
      " my  what my  'm  farmers  \n",
      " mixed  mushroom  dow  was day \n",
      "violent  friend  stressful  think  flight  \n",
      " scary  what  cute ’s  what  \n",
      " dry  iconoclast  good eating  garden  \n",
      " ugh  anything  https://en.wikipedia.org/wiki/Teen_Spirit_(deodorant need  level  \n",
      " able  home  my  mean  sheets  \n",
      " cool night hot  feeling  home  \n",
      " contemporary  phone  excited  worn  noise  \n",
      " my  notifications  wild 'm  what  \n",
      " my  pokemon  which  went  year \n",
      " new  garden  many  is  lots \n",
      "http://www.friedlin.com/images/w250/underberg.jpg wire  fine listened  everything  \n",
      " busy https://soundcloud.com/par-tay-records/thank-you-for-funkin-me-sfpv-edit  open  go  scarf  \n",
      " real crowd  indulgant  asking  difference  \n",
      " crazy  ride  my  is  lmao \n",
      " bad  coney  alden is  INTENSELY \n",
      " my  nymag.com/selectall/2016/08/did-i-kill-gawker.html?mc_cid=ff7132bfc6&mc_eid=d5513045e6 fun be  finger  \n",
      " chandler  gawker.com/peter-thiel-is-interested-in-harvesting-the-blood-of-th-1784649830 milky  gets  scallion  \n",
      " much  tweet goodnight  think  wot  \n",
      " other  🏑 male  thought  what \n",
      " good  dog fyi is  POSSIBILITIES\n",
      "cool  anyone  tired have  lil  \n",
      " my  apples omg  is  debate  \n",
      " my  message  more  take  time  \n",
      " hippy  kinds  brutal watching  exit  \n",
      " your  lot  okay fulfilling  please \n",
      " sure  work  my  be  boo \n",
      " my  chance  cute  uses  room  \n",
      " omg  tomorrow cheapest  wanted  marisa  \n",
      " incredible yesterday your  remember  king  \n",
      " his  lot  last  is  twitter \n",
      "facial  libraries  awake want  salad \n",
      " intimate  episode least ’s  paper \n",
      " my  sidewalk  grad  think  ginger  \n",
      " your  way gray  resolves  county  \n",
      " productive  text  great  swing  pants  \n",
      " my  cat  close  going  GO  \n",
      " sleepy 90s  glad  'm  u  \n",
      " your  word  my  need  trump  \n",
      " my  mystery  virtuous  send  mom \n",
      " worst  minute  little  heading  sound\n",
      "https://twitter.com/edzitron/status/926922594451726336 artist  my  travel  bot  \n",
      " true one  ugetsu  lost  bday  \n",
      " sick right  your  do  idk  \n",
      " that  sense https://www.youtube.com/watch?v=AqQpIo327Uw manifesting panel  \n",
      " my  name great 'm  Parrish \n",
      " your  life omg keep  school \n",
      " sad  what  my  'm  page \n",
      " good what  same ’s  seasons  \n",
      " okay time  https://twitter.com/snpsnpsnp/status/781906450583003137  used  lotus  \n",
      " bad  shower  right took  coffee\n",
      "jul  snek my  have  market  \n",
      " worth  house  personal  shaved  what  \n",
      " good  8th confident get  part  \n",
      " first  https://www.youtube.com/watch?v=t2wjCX81CHM  fine  ’s  what  \n",
      " crazy  http://www.trueberlin.com/place/bar-mysliwska/ fateful  think  time  \n",
      " sick call  excited are  jill  \n",
      " interested  joke  late  feels  aids \n",
      " my  Y enough  are  tomorrow  \n",
      " horrible sentence  cool saw  code \n",
      " ongoing  batch  ooo was  chicken \n"
     ]
    }
   ],
   "source": [
    "c = 0\n",
    "while c < 50:\n",
    "    textGenerate()\n",
    "    c = c+1"
   ]
  },
  {
   "cell_type": "code",
   "execution_count": null,
   "metadata": {
    "collapsed": true
   },
   "outputs": [],
   "source": []
  }
 ],
 "metadata": {
  "kernelspec": {
   "display_name": "Python [conda root]",
   "language": "python",
   "name": "conda-root-py"
  },
  "language_info": {
   "codemirror_mode": {
    "name": "ipython",
    "version": 3
   },
   "file_extension": ".py",
   "mimetype": "text/x-python",
   "name": "python",
   "nbconvert_exporter": "python",
   "pygments_lexer": "ipython3",
   "version": "3.5.3"
  }
 },
 "nbformat": 4,
 "nbformat_minor": 2
}
