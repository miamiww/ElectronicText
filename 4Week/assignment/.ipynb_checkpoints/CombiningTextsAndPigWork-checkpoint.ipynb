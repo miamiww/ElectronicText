{
 "cells": [
  {
   "cell_type": "code",
   "execution_count": 5,
   "metadata": {
    "collapsed": true
   },
   "outputs": [],
   "source": [
    "import random"
   ]
  },
  {
   "cell_type": "code",
   "execution_count": 22,
   "metadata": {},
   "outputs": [],
   "source": [
    "# print(\"\".join([line for line in open(\"newTexts.txt\")]) )\n",
    "# print(\"\".join([line for line in open(\"pigwork.txt\")]) )"
   ]
  },
  {
   "cell_type": "code",
   "execution_count": 76,
   "metadata": {},
   "outputs": [
    {
     "data": {
      "text/plain": [
       "452"
      ]
     },
     "execution_count": 76,
     "metadata": {},
     "output_type": "execute_result"
    }
   ],
   "source": [
    "texts = [line.strip() for line in open(\"newTexts2.txt\")]\n",
    "texts = [text.replace('  ',' ') for text in texts if 'http' not in text]\n",
    "texts_short = [random.sample(texts,200)]\n",
    "texts_short = [text.capitalize() for text in texts_short[0]]\n",
    "len(texts)"
   ]
  },
  {
   "cell_type": "code",
   "execution_count": 77,
   "metadata": {
    "collapsed": true
   },
   "outputs": [],
   "source": [
    "pigs = [line.split('. ') for line in open(\"pigwork.txt\")]\n",
    "pigs = pigs[0]\n",
    "all_pig_texts = texts_short + pigs"
   ]
  },
  {
   "cell_type": "code",
   "execution_count": 78,
   "metadata": {},
   "outputs": [
    {
     "name": "stdout",
     "output_type": "stream",
     "text": [
      "red uber your request libraries\n",
      "I walked in the other day and shouted, “Don’t spend another minute on this shit until we get a sample of collector appetite.” Apple polish everything, that’s my new motto\n",
      "chinese air full are grocery\n",
      "It’s a complete adhocracy as far as “work” is concerned from now on\n",
      "facial libraries awake want salad\n",
      "Look, let’s address things realistically for a change\n",
      "my what my 'm farmers\n",
      "Stop making so many requests\n",
      "cool haha okay followed mussels\n",
      "Back home they’re all armchair generals\n",
      "your bread spiel 's toe\n",
      "Back where I came from the old cynics said, “I don’t think you’re being totally aboveboard with us.” Aces in their places! That’s my only response\n",
      "fetty blood awake be casper\n",
      "We had a little get-together at the Peruvian place and I made a little speech\n",
      "cool reservation upset is hill\n",
      "You got it\n",
      "my what true think what\n",
      "It’s the place\n",
      "your bird sure ask ricotta\n",
      "“Don’t bother me while I’m actioning my deliverables.” That’s what I told the guys the other day\n"
     ]
    }
   ],
   "source": [
    "c = 0\n",
    "while c < 10:\n",
    "    print(random.choice(texts))\n",
    "    print(random.choice(pigs))\n",
    "    c=c+1"
   ]
  },
  {
   "cell_type": "code",
   "execution_count": 79,
   "metadata": {},
   "outputs": [
    {
     "data": {
      "text/plain": [
       "'No one here can do anything wrong in my eyes'"
      ]
     },
     "execution_count": 79,
     "metadata": {},
     "output_type": "execute_result"
    }
   ],
   "source": [
    "random.choice(pigs)"
   ]
  },
  {
   "cell_type": "code",
   "execution_count": 80,
   "metadata": {
    "scrolled": true
   },
   "outputs": [],
   "source": [
    "new_essay = \". \".join(random.sample(all_pig_texts, len(all_pig_texts)))"
   ]
  },
  {
   "cell_type": "code",
   "execution_count": 85,
   "metadata": {},
   "outputs": [],
   "source": [
    "file = open('newEssay.txt','w') \n",
    " \n",
    "file.write(new_essay) \n",
    " \n",
    "file.close() "
   ]
  }
 ],
 "metadata": {
  "kernelspec": {
   "display_name": "Python [conda root]",
   "language": "python",
   "name": "conda-root-py"
  },
  "language_info": {
   "codemirror_mode": {
    "name": "ipython",
    "version": 3
   },
   "file_extension": ".py",
   "mimetype": "text/x-python",
   "name": "python",
   "nbconvert_exporter": "python",
   "pygments_lexer": "ipython3",
   "version": "3.5.3"
  }
 },
 "nbformat": 4,
 "nbformat_minor": 2
}
