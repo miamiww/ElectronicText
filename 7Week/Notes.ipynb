{
 "cells": [
  {
   "cell_type": "markdown",
   "metadata": {},
   "source": [
    "## Language, Spacy "
   ]
  },
  {
   "cell_type": "code",
   "execution_count": 1,
   "metadata": {
    "collapsed": true
   },
   "outputs": [],
   "source": [
    "import spacy"
   ]
  },
  {
   "cell_type": "code",
   "execution_count": 3,
   "metadata": {
    "collapsed": true
   },
   "outputs": [],
   "source": [
    "nlp = spacy.load('en_core_web_md')"
   ]
  },
  {
   "cell_type": "markdown",
   "metadata": {},
   "source": [
    "#### Natural Language Processing\n",
    "* spacy uses an underlying model of the english language\n",
    "* not designed for poetic text - web models statistically trained on text in things like wikipedia or google news\n",
    "* english is the most researched language, hard to find tools in other languages at the same quality\n",
    "* NLProc"
   ]
  },
  {
   "cell_type": "markdown",
   "metadata": {},
   "source": [
    "#### English grammar\n",
    "* sentences, words and parts of speech\n",
    "* part of speech is contextual, not a property of the word itself\n",
    "* nlp models have a statistical understanding of this context\n",
    "* dependency grammar"
   ]
  },
  {
   "cell_type": "code",
   "execution_count": 4,
   "metadata": {
    "collapsed": true
   },
   "outputs": [],
   "source": [
    "doc = nlp(\"All human beings are born free and equal in dignity and rights. They are endowed with reason and conscience and should act towards one another in a spirit of brotherhood. Everyone is entitled to all the rights and freedoms set forth in this Declaration, without distinction of any kind, such as race, colour, sex, language, religion, political or other opinion, national or social origin, property, birth or other status. Furthermore, no distinction shall be made on the basis of the political, jurisdictional or international status of the country or territory to which a person belongs, whether it be independent, trust, non-self-governing or under any other limitation of sovereignty.\")"
   ]
  },
  {
   "cell_type": "markdown",
   "metadata": {},
   "source": [
    "get list of all sentences\n",
    "\n",
    "this.sents is an iterator"
   ]
  },
  {
   "cell_type": "code",
   "execution_count": 10,
   "metadata": {},
   "outputs": [
    {
     "data": {
      "text/plain": [
       "[All human beings are born free and equal in dignity and rights.,\n",
       " They are endowed with reason and conscience and should act towards one another in a spirit of brotherhood.,\n",
       " Everyone is entitled to all the rights and freedoms set forth in this Declaration, without distinction of any kind, such as race, colour, sex, language, religion, political or other opinion, national or social origin, property, birth or other status.,\n",
       " Furthermore, no distinction shall be made on the basis of the political, jurisdictional or international status of the country or territory to which a person belongs, whether it be independent, trust, non-self-governing or under any other limitation of sovereignty.]"
      ]
     },
     "execution_count": 10,
     "metadata": {},
     "output_type": "execute_result"
    }
   ],
   "source": [
    "list(doc.sents)"
   ]
  },
  {
   "cell_type": "code",
   "execution_count": 11,
   "metadata": {},
   "outputs": [
    {
     "name": "stdout",
     "output_type": "stream",
     "text": [
      "All human beings are born free and equal in dignity and rights.\n",
      "They are endowed with reason and conscience and should act towards one another in a spirit of brotherhood.\n",
      "Everyone is entitled to all the rights and freedoms set forth in this Declaration, without distinction of any kind, such as race, colour, sex, language, religion, political or other opinion, national or social origin, property, birth or other status.\n",
      "Furthermore, no distinction shall be made on the basis of the political, jurisdictional or international status of the country or territory to which a person belongs, whether it be independent, trust, non-self-governing or under any other limitation of sovereignty.\n"
     ]
    }
   ],
   "source": [
    "for item in doc.sents:\n",
    "    print(item.text)"
   ]
  },
  {
   "cell_type": "code",
   "execution_count": 12,
   "metadata": {
    "collapsed": true
   },
   "outputs": [],
   "source": [
    "sentences = [item.text for item in doc.sents]"
   ]
  },
  {
   "cell_type": "code",
   "execution_count": 13,
   "metadata": {},
   "outputs": [
    {
     "data": {
      "text/plain": [
       "'They are endowed with reason and conscience and should act towards one another in a spirit of brotherhood.'"
      ]
     },
     "execution_count": 13,
     "metadata": {},
     "output_type": "execute_result"
    }
   ],
   "source": [
    "import random\n",
    "random.choice(sentences)"
   ]
  },
  {
   "cell_type": "code",
   "execution_count": 16,
   "metadata": {
    "collapsed": true
   },
   "outputs": [],
   "source": [
    "words = [item.text for item in doc]"
   ]
  },
  {
   "cell_type": "markdown",
   "metadata": {},
   "source": [
    "these are techinically 'tokens', generalized pieces of a document, e.g. words and punctuation "
   ]
  },
  {
   "cell_type": "code",
   "execution_count": 19,
   "metadata": {},
   "outputs": [
    {
     "name": "stdout",
     "output_type": "stream",
     "text": [
      "All all\n",
      "human human\n",
      "beings being\n",
      "are be\n",
      "born bear\n",
      "free free\n",
      "and and\n",
      "equal equal\n",
      "in in\n",
      "dignity dignity\n",
      "and and\n",
      "rights right\n",
      ". .\n",
      "They -PRON-\n",
      "are be\n",
      "endowed endow\n",
      "with with\n",
      "reason reason\n",
      "and and\n",
      "conscience conscience\n",
      "and and\n",
      "should should\n",
      "act act\n",
      "towards towards\n",
      "one one\n",
      "another another\n",
      "in in\n",
      "a a\n",
      "spirit spirit\n",
      "of of\n",
      "brotherhood brotherhood\n",
      ". .\n",
      "Everyone everyone\n",
      "is be\n",
      "entitled entitle\n",
      "to to\n",
      "all all\n",
      "the the\n",
      "rights right\n",
      "and and\n",
      "freedoms freedom\n",
      "set set\n",
      "forth forth\n",
      "in in\n",
      "this this\n",
      "Declaration declaration\n",
      ", ,\n",
      "without without\n",
      "distinction distinction\n",
      "of of\n",
      "any any\n",
      "kind kind\n",
      ", ,\n",
      "such such\n",
      "as as\n",
      "race race\n",
      ", ,\n",
      "colour colour\n",
      ", ,\n",
      "sex sex\n",
      ", ,\n",
      "language language\n",
      ", ,\n",
      "religion religion\n",
      ", ,\n",
      "political political\n",
      "or or\n",
      "other other\n",
      "opinion opinion\n",
      ", ,\n",
      "national national\n",
      "or or\n",
      "social social\n",
      "origin origin\n",
      ", ,\n",
      "property property\n",
      ", ,\n",
      "birth birth\n",
      "or or\n",
      "other other\n",
      "status status\n",
      ". .\n",
      "Furthermore furthermore\n",
      ", ,\n",
      "no no\n",
      "distinction distinction\n",
      "shall shall\n",
      "be be\n",
      "made make\n",
      "on on\n",
      "the the\n",
      "basis basis\n",
      "of of\n",
      "the the\n",
      "political political\n",
      ", ,\n",
      "jurisdictional jurisdictional\n",
      "or or\n",
      "international international\n",
      "status status\n",
      "of of\n",
      "the the\n",
      "country country\n",
      "or or\n",
      "territory territory\n",
      "to to\n",
      "which which\n",
      "a a\n",
      "person person\n",
      "belongs belong\n",
      ", ,\n",
      "whether whether\n",
      "it -PRON-\n",
      "be be\n",
      "independent independent\n",
      ", ,\n",
      "trust trust\n",
      ", ,\n",
      "non non\n",
      "- -\n",
      "self self\n",
      "- -\n",
      "governing governing\n",
      "or or\n",
      "under under\n",
      "any any\n",
      "other other\n",
      "limitation limitation\n",
      "of of\n",
      "sovereignty sovereignty\n",
      ". .\n"
     ]
    }
   ],
   "source": [
    "for item in doc:\n",
    "    print(item.text, item.lemma_)"
   ]
  },
  {
   "cell_type": "markdown",
   "metadata": {},
   "source": [
    "lemmatization - removing all inflections\n",
    "\n",
    "* cats -> cat\n",
    "* running -> run\n",
    "* are -> be\n",
    "* geese -> goose\n",
    "\n",
    "derivation and morphology"
   ]
  },
  {
   "cell_type": "code",
   "execution_count": 20,
   "metadata": {},
   "outputs": [
    {
     "name": "stdout",
     "output_type": "stream",
     "text": [
      "All DET DT\n",
      "human ADJ JJ\n",
      "beings NOUN NNS\n",
      "are VERB VBP\n",
      "born VERB VBN\n",
      "free ADJ JJ\n",
      "and CCONJ CC\n",
      "equal ADJ JJ\n",
      "in ADP IN\n",
      "dignity NOUN NN\n",
      "and CCONJ CC\n",
      "rights NOUN NNS\n",
      ". PUNCT .\n",
      "They PRON PRP\n",
      "are VERB VBP\n",
      "endowed VERB VBN\n",
      "with ADP IN\n",
      "reason NOUN NN\n",
      "and CCONJ CC\n",
      "conscience NOUN NN\n",
      "and CCONJ CC\n",
      "should VERB MD\n",
      "act VERB VB\n",
      "towards ADP IN\n",
      "one NUM CD\n",
      "another DET DT\n",
      "in ADP IN\n",
      "a DET DT\n",
      "spirit NOUN NN\n",
      "of ADP IN\n",
      "brotherhood NOUN NN\n",
      ". PUNCT .\n",
      "Everyone NOUN NN\n",
      "is VERB VBZ\n",
      "entitled VERB VBN\n",
      "to ADP IN\n",
      "all ADJ PDT\n",
      "the DET DT\n",
      "rights NOUN NNS\n",
      "and CCONJ CC\n",
      "freedoms NOUN NNS\n",
      "set VERB VBN\n",
      "forth ADV RB\n",
      "in ADP IN\n",
      "this DET DT\n",
      "Declaration PROPN NNP\n",
      ", PUNCT ,\n",
      "without ADP IN\n",
      "distinction NOUN NN\n",
      "of ADP IN\n",
      "any DET DT\n",
      "kind NOUN NN\n",
      ", PUNCT ,\n",
      "such ADJ JJ\n",
      "as ADP IN\n",
      "race NOUN NN\n",
      ", PUNCT ,\n",
      "colour NOUN NN\n",
      ", PUNCT ,\n",
      "sex NOUN NN\n",
      ", PUNCT ,\n",
      "language NOUN NN\n",
      ", PUNCT ,\n",
      "religion NOUN NN\n",
      ", PUNCT ,\n",
      "political ADJ JJ\n",
      "or CCONJ CC\n",
      "other ADJ JJ\n",
      "opinion NOUN NN\n",
      ", PUNCT ,\n",
      "national ADJ JJ\n",
      "or CCONJ CC\n",
      "social ADJ JJ\n",
      "origin NOUN NN\n",
      ", PUNCT ,\n",
      "property NOUN NN\n",
      ", PUNCT ,\n",
      "birth NOUN NN\n",
      "or CCONJ CC\n",
      "other ADJ JJ\n",
      "status NOUN NN\n",
      ". PUNCT .\n",
      "Furthermore ADV RB\n",
      ", PUNCT ,\n",
      "no DET DT\n",
      "distinction NOUN NN\n",
      "shall VERB MD\n",
      "be VERB VB\n",
      "made VERB VBN\n",
      "on ADP IN\n",
      "the DET DT\n",
      "basis NOUN NN\n",
      "of ADP IN\n",
      "the DET DT\n",
      "political ADJ JJ\n",
      ", PUNCT ,\n",
      "jurisdictional ADJ JJ\n",
      "or CCONJ CC\n",
      "international ADJ JJ\n",
      "status NOUN NN\n",
      "of ADP IN\n",
      "the DET DT\n",
      "country NOUN NN\n",
      "or CCONJ CC\n",
      "territory NOUN NN\n",
      "to PART TO\n",
      "which ADJ WDT\n",
      "a DET DT\n",
      "person NOUN NN\n",
      "belongs VERB VBZ\n",
      ", PUNCT ,\n",
      "whether ADP IN\n",
      "it PRON PRP\n",
      "be VERB VB\n",
      "independent ADJ JJ\n",
      ", PUNCT ,\n",
      "trust NOUN NN\n",
      ", PUNCT ,\n",
      "non ADJ JJ\n",
      "- PUNCT HYPH\n",
      "self NOUN NN\n",
      "- PUNCT HYPH\n",
      "governing NOUN NN\n",
      "or CCONJ CC\n",
      "under ADP IN\n",
      "any DET DT\n",
      "other ADJ JJ\n",
      "limitation NOUN NN\n",
      "of ADP IN\n",
      "sovereignty NOUN NN\n",
      ". PUNCT .\n"
     ]
    }
   ],
   "source": [
    "for item in doc:\n",
    "    print(item.text, item.pos_, item.tag_)"
   ]
  },
  {
   "cell_type": "code",
   "execution_count": 21,
   "metadata": {},
   "outputs": [
    {
     "data": {
      "text/plain": [
       "['beings', 'rights', 'rights', 'freedoms']"
      ]
     },
     "execution_count": 21,
     "metadata": {},
     "output_type": "execute_result"
    }
   ],
   "source": [
    "[item.text for item in doc if item.tag_ == \"NNS\"]"
   ]
  },
  {
   "cell_type": "code",
   "execution_count": 22,
   "metadata": {},
   "outputs": [
    {
     "data": {
      "text/plain": [
       "['beings',\n",
       " 'dignity',\n",
       " 'rights',\n",
       " 'reason',\n",
       " 'conscience',\n",
       " 'spirit',\n",
       " 'brotherhood',\n",
       " 'Everyone',\n",
       " 'rights',\n",
       " 'freedoms',\n",
       " 'distinction',\n",
       " 'kind',\n",
       " 'race',\n",
       " 'colour',\n",
       " 'sex',\n",
       " 'language',\n",
       " 'religion',\n",
       " 'opinion',\n",
       " 'origin',\n",
       " 'property',\n",
       " 'birth',\n",
       " 'status',\n",
       " 'distinction',\n",
       " 'basis',\n",
       " 'status',\n",
       " 'country',\n",
       " 'territory',\n",
       " 'person',\n",
       " 'trust',\n",
       " 'self',\n",
       " 'governing',\n",
       " 'limitation',\n",
       " 'sovereignty']"
      ]
     },
     "execution_count": 22,
     "metadata": {},
     "output_type": "execute_result"
    }
   ],
   "source": [
    "[item.text for item in doc if item.pos_ == \"NOUN\"]"
   ]
  },
  {
   "cell_type": "code",
   "execution_count": 24,
   "metadata": {},
   "outputs": [],
   "source": [
    "nouns = [item.text for item in doc if item.pos_ == 'NOUN']\n",
    "adjectives = [item.text for item in doc if item.pos_ == 'ADJ']"
   ]
  },
  {
   "cell_type": "code",
   "execution_count": 25,
   "metadata": {},
   "outputs": [
    {
     "name": "stdout",
     "output_type": "stream",
     "text": [
      "human spirit\n",
      "such Everyone\n",
      "political status\n",
      "national conscience\n",
      "all freedoms\n",
      "political language\n",
      "jurisdictional spirit\n",
      "free self\n",
      "other brotherhood\n",
      "such property\n"
     ]
    }
   ],
   "source": [
    "for i in range(10):\n",
    "    print(random.choice(adjectives) + \" \" + random.choice(nouns))"
   ]
  },
  {
   "cell_type": "code",
   "execution_count": 26,
   "metadata": {},
   "outputs": [
    {
     "data": {
      "text/plain": [
       "['All human beings',\n",
       " 'dignity',\n",
       " 'rights',\n",
       " 'They',\n",
       " 'reason',\n",
       " 'conscience',\n",
       " 'a spirit',\n",
       " 'brotherhood',\n",
       " 'Everyone',\n",
       " 'all the rights',\n",
       " 'freedoms',\n",
       " 'this Declaration',\n",
       " 'distinction',\n",
       " 'any kind',\n",
       " 'race',\n",
       " 'colour',\n",
       " 'sex',\n",
       " 'language',\n",
       " 'religion',\n",
       " 'opinion',\n",
       " 'national or social origin',\n",
       " 'property',\n",
       " 'birth',\n",
       " 'other status',\n",
       " 'no distinction',\n",
       " 'the basis',\n",
       " 'the political, jurisdictional or international status',\n",
       " 'the country',\n",
       " 'territory',\n",
       " 'a person',\n",
       " 'it',\n",
       " 'any other limitation',\n",
       " 'sovereignty']"
      ]
     },
     "execution_count": 26,
     "metadata": {},
     "output_type": "execute_result"
    }
   ],
   "source": [
    "[item.text for item in doc.noun_chunks]"
   ]
  },
  {
   "cell_type": "code",
   "execution_count": 28,
   "metadata": {
    "collapsed": true
   },
   "outputs": [],
   "source": [
    "my_sentence = list(doc.sents)[1]"
   ]
  },
  {
   "cell_type": "code",
   "execution_count": 33,
   "metadata": {},
   "outputs": [
    {
     "name": "stdout",
     "output_type": "stream",
     "text": [
      "They PRP endowed nsubjpass [] [They]\n",
      "are VBP endowed auxpass [] [are]\n",
      "endowed VBN endowed ROOT [They, are, with, and, act, .] [They, are, endowed, with, reason, and, conscience, and, should, act, towards, one, another, in, a, spirit, of, brotherhood, .]\n",
      "with IN endowed prep [reason] [with, reason, and, conscience]\n",
      "reason NN with pobj [and, conscience] [reason, and, conscience]\n",
      "and CC reason cc [] [and]\n",
      "conscience NN reason conj [] [conscience]\n",
      "and CC endowed cc [] [and]\n",
      "should MD act aux [] [should]\n",
      "act VB endowed conj [should, towards, in] [should, act, towards, one, another, in, a, spirit, of, brotherhood]\n",
      "towards IN act prep [one] [towards, one, another]\n",
      "one CD towards pobj [another] [one, another]\n",
      "another DT one det [] [another]\n",
      "in IN act prep [spirit] [in, a, spirit, of, brotherhood]\n",
      "a DT spirit det [] [a]\n",
      "spirit NN in pobj [a, of] [a, spirit, of, brotherhood]\n",
      "of IN spirit prep [brotherhood] [of, brotherhood]\n",
      "brotherhood NN of pobj [] [brotherhood]\n",
      ". . endowed punct [] [.]\n"
     ]
    }
   ],
   "source": [
    "for item in my_sentence:\n",
    "    print(item.text, item.tag_, item.head.text, item.dep_, list(item.children), list(item.subtree) )"
   ]
  },
  {
   "cell_type": "code",
   "execution_count": 32,
   "metadata": {
    "collapsed": true
   },
   "outputs": [],
   "source": [
    "def flatten_subtree(st):\n",
    "    return ''.join([w.text_with_ws for w in list(st)]).strip()"
   ]
  },
  {
   "cell_type": "code",
   "execution_count": 35,
   "metadata": {},
   "outputs": [
    {
     "name": "stdout",
     "output_type": "stream",
     "text": [
      "They / They\n",
      "are / are\n",
      "endowed / They are endowed with reason and conscience and should act towards one another in a spirit of brotherhood.\n",
      "with / with reason and conscience\n",
      "reason / reason and conscience\n",
      "and / and\n",
      "conscience / conscience\n",
      "and / and\n",
      "should / should\n",
      "act / should act towards one another in a spirit of brotherhood\n",
      "towards / towards one another\n",
      "one / one another\n",
      "another / another\n",
      "in / in a spirit of brotherhood\n",
      "a / a\n",
      "spirit / a spirit of brotherhood\n",
      "of / of brotherhood\n",
      "brotherhood / brotherhood\n",
      ". / .\n"
     ]
    }
   ],
   "source": [
    "for item in my_sentence:\n",
    "    print(item.text, \"/\",flatten_subtree(item.subtree))"
   ]
  },
  {
   "cell_type": "markdown",
   "metadata": {},
   "source": [
    "lets you get all the prepositional phrases"
   ]
  },
  {
   "cell_type": "code",
   "execution_count": 37,
   "metadata": {},
   "outputs": [
    {
     "name": "stdout",
     "output_type": "stream",
     "text": [
      "in dignity and rights\n",
      "with reason and conscience\n",
      "towards one another\n",
      "in a spirit of brotherhood\n",
      "of brotherhood\n",
      "to all the rights and freedoms set forth in this Declaration\n",
      "in this Declaration\n",
      "without distinction of any kind, such as race, colour, sex, language, religion, political or other opinion, national or social origin, property, birth or other status\n",
      "of any kind, such as race, colour, sex, language, religion, political or other opinion, national or social origin, property, birth or other status\n",
      "such as race, colour, sex, language, religion, political or other opinion, national or social origin, property, birth or other status\n",
      "on the basis of the political, jurisdictional or international status of the country or territory to which a person belongs\n",
      "of the political, jurisdictional or international status of the country or territory to which a person belongs\n",
      "of the country or territory to which a person belongs\n",
      "to which\n",
      "of sovereignty\n"
     ]
    }
   ],
   "source": [
    "for word in doc:\n",
    "    if word.dep_ == 'prep':\n",
    "        print(flatten_subtree(word.subtree))"
   ]
  },
  {
   "cell_type": "code",
   "execution_count": 38,
   "metadata": {},
   "outputs": [
    {
     "name": "stdout",
     "output_type": "stream",
     "text": [
      "a person\n",
      "it\n"
     ]
    }
   ],
   "source": [
    "for word in doc:\n",
    "    if word.dep_ == 'nsubj':\n",
    "        print(flatten_subtree(word.subtree))"
   ]
  },
  {
   "cell_type": "code",
   "execution_count": 40,
   "metadata": {},
   "outputs": [
    {
     "name": "stdout",
     "output_type": "stream",
     "text": [
      "All human beings\n",
      "They\n",
      "Everyone\n",
      "no distinction\n",
      "a person\n",
      "it\n"
     ]
    }
   ],
   "source": [
    "for word in doc:\n",
    "    if word.dep_ == 'nsubj' or word.dep_ == 'nsubjpass':\n",
    "        print(flatten_subtree(word.subtree))"
   ]
  },
  {
   "cell_type": "code",
   "execution_count": 41,
   "metadata": {},
   "outputs": [
    {
     "data": {
      "text/plain": [
       "[]"
      ]
     },
     "execution_count": 41,
     "metadata": {},
     "output_type": "execute_result"
    }
   ],
   "source": [
    "list(doc.ents)"
   ]
  },
  {
   "cell_type": "markdown",
   "metadata": {},
   "source": [
    "### parsing from a file"
   ]
  },
  {
   "cell_type": "code",
   "execution_count": 43,
   "metadata": {},
   "outputs": [],
   "source": [
    "doc2 = nlp(open(\"../3Week/plaintext-example-files/genesis.txt\").read())"
   ]
  },
  {
   "cell_type": "code",
   "execution_count": 44,
   "metadata": {},
   "outputs": [
    {
     "data": {
      "text/plain": [
       "['God', 'God', 'Night', 'Behold']"
      ]
     },
     "execution_count": 44,
     "metadata": {},
     "output_type": "execute_result"
    }
   ],
   "source": [
    "[item.text for item in doc2.ents if item.label_ == \"PERSON\"]"
   ]
  },
  {
   "cell_type": "code",
   "execution_count": 45,
   "metadata": {},
   "outputs": [
    {
     "name": "stdout",
     "output_type": "stream",
     "text": [
      "earth LOC\n",
      "earth LOC\n",
      "God PERSON\n",
      "God PERSON\n",
      "Night PERSON\n",
      "the evening and the morning TIME\n",
      "the first day DATE\n",
      "the second day DATE\n",
      "one CARDINAL\n",
      "Earth LOC\n",
      "earth LOC\n",
      "earth LOC\n",
      "the third day DATE\n",
      "the day DATE\n",
      "seasons DATE\n",
      "days DATE\n",
      "years DATE\n",
      "earth LOC\n",
      "two CARDINAL\n",
      "the day DATE\n",
      "the night TIME\n",
      "the day DATE\n",
      "the night TIME\n",
      "the evening and the morning TIME\n",
      "the fourth day DATE\n",
      "the fifth day DATE\n",
      "Behold PERSON\n",
      "earth LOC\n",
      "earth LOC\n",
      "earth LOC\n",
      "the sixth day DATE\n"
     ]
    }
   ],
   "source": [
    "for item in doc2.ents:\n",
    "    print (item.text, item.label_)"
   ]
  },
  {
   "cell_type": "code",
   "execution_count": null,
   "metadata": {
    "collapsed": true
   },
   "outputs": [],
   "source": []
  }
 ],
 "metadata": {
  "kernelspec": {
   "display_name": "Python [conda root]",
   "language": "python",
   "name": "conda-root-py"
  },
  "language_info": {
   "codemirror_mode": {
    "name": "ipython",
    "version": 3
   },
   "file_extension": ".py",
   "mimetype": "text/x-python",
   "name": "python",
   "nbconvert_exporter": "python",
   "pygments_lexer": "ipython3",
   "version": "3.5.3"
  }
 },
 "nbformat": 4,
 "nbformat_minor": 2
}
