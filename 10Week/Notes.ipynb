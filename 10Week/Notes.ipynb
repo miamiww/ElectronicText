{
 "cells": [
  {
   "cell_type": "markdown",
   "metadata": {},
   "source": [
    "## Pronouncing"
   ]
  },
  {
   "cell_type": "code",
   "execution_count": 2,
   "metadata": {},
   "outputs": [],
   "source": [
    "import pronouncing"
   ]
  },
  {
   "cell_type": "code",
   "execution_count": 4,
   "metadata": {},
   "outputs": [
    {
     "data": {
      "text/plain": [
       "['P ER0 M IH1 T', 'P ER1 M IH2 T']"
      ]
     },
     "execution_count": 4,
     "metadata": {},
     "output_type": "execute_result"
    }
   ],
   "source": [
    "pronouncing.phones_for_word(\"permit\")"
   ]
  },
  {
   "cell_type": "code",
   "execution_count": 5,
   "metadata": {
    "collapsed": true
   },
   "outputs": [],
   "source": [
    "text = \"april is the cruelest month breeding lilacs out of the dead\""
   ]
  },
  {
   "cell_type": "code",
   "execution_count": 6,
   "metadata": {
    "collapsed": true
   },
   "outputs": [],
   "source": [
    "words = text.split()"
   ]
  },
  {
   "cell_type": "code",
   "execution_count": 16,
   "metadata": {
    "collapsed": true
   },
   "outputs": [],
   "source": [
    "from collections import Counter"
   ]
  },
  {
   "cell_type": "code",
   "execution_count": 17,
   "metadata": {
    "collapsed": true
   },
   "outputs": [],
   "source": [
    "all_phones = []\n",
    "for item in words:\n",
    "    phones = pronouncing.phones_for_word(item)[0]\n",
    "    sounds = phones.split()\n",
    "    all_phones.extend(sounds)"
   ]
  },
  {
   "cell_type": "code",
   "execution_count": 19,
   "metadata": {},
   "outputs": [
    {
     "data": {
      "text/plain": [
       "[('L', 4),\n",
       " ('AH0', 4),\n",
       " ('R', 3),\n",
       " ('D', 3),\n",
       " ('S', 2),\n",
       " ('T', 2),\n",
       " ('DH', 2),\n",
       " ('K', 2),\n",
       " ('AH1', 2),\n",
       " ('EH1', 1)]"
      ]
     },
     "execution_count": 19,
     "metadata": {},
     "output_type": "execute_result"
    }
   ],
   "source": [
    "Counter(all_phones).most_common(10)"
   ]
  },
  {
   "cell_type": "code",
   "execution_count": 21,
   "metadata": {},
   "outputs": [
    {
     "data": {
      "text/plain": [
       "['biddle',\n",
       " \"biddle's\",\n",
       " 'cadiddlehopper',\n",
       " 'criddle',\n",
       " 'fiddle',\n",
       " 'fiddled',\n",
       " 'fiddler',\n",
       " \"fiddler's\",\n",
       " 'fiddlers',\n",
       " 'fiddles',\n",
       " 'fidelcor',\n",
       " 'friddle',\n",
       " 'idaline',\n",
       " 'kiddle',\n",
       " 'liddell',\n",
       " 'liddle',\n",
       " 'middle',\n",
       " 'middle-aged',\n",
       " 'middle-class',\n",
       " 'middle-earth',\n",
       " 'middle-income',\n",
       " 'middle-of-the-road',\n",
       " 'middle-upper',\n",
       " 'middlebrook',\n",
       " 'middlebrooks',\n",
       " 'middleburg',\n",
       " 'middlebury',\n",
       " 'middlekauff',\n",
       " 'middleman',\n",
       " 'middlemen',\n",
       " 'middlemiss',\n",
       " 'middlesex',\n",
       " 'middlesworth',\n",
       " 'middleton',\n",
       " 'middletown',\n",
       " 'middleweight',\n",
       " 'middling',\n",
       " 'piddle',\n",
       " 'piddles',\n",
       " 'piddling',\n",
       " 'riddell',\n",
       " 'riddle',\n",
       " 'riddled',\n",
       " 'riddles',\n",
       " 'rydell',\n",
       " 'schmidl',\n",
       " 'shideler',\n",
       " 'siddall',\n",
       " 'siddeley',\n",
       " 'siddell',\n",
       " 'siddle',\n",
       " 'spidel',\n",
       " 'spidell',\n",
       " 'twiddle',\n",
       " 'widdle',\n",
       " 'widdled',\n",
       " 'widell']"
      ]
     },
     "execution_count": 21,
     "metadata": {},
     "output_type": "execute_result"
    }
   ],
   "source": [
    "pronouncing.search(\"IH1 D AH0 L\")"
   ]
  },
  {
   "cell_type": "code",
   "execution_count": 23,
   "metadata": {},
   "outputs": [
    {
     "data": {
      "text/plain": [
       "['birddog', 'goddam', 'headdresses', 'midday']"
      ]
     },
     "execution_count": 23,
     "metadata": {},
     "output_type": "execute_result"
    }
   ],
   "source": [
    "pronouncing.search(\"D D\")"
   ]
  },
  {
   "cell_type": "code",
   "execution_count": 24,
   "metadata": {},
   "outputs": [
    {
     "data": {
      "text/plain": [
       "['splain',\n",
       " 'splaine',\n",
       " 'splash',\n",
       " 'splashed',\n",
       " 'splashes',\n",
       " 'splashing',\n",
       " 'splashy',\n",
       " 'splat',\n",
       " 'splatter',\n",
       " 'splattered',\n",
       " 'splattering',\n",
       " 'splatters',\n",
       " 'splawn',\n",
       " 'spleen',\n",
       " 'splendid',\n",
       " 'splendidly',\n",
       " 'splendor',\n",
       " 'splenic',\n",
       " 'splenic',\n",
       " 'splice',\n",
       " 'spliced',\n",
       " 'splices',\n",
       " 'splichal',\n",
       " 'splicing',\n",
       " 'splint',\n",
       " 'splinter',\n",
       " 'splintered',\n",
       " 'splintering',\n",
       " 'splinters',\n",
       " 'splintery',\n",
       " 'splints',\n",
       " 'split',\n",
       " 'splits',\n",
       " 'splitt',\n",
       " 'splitter',\n",
       " 'splitting',\n",
       " 'splurge',\n",
       " 'splurged',\n",
       " 'splurges',\n",
       " 'splurging']"
      ]
     },
     "execution_count": 24,
     "metadata": {},
     "output_type": "execute_result"
    }
   ],
   "source": [
    "pronouncing.search(\"^S P L\")"
   ]
  },
  {
   "cell_type": "code",
   "execution_count": 26,
   "metadata": {},
   "outputs": [
    {
     "data": {
      "text/plain": [
       "3"
      ]
     },
     "execution_count": 26,
     "metadata": {},
     "output_type": "execute_result"
    }
   ],
   "source": [
    "programming_phones = pronouncing.phones_for_word(\"programming\")[0]\n",
    "pronouncing.syllable_count(programming_phones)"
   ]
  },
  {
   "cell_type": "code",
   "execution_count": 29,
   "metadata": {},
   "outputs": [],
   "source": [
    "elliot_phones = [pronouncing.phones_for_word(item)[0] for item in text.split()]"
   ]
  },
  {
   "cell_type": "code",
   "execution_count": 32,
   "metadata": {},
   "outputs": [
    {
     "data": {
      "text/plain": [
       "15"
      ]
     },
     "execution_count": 32,
     "metadata": {},
     "output_type": "execute_result"
    }
   ],
   "source": [
    "sum([pronouncing.syllable_count(item) for item in elliot_phones])\n"
   ]
  },
  {
   "cell_type": "code",
   "execution_count": 34,
   "metadata": {},
   "outputs": [
    {
     "data": {
      "text/plain": [
       "'120'"
      ]
     },
     "execution_count": 34,
     "metadata": {},
     "output_type": "execute_result"
    }
   ],
   "source": [
    "#working with meter\n",
    "pronouncing.stresses(programming_phones)"
   ]
  },
  {
   "cell_type": "code",
   "execution_count": 35,
   "metadata": {
    "collapsed": true
   },
   "outputs": [],
   "source": [
    "condescending = pronouncing.phones_for_word(\"condescending\")[0]"
   ]
  },
  {
   "cell_type": "code",
   "execution_count": 36,
   "metadata": {},
   "outputs": [
    {
     "data": {
      "text/plain": [
       "'2010'"
      ]
     },
     "execution_count": 36,
     "metadata": {},
     "output_type": "execute_result"
    }
   ],
   "source": [
    "pronouncing.stresses(condescending)"
   ]
  },
  {
   "cell_type": "code",
   "execution_count": 39,
   "metadata": {},
   "outputs": [
    {
     "data": {
      "text/plain": [
       "'101010110121101'"
      ]
     },
     "execution_count": 39,
     "metadata": {},
     "output_type": "execute_result"
    }
   ],
   "source": [
    "''.join([pronouncing.stresses(item) for item in elliot_phones])"
   ]
  },
  {
   "cell_type": "code",
   "execution_count": 41,
   "metadata": {},
   "outputs": [
    {
     "data": {
      "text/plain": [
       "['middle-of-the-road', 'videocassette', 'videocassettes']"
      ]
     },
     "execution_count": 41,
     "metadata": {},
     "output_type": "execute_result"
    }
   ],
   "source": [
    "pronouncing.search_stresses(\"10002\")"
   ]
  },
  {
   "cell_type": "code",
   "execution_count": 46,
   "metadata": {},
   "outputs": [
    {
     "data": {
      "text/plain": [
       "['overrepresent']"
      ]
     },
     "execution_count": 46,
     "metadata": {},
     "output_type": "execute_result"
    }
   ],
   "source": [
    "pronouncing.search_stresses(\"^10201$\")"
   ]
  },
  {
   "cell_type": "code",
   "execution_count": 50,
   "metadata": {},
   "outputs": [
    {
     "data": {
      "text/plain": [
       "['anfal', 'asean', 'cacld', 'cnn.com', 'cnnfn', 'npr.org', 'sffed']"
      ]
     },
     "execution_count": 50,
     "metadata": {},
     "output_type": "execute_result"
    }
   ],
   "source": [
    "pronouncing.search_stresses(\"^11111$\")"
   ]
  },
  {
   "cell_type": "code",
   "execution_count": 51,
   "metadata": {},
   "outputs": [
    {
     "data": {
      "text/plain": [
       "['deader',\n",
       " 'eder',\n",
       " 'fedder',\n",
       " 'feder',\n",
       " 'fedor',\n",
       " 'header',\n",
       " 'leder',\n",
       " 'lehder',\n",
       " 'maeder',\n",
       " 'medar',\n",
       " 'prijedor',\n",
       " 'raeder',\n",
       " 'redder',\n",
       " 'reder',\n",
       " 'rehder',\n",
       " 'schraeder',\n",
       " 'shredder',\n",
       " 'spreader',\n",
       " 'tedder',\n",
       " 'vedder']"
      ]
     },
     "execution_count": 51,
     "metadata": {},
     "output_type": "execute_result"
    }
   ],
   "source": [
    "pronouncing.rhymes('cheddar')"
   ]
  },
  {
   "cell_type": "code",
   "execution_count": 53,
   "metadata": {},
   "outputs": [
    {
     "data": {
      "text/plain": [
       "'AE2 M IH0 NG'"
      ]
     },
     "execution_count": 53,
     "metadata": {},
     "output_type": "execute_result"
    }
   ],
   "source": [
    "pronouncing.rhyming_part(programming_phones)"
   ]
  },
  {
   "cell_type": "code",
   "execution_count": 57,
   "metadata": {},
   "outputs": [
    {
     "data": {
      "text/plain": [
       "True"
      ]
     },
     "execution_count": 57,
     "metadata": {},
     "output_type": "execute_result"
    }
   ],
   "source": [
    "\"juice\" in pronouncing.rhymes('goose')"
   ]
  },
  {
   "cell_type": "code",
   "execution_count": null,
   "metadata": {
    "collapsed": true
   },
   "outputs": [],
   "source": []
  }
 ],
 "metadata": {
  "kernelspec": {
   "display_name": "Python [conda root]",
   "language": "python",
   "name": "conda-root-py"
  },
  "language_info": {
   "codemirror_mode": {
    "name": "ipython",
    "version": 3
   },
   "file_extension": ".py",
   "mimetype": "text/x-python",
   "name": "python",
   "nbconvert_exporter": "python",
   "pygments_lexer": "ipython3",
   "version": "3.5.3"
  }
 },
 "nbformat": 4,
 "nbformat_minor": 2
}
